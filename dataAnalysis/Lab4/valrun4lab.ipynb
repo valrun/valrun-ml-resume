{
 "cells": [
  {
   "cell_type": "markdown",
   "metadata": {
    "collapsed": true,
    "pycharm": {
     "name": "#%% md\n"
    }
   },
   "source": [
    " # Лабораторная работа №4\n",
    "\n",
    "Выполнила Рындина Валерия, M33351"
   ]
  },
  {
   "cell_type": "code",
   "execution_count": 1,
   "metadata": {
    "pycharm": {
     "name": "#%%\n"
    }
   },
   "outputs": [],
   "source": [
    "import numpy as np\n",
    "import pandas as pd\n",
    "import matplotlib.pyplot as plt\n",
    "from sklearn.model_selection import train_test_split\n",
    "from sklearn.neighbors import KNeighborsClassifier\n",
    "from sklearn.svm import SVC\n",
    "from sklearn.ensemble import RandomForestClassifier\n",
    "from sklearn.metrics import accuracy_score\n",
    "from copy import copy\n",
    "from scipy import stats\n",
    "from sklearn.metrics import precision_recall_curve, recall_score, precision_score, f1_score"
   ]
  },
  {
   "cell_type": "markdown",
   "metadata": {
    "pycharm": {
     "name": "#%% md\n"
    }
   },
   "source": [
    "1. Выберите один из датасетов первой лабораторной"
   ]
  },
  {
   "cell_type": "code",
   "execution_count": 2,
   "metadata": {
    "pycharm": {
     "name": "#%%\n"
    }
   },
   "outputs": [],
   "source": [
    "dt_cases = pd.read_csv('data/raw/CasesWithDistance.csv')"
   ]
  },
  {
   "cell_type": "markdown",
   "metadata": {},
   "source": [
    "2. Найдите в данных признак, который будете предсказывать\n",
    "\n",
    "    * Если это категория, то у неё должно быть от 2 до 10 значений (например колонка species в датасете миграции птиц содержит 3 категории)\n",
    "\n",
    "    * Если признак количественный, то его нужно дискретизировать (например для популярности трека в датасете spotify можно разделить треки на 3 категории: 0-20 - популярные, 21-50 - обычные, 51 - 100 - непопулярные). Полученную категорию записать в датафрейм как отдельную колонку"
   ]
  },
  {
   "cell_type": "code",
   "execution_count": 3,
   "metadata": {
    "pycharm": {
     "name": "#%%\n"
    }
   },
   "outputs": [
    {
     "name": "stdout",
     "output_type": "stream",
     "text": [
      "describe:\n",
      "count     171.000000\n",
      "mean       66.637427\n",
      "std       358.109657\n",
      "min         1.000000\n",
      "25%         4.000000\n",
      "50%        10.000000\n",
      "75%        34.000000\n",
      "max      4511.000000\n",
      "Name: confirmed, dtype: float64\n"
     ]
    },
    {
     "data": {
      "text/plain": "<Figure size 432x288 with 1 Axes>",
      "image/png": "[encoded data removed]"
     },
     "metadata": {
      "needs_background": "light"
     },
     "output_type": "display_data"
    }
   ],
   "source": [
    "dt_cases = dt_cases.drop(dt_cases[dt_cases.confirmed <= 0].index)\n",
    "sorted_confirmed = dt_cases.confirmed.sort_values(ascending=False)\n",
    "\n",
    "print(\"describe:\")\n",
    "print(sorted_confirmed.describe())\n",
    "\n",
    "plt.hist(np.log2(sorted_confirmed))\n",
    "plt.title('The accumulated number of the confirmed in the cases')\n",
    "plt.xlabel(\"power of count of cases\")\n",
    "plt.ylabel(\"number of confirmed\")\n",
    "plt.show()"
   ]
  },
  {
   "cell_type": "markdown",
   "metadata": {
    "pycharm": {
     "name": "#%% md\n"
    }
   },
   "source": [
    "* 1-4 : немного случаев заболевания\n",
    "* 5-32 : средне\n",
    "* 33+ : много"
   ]
  },
  {
   "cell_type": "code",
   "execution_count": 4,
   "metadata": {
    "pycharm": {
     "name": "#%%\n"
    }
   },
   "outputs": [
    {
     "data": {
      "text/plain": "<Figure size 432x288 with 1 Axes>",
      "image/png": "[encoded data removed]"
     },
     "metadata": {
      "needs_background": "light"
     },
     "output_type": "display_data"
    }
   ],
   "source": [
    "def create_confirmed_group(current_confirmed):\n",
    "    if current_confirmed < 5:\n",
    "        return 0\n",
    "    if current_confirmed < 33:\n",
    "        return 1\n",
    "    return 2\n",
    "\n",
    "dt_cases = dt_cases.assign(confirmedGroup=dt_cases.confirmed.apply(lambda x: create_confirmed_group(x)))\n",
    "\n",
    "plt.hist(dt_cases.confirmedGroup)\n",
    "plt.title('The accumulated number of the confirmed in the groups')\n",
    "plt.xlabel(\"group\")\n",
    "plt.ylabel(\"number of confirmed\")\n",
    "plt.show()\n",
    "\n",
    "# dt_cases = dt_cases.assign(hashProvince=dt_cases.province.apply(lambda x: hash(x)))\n",
    "# dt_cases = dt_cases.assign(hashCity=dt_cases.city.apply(lambda x: hash(x)))\n",
    "dt_cases = dt_cases.assign(new_id=dt_cases.case_id.apply(lambda x: x % 100))\n",
    "\n",
    "dt_cases.to_csv('../Lab5/data/raw/Case.csv')"
   ]
  },
  {
   "cell_type": "markdown",
   "metadata": {},
   "source": [
    "3. Выделите признаки для предсказания\n",
    "\n",
    "    Используйте от 2 до 5 количественных признаков для предсказания целевой переменной"
   ]
  },
  {
   "cell_type": "code",
   "execution_count": 5,
   "metadata": {
    "pycharm": {
     "name": "#%%\n"
    }
   },
   "outputs": [],
   "source": [
    "marks = ['distance','new_id','latitude','longitude']\n",
    "\n",
    "x = dt_cases[marks].values.tolist()\n",
    "y = dt_cases.confirmedGroup.values.tolist()\n",
    "\n",
    "x_train, x_test, y_train, y_test = train_test_split(x, y, shuffle=True, stratify=y, test_size=0.3)\n"
   ]
  },
  {
   "cell_type": "code",
   "execution_count": 6,
   "metadata": {
    "pycharm": {
     "name": "#%%\n"
    }
   },
   "outputs": [],
   "source": [
    "knn_clf = KNeighborsClassifier()\n",
    "svm_clf = SVC()\n",
    "forest_clf = RandomForestClassifier()\n",
    "\n",
    "# Обучим классификаторы на тренировочных данных\n",
    "for clf in [knn_clf, svm_clf, forest_clf]:\n",
    "    clf.fit(x_train, y_train)\n",
    "\n",
    "# Получим значение метки для тестового набора\n",
    "knn_pred = knn_clf.predict(x_test)\n",
    "svm_pred = svm_clf.predict(x_test)\n",
    "forest_pred = forest_clf.predict(x_test)"
   ]
  },
  {
   "cell_type": "markdown",
   "metadata": {},
   "source": [
    "4. Проверьте нормальность количественных признаков\n",
    "\n",
    "    Используйте статистический тест из лекции. Если распределение является лог-нормальным, логарифмируйте его и проверьте на нормальность\n",
    "\n",
    "    Как минимум 1 из признаков должен быть нормальным"
   ]
  },
  {
   "cell_type": "code",
   "execution_count": 7,
   "outputs": [
    {
     "name": "stdout",
     "output_type": "stream",
     "text": [
      "NormaltestResult(statistic=6.36338877516726, pvalue=0.041515252564930834)\n"
     ]
    },
    {
     "data": {
      "text/plain": "<Figure size 432x288 with 1 Axes>",
      "image/png": "[encoded data removed]"
     },
     "metadata": {
      "needs_background": "light"
     },
     "output_type": "display_data"
    }
   ],
   "source": [
    "print(stats.normaltest(dt_cases.distance))\n",
    "plt.hist(dt_cases.distance)\n",
    "plt.title('The accumulated number of the confirmed in the groups')\n",
    "plt.xlabel(\"distance, km\")\n",
    "plt.ylabel(\"number of confirmed\")\n",
    "plt.show()"
   ],
   "metadata": {
    "collapsed": false,
    "pycharm": {
     "name": "#%%\n"
    }
   }
  },
  {
   "cell_type": "markdown",
   "metadata": {
    "pycharm": {
     "name": "#%% md\n"
    }
   },
   "source": [
    "5. Покажите качество предсказания модели с помощью метрик\n",
    "\n",
    "    Метрика должна учитывать баланс классов в датасете"
   ]
  },
  {
   "cell_type": "code",
   "execution_count": 8,
   "outputs": [
    {
     "name": "stdout",
     "output_type": "stream",
     "text": [
      "Leaderboard of KNeighborsClassifier :\n",
      "1. precision: 0.6738782051282051\n",
      "2. f1: 0.6390094499338197\n",
      "3. accuracy: 0.6346153846153846\n",
      "\n",
      "Leaderboard of SVC :\n",
      "1. accuracy: 0.4807692307692308\n",
      "2. f1: 0.31218781218781216\n",
      "3. precision: 0.2311390532544379\n",
      "\n",
      "Leaderboard of RandomForestClassifier :\n",
      "1. precision: 0.7015050167224081\n",
      "2. f1: 0.695673076923077\n",
      "3. accuracy: 0.6923076923076923\n",
      "\n"
     ]
    },
    {
     "name": "stderr",
     "output_type": "stream",
     "text": [
      "/home/valrun/Repositories/CT-19/5 sem/pythonProject/venv/lib/python3.8/site-packages/sklearn/metrics/_classification.py:1308: UndefinedMetricWarning: Precision is ill-defined and being set to 0.0 in labels with no predicted samples. Use `zero_division` parameter to control this behavior.\n",
      "  _warn_prf(average, modifier, msg_start, len(result))\n"
     ]
    }
   ],
   "source": [
    "for (name, pred) in [('KNeighborsClassifier', knn_pred), ('SVC', svm_pred), ('RandomForestClassifier', forest_pred)]:\n",
    "    acc_score = accuracy_score(y_test, pred)\n",
    "    precision = precision_score(y_test, pred, average=\"weighted\")\n",
    "    f1 = f1_score(y_test, pred, average='weighted')\n",
    "\n",
    "    leaderboard = sorted([\n",
    "        ('accuracy', acc_score),\n",
    "        ('precision', precision),\n",
    "        ('f1', f1)\n",
    "    ], key=lambda pair: pair[1], reverse=True)\n",
    "\n",
    "    print('Leaderboard of',name,':')\n",
    "    for idx, (leader_name, leader_score) in enumerate(leaderboard):\n",
    "        print(f'{idx + 1}. {leader_name}: {leader_score}')\n",
    "    print()\n"
   ],
   "metadata": {
    "collapsed": false,
    "pycharm": {
     "name": "#%%\n"
    }
   }
  }
 ],
 "metadata": {
  "kernelspec": {
   "display_name": "Python 3 (ipykernel)",
   "language": "python",
   "name": "python3"
  },
  "language_info": {
   "codemirror_mode": {
    "name": "ipython",
    "version": 3
   },
   "file_extension": ".py",
   "mimetype": "text/x-python",
   "name": "python",
   "nbconvert_exporter": "python",
   "pygments_lexer": "ipython3",
   "version": "3.8.10"
  }
 },
 "nbformat": 4,
 "nbformat_minor": 1
}
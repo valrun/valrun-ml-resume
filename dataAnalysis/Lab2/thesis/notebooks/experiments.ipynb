{
 "cells": [
  {
   "cell_type": "code",
   "execution_count": 1,
   "metadata": {
    "collapsed": true
   },
   "outputs": [],
   "source": [
    "%matplotlib inline"
   ]
  },
  {
   "cell_type": "markdown",
   "metadata": {},
   "source": [
    "# Experiments"
   ]
  },
  {
   "cell_type": "markdown",
   "metadata": {},
   "source": [
    "## Algorithm Performance"
   ]
  },
  {
   "cell_type": "code",
   "execution_count": 12,
   "metadata": {
    "collapsed": true
   },
   "outputs": [],
   "source": [
    "from module.config import prefix, parameters, base_path\n",
    "from module.helper_classes import PrefixExperimentLogParser, PrefixDriverWithExperimentLogParser\n",
    "\n",
    "parser_spark = PrefixExperimentLogParser(prefix=prefix, parameters=parameters)\n",
    "parser_local = PrefixExperimentLogParser(prefix=prefix, parameters=parameters)\n",
    "parser_local_2 = PrefixExperimentLogParser(prefix=prefix, parameters=parameters)\n",
    "parser_framework = PrefixDriverWithExperimentLogParser(prefix=prefix, parameters=parameters)\n",
    "parser_framework_2 = PrefixExperimentLogParser(prefix=prefix, parameters=parameters)\n",
    "parser_framework_driver = PrefixDriverWithExperimentLogParser(prefix=prefix, parameters=parameters)"
   ]
  },
  {
   "cell_type": "markdown",
   "metadata": {},
   "source": [
    "### Results - Epsilon Dataset"
   ]
  },
  {
   "cell_type": "code",
   "execution_count": 13,
   "metadata": {
    "collapsed": true
   },
   "outputs": [],
   "source": [
    "alg_epsilon_local_path = base_path + 'local/exp_local_epsilon_h1.txt'\n",
    "alg_epsilon_spark_path = base_path + 'spark/exp_spark_epsilon_h1.txt'\n",
    "alg_epsilon_framework_path = base_path + 'exa/exp_exa_epsilon_h1/exp_exa_epsilon_h1_091.txt'"
   ]
  },
  {
   "cell_type": "markdown",
   "metadata": {},
   "source": [
    "### Results - URL Dataset"
   ]
  },
  {
   "cell_type": "code",
   "execution_count": 14,
   "metadata": {
    "collapsed": true
   },
   "outputs": [],
   "source": [
    "alg_url_local_path = base_path + 'local/exp_local_url_h1.txt'\n",
    "alg_url_spark_path = base_path + 'spark/exp_spark_url_h1.txt'\n",
    "alg_url_framework_path = base_path + 'exa/exp_exa_url_h1/exp_exa_url_h1_091.txt'"
   ]
  },
  {
   "cell_type": "markdown",
   "metadata": {},
   "source": [
    "### Figure"
   ]
  },
  {
   "cell_type": "code",
   "execution_count": 15,
   "metadata": {},
   "outputs": [
    {
     "ename": "FileNotFoundError",
     "evalue": "[Errno 2] No such file or directory: '/Users/Chris/Studies/thesis/experiment_results/local/exp_local_epsilon_h1.txt'",
     "output_type": "error",
     "traceback": [
      "\u001B[0;31m---------------------------------------------------------------------------\u001B[0m",
      "\u001B[0;31mFileNotFoundError\u001B[0m                         Traceback (most recent call last)",
      "\u001B[0;32m/tmp/ipykernel_22386/3541557637.py\u001B[0m in \u001B[0;36m<module>\u001B[0;34m\u001B[0m\n\u001B[1;32m      3\u001B[0m \u001B[0mplotter\u001B[0m \u001B[0;34m=\u001B[0m \u001B[0mExperimentDoubleLogPlotter\u001B[0m\u001B[0;34m(\u001B[0m\u001B[0;34m)\u001B[0m\u001B[0;34m\u001B[0m\u001B[0;34m\u001B[0m\u001B[0m\n\u001B[1;32m      4\u001B[0m \u001B[0;31m# Epsilon\u001B[0m\u001B[0;34m\u001B[0m\u001B[0;34m\u001B[0m\u001B[0;34m\u001B[0m\u001B[0m\n\u001B[0;32m----> 5\u001B[0;31m \u001B[0mplotter\u001B[0m\u001B[0;34m.\u001B[0m\u001B[0madd_experiment\u001B[0m\u001B[0;34m(\u001B[0m\u001B[0mparser_local\u001B[0m\u001B[0;34m.\u001B[0m\u001B[0mparse\u001B[0m\u001B[0;34m(\u001B[0m\u001B[0malg_epsilon_local_path\u001B[0m\u001B[0;34m)\u001B[0m\u001B[0;34m,\u001B[0m \u001B[0msubplot\u001B[0m\u001B[0;34m=\u001B[0m\u001B[0;36m1\u001B[0m\u001B[0;34m,\u001B[0m \u001B[0mname\u001B[0m\u001B[0;34m=\u001B[0m\u001B[0;34m'Baseline'\u001B[0m\u001B[0;34m,\u001B[0m \u001B[0mevery_n\u001B[0m\u001B[0;34m=\u001B[0m\u001B[0;36m1\u001B[0m\u001B[0;34m)\u001B[0m\u001B[0;34m\u001B[0m\u001B[0;34m\u001B[0m\u001B[0m\n\u001B[0m\u001B[1;32m      6\u001B[0m \u001B[0mplotter\u001B[0m\u001B[0;34m.\u001B[0m\u001B[0madd_experiment\u001B[0m\u001B[0;34m(\u001B[0m\u001B[0mparser_spark\u001B[0m\u001B[0;34m.\u001B[0m\u001B[0mparse\u001B[0m\u001B[0;34m(\u001B[0m\u001B[0malg_epsilon_spark_path\u001B[0m\u001B[0;34m)\u001B[0m\u001B[0;34m,\u001B[0m \u001B[0msubplot\u001B[0m\u001B[0;34m=\u001B[0m\u001B[0;36m1\u001B[0m\u001B[0;34m,\u001B[0m \u001B[0mname\u001B[0m\u001B[0;34m=\u001B[0m\u001B[0;34m'Spark'\u001B[0m\u001B[0;34m,\u001B[0m \u001B[0mevery_n\u001B[0m\u001B[0;34m=\u001B[0m\u001B[0;36m5\u001B[0m\u001B[0;34m)\u001B[0m\u001B[0;34m\u001B[0m\u001B[0;34m\u001B[0m\u001B[0m\n\u001B[1;32m      7\u001B[0m \u001B[0mplotter\u001B[0m\u001B[0;34m.\u001B[0m\u001B[0madd_experiment\u001B[0m\u001B[0;34m(\u001B[0m\u001B[0mparser_framework_2\u001B[0m\u001B[0;34m.\u001B[0m\u001B[0mparse\u001B[0m\u001B[0;34m(\u001B[0m\u001B[0malg_epsilon_framework_path\u001B[0m\u001B[0;34m,\u001B[0m \u001B[0mno_params\u001B[0m\u001B[0;34m=\u001B[0m\u001B[0;32mTrue\u001B[0m\u001B[0;34m)\u001B[0m\u001B[0;34m,\u001B[0m \u001B[0msubplot\u001B[0m\u001B[0;34m=\u001B[0m\u001B[0;36m1\u001B[0m\u001B[0;34m,\u001B[0m \u001B[0mname\u001B[0m\u001B[0;34m=\u001B[0m\u001B[0;34m'ExaML'\u001B[0m\u001B[0;34m,\u001B[0m \u001B[0mevery_n\u001B[0m\u001B[0;34m=\u001B[0m\u001B[0;36m5\u001B[0m\u001B[0;34m)\u001B[0m\u001B[0;34m\u001B[0m\u001B[0;34m\u001B[0m\u001B[0m\n",
      "\u001B[0;32m~/Repositories/CT-19/5 sem/pythonProject/Lab2/thesis/notebooks/module/helper_classes.py\u001B[0m in \u001B[0;36mparse\u001B[0;34m(self, file_path, no_params)\u001B[0m\n\u001B[1;32m     95\u001B[0m \u001B[0;34m\u001B[0m\u001B[0m\n\u001B[1;32m     96\u001B[0m     \u001B[0;32mdef\u001B[0m \u001B[0mparse\u001B[0m\u001B[0;34m(\u001B[0m\u001B[0mself\u001B[0m\u001B[0;34m,\u001B[0m \u001B[0mfile_path\u001B[0m\u001B[0;34m,\u001B[0m \u001B[0mno_params\u001B[0m\u001B[0;34m=\u001B[0m\u001B[0;32mFalse\u001B[0m\u001B[0;34m)\u001B[0m\u001B[0;34m:\u001B[0m\u001B[0;34m\u001B[0m\u001B[0;34m\u001B[0m\u001B[0m\n\u001B[0;32m---> 97\u001B[0;31m         \u001B[0;32mwith\u001B[0m \u001B[0mopen\u001B[0m\u001B[0;34m(\u001B[0m\u001B[0mfile_path\u001B[0m\u001B[0;34m,\u001B[0m \u001B[0;34m'r'\u001B[0m\u001B[0;34m)\u001B[0m \u001B[0;32mas\u001B[0m \u001B[0mf\u001B[0m\u001B[0;34m:\u001B[0m\u001B[0;34m\u001B[0m\u001B[0;34m\u001B[0m\u001B[0m\n\u001B[0m\u001B[1;32m     98\u001B[0m             \u001B[0mlines\u001B[0m \u001B[0;34m=\u001B[0m \u001B[0mPrefixExperimentLogParser\u001B[0m\u001B[0;34m.\u001B[0m\u001B[0mfilter_lines\u001B[0m\u001B[0;34m(\u001B[0m\u001B[0mf\u001B[0m\u001B[0;34m.\u001B[0m\u001B[0mreadlines\u001B[0m\u001B[0;34m(\u001B[0m\u001B[0;34m)\u001B[0m\u001B[0;34m,\u001B[0m \u001B[0mself\u001B[0m\u001B[0;34m.\u001B[0m\u001B[0m__prefix\u001B[0m\u001B[0;34m)\u001B[0m\u001B[0;34m\u001B[0m\u001B[0;34m\u001B[0m\u001B[0m\n\u001B[1;32m     99\u001B[0m \u001B[0;34m\u001B[0m\u001B[0m\n",
      "\u001B[0;31mFileNotFoundError\u001B[0m: [Errno 2] No such file or directory: '/Users/Chris/Studies/thesis/experiment_results/local/exp_local_epsilon_h1.txt'"
     ]
    }
   ],
   "source": [
    "from module.config import every_n5, every_n10, every_n50, every_n100\n",
    "from module.helper_classes import ExperimentDoubleLogPlotter\n",
    "\n",
    "plotter = ExperimentDoubleLogPlotter()\n",
    "# Epsilon\n",
    "plotter.add_experiment(parser_local.parse(alg_epsilon_local_path), subplot=1, name='Baseline', every_n=1)\n",
    "plotter.add_experiment(parser_spark.parse(alg_epsilon_spark_path), subplot=1, name='Spark', every_n=every_n5)\n",
    "plotter.add_experiment(parser_framework_2.parse(alg_epsilon_framework_path, no_params=True), subplot=1, name='ExaML', every_n=every_n5)\n",
    "# URL\n",
    "plotter.add_experiment(parser_local_2.parse(alg_url_local_path), subplot=2, name='Baseline', every_n=every_n10)\n",
    "plotter.add_experiment(parser_spark.parse(alg_url_spark_path), subplot=2, name='Spark', every_n=every_n50)\n",
    "plotter.add_experiment(parser_framework_2.parse(alg_url_framework_path, no_params=True), subplot=2, name='ExaML', every_n=every_n100)\n",
    "\n",
    "plotter.ylabel(r'Suboptimality: $O_B(\\alpha) - O_B(\\alpha^*)$')\n",
    "plotter.ylim(5e-4)\n",
    "plotter.figsize((14, 6))\n",
    "plotter.title('Epsilon - Suboptimality vs. Time', subplot=1)\n",
    "plotter.title('URL - Suboptimality vs. Time', subplot=2)\n",
    "#plotter.use_iterations()\n",
    "\n",
    "plotter.add_min_objectives(objective=0.21720414, subplot=1)\n",
    "plotter.add_min_objectives(objective=0.045041505, subplot=2)\n",
    "\n",
    "plotter.plot(filename='./../img/overall_perf_cmp.png',)"
   ]
  },
  {
   "cell_type": "markdown",
   "metadata": {},
   "source": [
    "## Communication Frequency"
   ]
  },
  {
   "cell_type": "markdown",
   "metadata": {},
   "source": [
    "### Results - Epsilon Dataset"
   ]
  },
  {
   "cell_type": "code",
   "execution_count": null,
   "metadata": {
    "collapsed": true
   },
   "outputs": [],
   "source": [
    "#comm_epsilon_local_path = base_path + 'local/exp_local_epsilon_h1.txt'\n",
    "comm_epsilon_spark_h01_path = base_path + 'spark/exp_spark_epsilon_h01.txt'\n",
    "comm_epsilon_spark_h1_path = base_path + 'spark/exp_spark_epsilon_h1.txt'\n",
    "comm_epsilon_framework_h1_path = base_path + 'exa/exp_exa_epsilon_h1_s3/exp_exa_epsilon_h1_090.txt'\n",
    "comm_epsilon_framework_h05_path = base_path + 'exa/exp_exa_epsilon_h05_s3/exp_exa_epsilon_h05_s3_090.txt'\n",
    "comm_epsilon_framework_h01_path = base_path + 'exa/exp_exa_epsilon_h01_s3/exp_exa_epsilon_h01_s3_090.txt'\n",
    "comm_epsilon_framework_h005_path = base_path + 'exa/exp_exa_epsilon_h005_s3/exp_exa_epsilon_h005_s3_090.txt'"
   ]
  },
  {
   "cell_type": "markdown",
   "metadata": {},
   "source": [
    "### Results - URL Dataset"
   ]
  },
  {
   "cell_type": "code",
   "execution_count": null,
   "metadata": {
    "collapsed": true
   },
   "outputs": [],
   "source": [
    "#alg_url_local_path = ''\n",
    "comm_url_spark_h01_path = base_path + 'spark/exp_spark_url_h01.txt'\n",
    "comm_url_spark_h1_path = base_path + 'spark/exp_spark_url_h1.txt'\n",
    "comm_url_framework_h1_path = base_path + 'exa/exp_exa_url_h1/exp_exa_url_h1_091.txt'\n",
    "comm_url_framework_h02_path = base_path + 'exa/exp_exa_url_h02_tap/exp_exa_url_h02_tap_091.txt'\n",
    "comm_url_framework_h05_path = base_path + 'exa/exp_exa_url_h05/exp_exa_url_h05_091.txt'"
   ]
  },
  {
   "cell_type": "markdown",
   "metadata": {},
   "source": [
    "### Figure"
   ]
  },
  {
   "cell_type": "code",
   "execution_count": null,
   "metadata": {},
   "outputs": [],
   "source": [
    "from module.config import every_n20\n",
    "\n",
    "plotter = ExperimentDoubleLogPlotter()\n",
    "# Epsilon\n",
    "plotter.add_experiment(parser_spark.parse(comm_epsilon_spark_h1_path), subplot=1, name='Spark - H:1.0', every_n=every_n10)\n",
    "plotter.add_experiment(parser_spark.parse(comm_epsilon_spark_h01_path), subplot=1, name='Spark - H:0.1', every_n=every_n50)\n",
    "plotter.add_experiment(parser_framework_2.parse(comm_epsilon_framework_h1_path, no_params=True), subplot=1, name='ExaML - H:1.0', every_n=every_n10)\n",
    "plotter.add_experiment(parser_framework_2.parse(comm_epsilon_framework_h05_path, no_params=True), subplot=1, name='ExaML - H:0.5', every_n=every_n20)\n",
    "plotter.add_experiment(parser_framework_2.parse(comm_epsilon_framework_h01_path, no_params=True), subplot=1, name='ExaML - H:0.1', every_n=every_n50)\n",
    "#plotter.add_experiment(parser_framework_2.parse(comm_epsilon_framework_h005_path, no_params=True), subplot=1, name='Framework - H:0.05', every_n=every_n100)\n",
    "\n",
    "# URL\n",
    "plotter.add_experiment(parser_spark.parse(comm_url_spark_h1_path), subplot=2, name='Spark - H:1.0', every_n=every_n20)\n",
    "plotter.add_experiment(parser_spark.parse(comm_url_spark_h01_path), subplot=2, name='Spark - H:0.1', every_n=every_n50)\n",
    "plotter.add_experiment(parser_framework_2.parse(comm_url_framework_h1_path, no_params=True), subplot=2, name='ExaML - H:1.0', every_n=every_n20)\n",
    "plotter.add_experiment(parser_framework_2.parse(comm_url_framework_h05_path, no_params=True), subplot=2, name='ExaML - H:0.5', every_n=every_n50)\n",
    "plotter.add_experiment(parser_framework_2.parse(comm_url_framework_h02_path, no_params=True), subplot=2, name='ExaML - H:0.2', every_n=200)\n",
    "\n",
    "plotter.ylabel(r'Suboptimality: $O_B(\\alpha) - O_B(\\alpha^*)$')\n",
    "plotter.ylim(5e-4)\n",
    "plotter.figsize((14, 6))\n",
    "plotter.title('Epsilon - Suboptimality vs. Time', subplot=1)\n",
    "plotter.title('URL - Suboptimality vs. Time', subplot=2)\n",
    "#plotter.use_iterations()\n",
    "\n",
    "plotter.add_min_objectives(objective=0.21719499, subplot=1)\n",
    "plotter.add_min_objectives(objective=0.04503669, subplot=2)\n",
    "\n",
    "plotter.plot(filename='./../img/comm_freq_cmp.png')"
   ]
  },
  {
   "cell_type": "markdown",
   "metadata": {},
   "source": [
    "## Syncronization Strategy"
   ]
  },
  {
   "cell_type": "markdown",
   "metadata": {},
   "source": [
    "### Results - Epsilon"
   ]
  },
  {
   "cell_type": "code",
   "execution_count": null,
   "metadata": {
    "collapsed": true
   },
   "outputs": [],
   "source": [
    "sst_epsilon_framework_bsp = base_path + 'exa/exp_exa_epsilon_h01/exp_exa_epsilon_h01_090.txt'\n",
    "sst_epsilon_framework_ssp = base_path + 'exa/exp_exa_epsilon_h01_s3/exp_exa_epsilon_h01_s3_090.txt'\n",
    "sst_epsilon_framework_tap = base_path + 'exa/exp_exa_epsilon_h01_tap/exp_exa_epsilon_h01_tap_090.txt'"
   ]
  },
  {
   "cell_type": "markdown",
   "metadata": {},
   "source": [
    "### Results - URL"
   ]
  },
  {
   "cell_type": "code",
   "execution_count": null,
   "metadata": {
    "collapsed": true
   },
   "outputs": [],
   "source": [
    "sst_url_framework_bsp = base_path + 'exa/exp_exa_url_h02/exp_exa_url_h02_091.txt'\n",
    "sst_url_framework_ssp = base_path + 'exa/exp_exa_url_h02_s3/exp_exa_url_h02_s3_091.txt'\n",
    "sst_url_framework_tap = base_path + 'exa/exp_exa_url_h02_tap/exp_exa_url_h02_tap_087.txt'"
   ]
  },
  {
   "cell_type": "markdown",
   "metadata": {},
   "source": [
    "### Figure"
   ]
  },
  {
   "cell_type": "code",
   "execution_count": null,
   "metadata": {},
   "outputs": [],
   "source": [
    "plotter = ExperimentDoubleLogPlotter()\n",
    "# Epsilon\n",
    "plotter.add_experiment(parser_framework_2.parse(sst_epsilon_framework_bsp, no_params=True), subplot=1, name='BSP', every_n=every_n50)\n",
    "plotter.add_experiment(parser_framework_2.parse(sst_epsilon_framework_ssp, no_params=True), subplot=1, name='SSP', every_n=every_n100)\n",
    "plotter.add_experiment(parser_framework_2.parse(sst_epsilon_framework_tap, no_params=True), subplot=1, name='TAP', every_n=every_n100)\n",
    "# URL\n",
    "plotter.add_experiment(parser_spark.parse(sst_url_framework_bsp, no_params=True), subplot=2, name='BSP', every_n=every_n100)\n",
    "plotter.add_experiment(parser_spark.parse(sst_url_framework_ssp, no_params=True), subplot=2, name='SSP', every_n=every_n50)\n",
    "plotter.add_experiment(parser_spark.parse(sst_url_framework_tap, no_params=True), subplot=2, name='TAP', every_n=every_n100)\n",
    "\n",
    "plotter.ylabel(r'Suboptimality: $O_B(\\alpha) - O_B(\\alpha^*)$')\n",
    "plotter.ylim(5e-4)\n",
    "plotter.figsize((14, 6))\n",
    "plotter.title('Epsilon - Suboptimality vs. Time', subplot=1)\n",
    "plotter.title('URL - Suboptimality vs. Time', subplot=2)\n",
    "#plotter.use_iterations()\n",
    "0.21719526\n",
    "plotter.add_min_objectives(objective=0.21719526, subplot=1)\n",
    "plotter.add_min_objectives(objective=0.046094768, subplot=2)\n",
    "\n",
    "plotter.plot(filename='./../img/sync_strat_cmp.png')"
   ]
  },
  {
   "cell_type": "markdown",
   "metadata": {},
   "source": [
    "## Merging Strategy"
   ]
  },
  {
   "cell_type": "markdown",
   "metadata": {},
   "source": [
    "### Results - Epsilon"
   ]
  },
  {
   "cell_type": "code",
   "execution_count": null,
   "metadata": {
    "collapsed": true
   },
   "outputs": [],
   "source": [
    "merg_epsilon_add = base_path + 'exa/exp_exa_epsilon_h01_s3/exp_exa_epsilon_h01_s3_091.txt'\n",
    "merg_epsilon_avg = base_path + 'exa/exp_exa_epsilon_h01_s3_avg/exp_exa_epsilon_h01_s3_avg_091.txt'"
   ]
  },
  {
   "cell_type": "markdown",
   "metadata": {},
   "source": [
    "### Results - URL"
   ]
  },
  {
   "cell_type": "code",
   "execution_count": null,
   "metadata": {
    "collapsed": true
   },
   "outputs": [],
   "source": [
    "merg_url_add = base_path + 'exa/exp_exa_url_h02_s3/exp_exa_url_h02_s3_091.txt'\n",
    "merg_url_avg = base_path + 'exa/exp_exa_url_h02_s3_avg/exp_exa_url_h02_s3_avg_091.txt'"
   ]
  },
  {
   "cell_type": "markdown",
   "metadata": {},
   "source": [
    "### Figure"
   ]
  },
  {
   "cell_type": "code",
   "execution_count": null,
   "metadata": {},
   "outputs": [],
   "source": [
    "plotter = ExperimentDoubleLogPlotter()\n",
    "# Epsilon\n",
    "plotter.add_experiment(parser_framework_2.parse(merg_epsilon_add, no_params=True), subplot=1, name=r'Adding', every_n=every_n10)\n",
    "plotter.add_experiment(parser_framework_2.parse(merg_epsilon_avg, no_params=True), subplot=1, name='Averaging', every_n=every_n10)\n",
    "# URL\n",
    "plotter.add_experiment(parser_framework_2.parse(merg_url_add, no_params=True), subplot=2, name='Adding', every_n=every_n50)\n",
    "plotter.add_experiment(parser_framework_2.parse(merg_url_avg, no_params=True), subplot=2, name='Averaging', every_n=every_n50)\n",
    "\n",
    "plotter.ylabel(r'Suboptimality: $O_B(\\alpha) - O_B(\\alpha^*)$')\n",
    "plotter.ylim(5e-4)\n",
    "plotter.figsize((14, 6))\n",
    "plotter.title('Epsilon - Suboptimality vs. Time', subplot=1)\n",
    "plotter.title('URL - Suboptimality vs. Time', subplot=2)\n",
    "#plotter.use_iterations()\n",
    "\n",
    "plotter.add_min_objectives(objective=0.21497042, subplot=1)\n",
    "plotter.add_min_objectives(objective=0.045502, subplot=2)\n",
    "\n",
    "plotter.plot(filename='./../img/merg_strat_cmp.png')"
   ]
  },
  {
   "cell_type": "markdown",
   "metadata": {},
   "source": [
    "## Filter Strategy"
   ]
  },
  {
   "cell_type": "markdown",
   "metadata": {},
   "source": [
    "### Results - URL"
   ]
  },
  {
   "cell_type": "code",
   "execution_count": null,
   "metadata": {
    "collapsed": true
   },
   "outputs": [],
   "source": [
    "filt_url_baseline = base_path + 'exa/exp_exa_url_h02_s3/exp_exa_url_h02_s3_091.txt'\n",
    "filt_url_rr = base_path + 'exa/exp_exa_url_h02_s3_rr/exp_exa_url_h02_s3_rr_091.txt'\n",
    "filt_url_rnd = base_path + 'exa/exp_exa_url_h02_s3_rnd_2/exp_exa_url_h02_s3_rnd_2_091.txt'\n",
    "filt_url_am = base_path + 'exa/exp_exa_url_h02_s3_am/exp_exa_url_h02_s3_am_091.txt'\n",
    "filt_url_rm = base_path + 'exa/test7.txt'"
   ]
  },
  {
   "cell_type": "markdown",
   "metadata": {},
   "source": [
    "### Figure"
   ]
  },
  {
   "cell_type": "code",
   "execution_count": null,
   "metadata": {},
   "outputs": [],
   "source": [
    "from module.helper_classes import ExperimentLogPlotter\n",
    "\n",
    "plotter = ExperimentLogPlotter()\n",
    "# UR\n",
    "plotter.add_experiment(parser_framework_2.parse(filt_url_baseline, no_params=True), name='Baseline', every_n=every_n20)\n",
    "plotter.add_experiment(parser_framework_2.parse(filt_url_rr, no_params=True), name='Round Robin', every_n=every_n20)\n",
    "plotter.add_experiment(parser_framework_2.parse(filt_url_rnd, no_params=True), name='Random', every_n=every_n20)\n",
    "plotter.add_experiment(parser_framework_2.parse(filt_url_am, no_params=True), name='Absolute Magnitude', every_n=every_n20)\n",
    "plotter.add_experiment(parser_framework_2.parse(filt_url_rm, no_params=True), name='Relative Magnitude', every_n=every_n20)\n",
    "\n",
    "plotter.ylabel(r'Suboptimality: $O_B(\\alpha) - O_B(\\alpha^*)$')\n",
    "plotter.ylim(5e-4)\n",
    "plotter.figsize((7, 6))\n",
    "plotter.title('Epsilon - Suboptimality vs. Time')\n",
    "plotter.title('URL - Suboptimality vs. Time')\n",
    "#plotter.use_iterations()\n",
    "plotter.add_min_objective(0.045502)\n",
    "\n",
    "plotter.plot(filename='./../img/filter_strat_cmp.png')"
   ]
  },
  {
   "cell_type": "code",
   "execution_count": null,
   "metadata": {
    "collapsed": true
   },
   "outputs": [],
   "source": []
  }
 ],
 "metadata": {
  "kernelspec": {
   "display_name": "Python 3",
   "language": "python",
   "name": "python3"
  },
  "language_info": {
   "codemirror_mode": {
    "name": "ipython",
    "version": 3
   },
   "file_extension": ".py",
   "mimetype": "text/x-python",
   "name": "python",
   "nbconvert_exporter": "python",
   "pygments_lexer": "ipython3",
   "version": "3.5.1"
  }
 },
 "nbformat": 4,
 "nbformat_minor": 2
}
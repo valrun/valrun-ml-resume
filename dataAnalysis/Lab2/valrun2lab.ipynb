{
 "cells": [
  {
   "cell_type": "markdown",
   "source": [
    " # Лабораторная работа №2\n",
    "\n",
    "Выполнила Рындина Валерия, M33351"
   ],
   "metadata": {
    "collapsed": false
   }
  },
  {
   "cell_type": "markdown",
   "id": "loose-emerald",
   "metadata": {},
   "source": [
    "## 1. ResolutionFailure: Your dependencies could not be resolved\n",
    "\n",
    "Найдите python пакет, имеющий зависимость от любого python пакета, использованного вами в первой лабораторной. Создайте свой пакет и установите его с конфликтующими зависимостями\n",
    "\n",
    "1. Создайте и загрузите в pypi свой пакет, проверьте, что его можно установить через pip\n",
    "   - [Мой пакет](https://pypi.org/project/packageForLab2/0.1/)\n",
    "\n",
    "2. Установите свой пакет с помощью pip"
   ]
  },
  {
   "cell_type": "code",
   "source": [
    "%pip install xarray\n",
    "%pip install packageForLab2"
   ],
   "metadata": {
    "collapsed": false,
    "pycharm": {
     "name": "#%%\n"
    }
   },
   "execution_count": 1,
   "outputs": [
    {
     "name": "stdout",
     "output_type": "stream",
     "text": [
      "Requirement already satisfied: xarray in /home/valrun/Repositories/CT-19/5 sem/pythonProject/venv/lib/python3.8/site-packages (0.20.2)\r\n",
      "Requirement already satisfied: numpy>=1.18 in /home/valrun/Repositories/CT-19/5 sem/pythonProject/venv/lib/python3.8/site-packages (from xarray) (1.21.4)\r\n",
      "Requirement already satisfied: pandas>=1.1 in /home/valrun/Repositories/CT-19/5 sem/pythonProject/venv/lib/python3.8/site-packages (from xarray) (1.2.3)\r\n",
      "Requirement already satisfied: pytz>=2017.3 in /home/valrun/Repositories/CT-19/5 sem/pythonProject/venv/lib/python3.8/site-packages (from pandas>=1.1->xarray) (2021.3)\r\n",
      "Requirement already satisfied: python-dateutil>=2.7.3 in /home/valrun/Repositories/CT-19/5 sem/pythonProject/venv/lib/python3.8/site-packages (from pandas>=1.1->xarray) (2.8.2)\r\n",
      "Requirement already satisfied: six>=1.5 in /home/valrun/Repositories/CT-19/5 sem/pythonProject/venv/lib/python3.8/site-packages (from python-dateutil>=2.7.3->pandas>=1.1->xarray) (1.16.0)\r\n",
      "\u001B[33mWARNING: You are using pip version 21.1.2; however, version 21.3.1 is available.\r\n",
      "You should consider upgrading via the '/home/valrun/Repositories/CT-19/5 sem/pythonProject/venv/bin/python -m pip install --upgrade pip' command.\u001B[0m\r\n",
      "Note: you may need to restart the kernel to use updated packages.\n",
      "Requirement already satisfied: packageForLab2==0.1 in /home/valrun/Repositories/CT-19/5 sem/pythonProject/venv/lib/python3.8/site-packages (0.1)\r\n",
      "Collecting pandas<1.0\r\n",
      "  Using cached pandas-0.25.3-cp38-cp38-manylinux1_x86_64.whl (10.4 MB)\r\n",
      "Requirement already satisfied: numpy>=1.13.3 in /home/valrun/Repositories/CT-19/5 sem/pythonProject/venv/lib/python3.8/site-packages (from pandas<1.0->packageForLab2==0.1) (1.21.4)\r\n",
      "Requirement already satisfied: pytz>=2017.2 in /home/valrun/Repositories/CT-19/5 sem/pythonProject/venv/lib/python3.8/site-packages (from pandas<1.0->packageForLab2==0.1) (2021.3)\r\n",
      "Requirement already satisfied: python-dateutil>=2.6.1 in /home/valrun/Repositories/CT-19/5 sem/pythonProject/venv/lib/python3.8/site-packages (from pandas<1.0->packageForLab2==0.1) (2.8.2)\r\n",
      "Requirement already satisfied: six>=1.5 in /home/valrun/Repositories/CT-19/5 sem/pythonProject/venv/lib/python3.8/site-packages (from python-dateutil>=2.6.1->pandas<1.0->packageForLab2==0.1) (1.16.0)\r\n",
      "Installing collected packages: pandas\r\n",
      "  Attempting uninstall: pandas\r\n",
      "    Found existing installation: pandas 1.2.3\r\n",
      "    Uninstalling pandas-1.2.3:\r\n",
      "      Successfully uninstalled pandas-1.2.3\r\n",
      "\u001B[31mERROR: pip's dependency resolver does not currently take into account all the packages that are installed. This behaviour is the source of the following dependency conflicts.\r\n",
      "xarray 0.20.2 requires pandas>=1.1, but you have pandas 0.25.3 which is incompatible.\u001B[0m\r\n",
      "Successfully installed pandas-0.25.3\r\n",
      "\u001B[33mWARNING: You are using pip version 21.1.2; however, version 21.3.1 is available.\r\n",
      "You should consider upgrading via the '/home/valrun/Repositories/CT-19/5 sem/pythonProject/venv/bin/python -m pip install --upgrade pip' command.\u001B[0m\r\n",
      "Note: you may need to restart the kernel to use updated packages.\n"
     ]
    }
   ]
  },
  {
   "cell_type": "markdown",
   "source": [
    "3. Установите свой пакет в любую виртуальную среду"
   ],
   "metadata": {
    "collapsed": false
   }
  },
  {
   "cell_type": "code",
   "execution_count": 2,
   "outputs": [],
   "source": [
    "%%python3 -m venv env%source env/bin/activate\n",
    "%pip install packageForLab2"
   ],
   "metadata": {
    "collapsed": false,
    "pycharm": {
     "name": "#%%\n"
    }
   }
  },
  {
   "cell_type": "markdown",
   "source": [
    "4. Продемонстрируйте корректно работающие функции в своём python-пакете"
   ],
   "metadata": {
    "collapsed": false
   }
  },
  {
   "cell_type": "code",
   "execution_count": 3,
   "outputs": [
    {
     "name": "stdout",
     "output_type": "stream",
     "text": [
      "Kotya\n"
     ]
    }
   ],
   "source": [
    "%%python check_function.py\n",
    "%deactivate"
   ],
   "metadata": {
    "collapsed": false,
    "pycharm": {
     "name": "#%%\n"
    }
   }
  },
  {
   "cell_type": "markdown",
   "id": "animated-fight",
   "metadata": {},
   "source": [
    "# 2. Да кто так пишет?!\n",
    "\n",
    "Возьмите произвольный дипломный проект по машинному обучению. Для этого скорее всего будет достаточно найти на github проекты по запросу \"machine learning thesis\" и профильтровать по языку \"Jupyter Notebook\". С большой вероятностью код случайно выбранного диплома в этой сфере будет ужасным. Приведите код в порядок:\n",
    "\n",
    "- вынесите занимающий место функционал в python модули\n",
    "- напишите аннотации типов для функций\n",
    "- добавьте конфиги для параметров\n",
    "- если это не требует углубления в логику дипломной работы, расставьте порядок запуска ноутбуков и/или скриптов\n",
    "- для случайных процессов зафиксируйте seed\n",
    "- выделите зависимости, создайте pipenv файлы\n",
    "- сделайте пулреквест автору: покажите своё культурное превосходство\n",
    "\n",
    "\n",
    "Выберите такой проект, который:\n",
    "- ещё не был выбран вашими одногруппниками\n",
    "- относительно небольшой по количеству файлов. Не стоит тратить много времени на это задание\n",
    "- содержит как минимум половину грехов из списка исправлений выше\n",
    "\n",
    "[Проект](thesis/notebooks/experiments.ipynb)\n",
    "- [Модуль](thesis/notebooks/module)\n",
    "    - [Классы](thesis/notebooks/module/helper_classes.py)\n",
    "    - [Конфиги](thesis/notebooks/module/config.py)"
   ]
  },
  {
   "cell_type": "markdown",
   "id": "alive-armor",
   "metadata": {
    "pycharm": {
     "name": "#%% md\n"
    }
   },
   "source": [
    "# 3. Press Shift+Enter to get 300k/sec salary\n",
    "\n",
    "Выберите произвольный Google Colab notebook из этого крутого [репозитория](https://github.com/amrzv/awesome-colab-notebooks), запустите и примените к своим данным\n",
    " - [textgenrnn](https://github.com/minimaxir/textgenrnn)\n",
    " - [Моя копия блокнота](https://colab.research.google.com/drive/1HDRaM5fv97nxsA3St6LNU699v6OCJ0fq?usp=sharing)\n",
    " - [inputFile](textgenrnn/input.txt)\n",
    " - [outputFile](textgenrnn/output.txt)"
   ]
  }
 ],
 "metadata": {
  "kernelspec": {
   "display_name": "Python 3",
   "language": "python",
   "name": "python3"
  },
  "language_info": {
   "codemirror_mode": {
    "name": "ipython",
    "version": 3
   },
   "file_extension": ".py",
   "mimetype": "text/x-python",
   "name": "python",
   "nbconvert_exporter": "python",
   "pygments_lexer": "ipython3",
   "version": "3.8.2"
  }
 },
 "nbformat": 4,
 "nbformat_minor": 5
}
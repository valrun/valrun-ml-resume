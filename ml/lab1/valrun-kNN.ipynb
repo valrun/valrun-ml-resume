{
 "cells": [
  {
   "cell_type": "markdown",
   "metadata": {
    "pycharm": {
     "name": "#%% md\n"
    }
   },
   "source": [
    "# Лабораторная работа №1\n",
    "### Выполнила Рындина Валерия, M33351"
   ]
  },
  {
   "cell_type": "markdown",
   "metadata": {
    "pycharm": {
     "name": "#%% md\n"
    }
   },
   "source": [
    "## 1. практика первичных навыков обработки данных: нормализация, One-Hot преобразование\n",
    "\n",
    "Использованные данные: vehicle"
   ]
  },
  {
   "cell_type": "code",
   "execution_count": 25,
   "metadata": {
    "pycharm": {
     "name": "#%%\n"
    }
   },
   "outputs": [],
   "source": [
    "import pandas as pd"
   ]
  },
  {
   "cell_type": "code",
   "execution_count": 26,
   "metadata": {
    "collapsed": true,
    "pycharm": {
     "name": "#%%\n"
    }
   },
   "outputs": [
    {
     "data": {
      "text/plain": [
       "array(['van', 'saab', 'bus', 'opel'], dtype=object)"
      ]
     },
     "execution_count": 26,
     "metadata": {},
     "output_type": "execute_result"
    }
   ],
   "source": [
    "dt = pd.read_csv('data/raw/dataset_54_vehicle.csv')\n",
    "dt.Class.unique()"
   ]
  },
  {
   "cell_type": "code",
   "execution_count": 27,
   "metadata": {
    "pycharm": {
     "name": "#%%\n"
    }
   },
   "outputs": [
    {
     "data": {
      "text/html": [
       "<div>\n",
       "<style scoped>\n",
       "    .dataframe tbody tr th:only-of-type {\n",
       "        vertical-align: middle;\n",
       "    }\n",
       "\n",
       "    .dataframe tbody tr th {\n",
       "        vertical-align: top;\n",
       "    }\n",
       "\n",
       "    .dataframe thead th {\n",
       "        text-align: right;\n",
       "    }\n",
       "</style>\n",
       "<table border=\"1\" class=\"dataframe\">\n",
       "  <thead>\n",
       "    <tr style=\"text-align: right;\">\n",
       "      <th></th>\n",
       "      <th>COMPACTNESS</th>\n",
       "      <th>CIRCULARITY</th>\n",
       "      <th>DISTANCE_CIRCULARITY</th>\n",
       "      <th>RADIUS_RATIO</th>\n",
       "      <th>PR.AXIS_ASPECT_RATIO</th>\n",
       "      <th>MAX.LENGTH_ASPECT_RATIO</th>\n",
       "      <th>SCATTER_RATIO</th>\n",
       "      <th>ELONGATEDNESS</th>\n",
       "      <th>PR.AXIS_RECTANGULARITY</th>\n",
       "      <th>MAX.LENGTH_RECTANGULARITY</th>\n",
       "      <th>...</th>\n",
       "      <th>SCALED_RADIUS_OF_GYRATION</th>\n",
       "      <th>SKEWNESS_ABOUT_MAJOR</th>\n",
       "      <th>SKEWNESS_ABOUT_MINOR</th>\n",
       "      <th>KURTOSIS_ABOUT_MAJOR</th>\n",
       "      <th>KURTOSIS_ABOUT_MINOR</th>\n",
       "      <th>HOLLOWS_RATIO</th>\n",
       "      <th>isVan</th>\n",
       "      <th>isSaab</th>\n",
       "      <th>isBus</th>\n",
       "      <th>isOpel</th>\n",
       "    </tr>\n",
       "  </thead>\n",
       "  <tbody>\n",
       "    <tr>\n",
       "      <th>0</th>\n",
       "      <td>95</td>\n",
       "      <td>48</td>\n",
       "      <td>83</td>\n",
       "      <td>178</td>\n",
       "      <td>72</td>\n",
       "      <td>10</td>\n",
       "      <td>162</td>\n",
       "      <td>42</td>\n",
       "      <td>20</td>\n",
       "      <td>159</td>\n",
       "      <td>...</td>\n",
       "      <td>184</td>\n",
       "      <td>70</td>\n",
       "      <td>6</td>\n",
       "      <td>16</td>\n",
       "      <td>187</td>\n",
       "      <td>197</td>\n",
       "      <td>1</td>\n",
       "      <td>0</td>\n",
       "      <td>0</td>\n",
       "      <td>0</td>\n",
       "    </tr>\n",
       "    <tr>\n",
       "      <th>1</th>\n",
       "      <td>91</td>\n",
       "      <td>41</td>\n",
       "      <td>84</td>\n",
       "      <td>141</td>\n",
       "      <td>57</td>\n",
       "      <td>9</td>\n",
       "      <td>149</td>\n",
       "      <td>45</td>\n",
       "      <td>19</td>\n",
       "      <td>143</td>\n",
       "      <td>...</td>\n",
       "      <td>158</td>\n",
       "      <td>72</td>\n",
       "      <td>9</td>\n",
       "      <td>14</td>\n",
       "      <td>189</td>\n",
       "      <td>199</td>\n",
       "      <td>1</td>\n",
       "      <td>0</td>\n",
       "      <td>0</td>\n",
       "      <td>0</td>\n",
       "    </tr>\n",
       "    <tr>\n",
       "      <th>2</th>\n",
       "      <td>104</td>\n",
       "      <td>50</td>\n",
       "      <td>106</td>\n",
       "      <td>209</td>\n",
       "      <td>66</td>\n",
       "      <td>10</td>\n",
       "      <td>207</td>\n",
       "      <td>32</td>\n",
       "      <td>23</td>\n",
       "      <td>158</td>\n",
       "      <td>...</td>\n",
       "      <td>220</td>\n",
       "      <td>73</td>\n",
       "      <td>14</td>\n",
       "      <td>9</td>\n",
       "      <td>188</td>\n",
       "      <td>196</td>\n",
       "      <td>0</td>\n",
       "      <td>1</td>\n",
       "      <td>0</td>\n",
       "      <td>0</td>\n",
       "    </tr>\n",
       "    <tr>\n",
       "      <th>3</th>\n",
       "      <td>93</td>\n",
       "      <td>41</td>\n",
       "      <td>82</td>\n",
       "      <td>159</td>\n",
       "      <td>63</td>\n",
       "      <td>9</td>\n",
       "      <td>144</td>\n",
       "      <td>46</td>\n",
       "      <td>19</td>\n",
       "      <td>143</td>\n",
       "      <td>...</td>\n",
       "      <td>127</td>\n",
       "      <td>63</td>\n",
       "      <td>6</td>\n",
       "      <td>10</td>\n",
       "      <td>199</td>\n",
       "      <td>207</td>\n",
       "      <td>1</td>\n",
       "      <td>0</td>\n",
       "      <td>0</td>\n",
       "      <td>0</td>\n",
       "    </tr>\n",
       "    <tr>\n",
       "      <th>4</th>\n",
       "      <td>85</td>\n",
       "      <td>44</td>\n",
       "      <td>70</td>\n",
       "      <td>205</td>\n",
       "      <td>103</td>\n",
       "      <td>52</td>\n",
       "      <td>149</td>\n",
       "      <td>45</td>\n",
       "      <td>19</td>\n",
       "      <td>144</td>\n",
       "      <td>...</td>\n",
       "      <td>188</td>\n",
       "      <td>127</td>\n",
       "      <td>9</td>\n",
       "      <td>11</td>\n",
       "      <td>180</td>\n",
       "      <td>183</td>\n",
       "      <td>0</td>\n",
       "      <td>0</td>\n",
       "      <td>1</td>\n",
       "      <td>0</td>\n",
       "    </tr>\n",
       "  </tbody>\n",
       "</table>\n",
       "<p>5 rows × 22 columns</p>\n",
       "</div>"
      ],
      "text/plain": [
       "   COMPACTNESS  CIRCULARITY  DISTANCE_CIRCULARITY  RADIUS_RATIO  \\\n",
       "0           95           48                    83           178   \n",
       "1           91           41                    84           141   \n",
       "2          104           50                   106           209   \n",
       "3           93           41                    82           159   \n",
       "4           85           44                    70           205   \n",
       "\n",
       "   PR.AXIS_ASPECT_RATIO  MAX.LENGTH_ASPECT_RATIO  SCATTER_RATIO  \\\n",
       "0                    72                       10            162   \n",
       "1                    57                        9            149   \n",
       "2                    66                       10            207   \n",
       "3                    63                        9            144   \n",
       "4                   103                       52            149   \n",
       "\n",
       "   ELONGATEDNESS  PR.AXIS_RECTANGULARITY  MAX.LENGTH_RECTANGULARITY  ...  \\\n",
       "0             42                      20                        159  ...   \n",
       "1             45                      19                        143  ...   \n",
       "2             32                      23                        158  ...   \n",
       "3             46                      19                        143  ...   \n",
       "4             45                      19                        144  ...   \n",
       "\n",
       "   SCALED_RADIUS_OF_GYRATION  SKEWNESS_ABOUT_MAJOR  SKEWNESS_ABOUT_MINOR  \\\n",
       "0                        184                    70                     6   \n",
       "1                        158                    72                     9   \n",
       "2                        220                    73                    14   \n",
       "3                        127                    63                     6   \n",
       "4                        188                   127                     9   \n",
       "\n",
       "   KURTOSIS_ABOUT_MAJOR  KURTOSIS_ABOUT_MINOR  HOLLOWS_RATIO  isVan  isSaab  \\\n",
       "0                    16                   187            197      1       0   \n",
       "1                    14                   189            199      1       0   \n",
       "2                     9                   188            196      0       1   \n",
       "3                    10                   199            207      1       0   \n",
       "4                    11                   180            183      0       0   \n",
       "\n",
       "   isBus  isOpel  \n",
       "0      0       0  \n",
       "1      0       0  \n",
       "2      0       0  \n",
       "3      0       0  \n",
       "4      1       0  \n",
       "\n",
       "[5 rows x 22 columns]"
      ]
     },
     "execution_count": 27,
     "metadata": {},
     "output_type": "execute_result"
    }
   ],
   "source": [
    "# one-hot\n",
    "dt = dt.assign(isVan=dt.Class.apply(lambda x: (x == \"van\") * 1),\n",
    "               isSaab=dt.Class.apply(lambda x: (x == \"saab\") * 1),\n",
    "               isBus=dt.Class.apply(lambda x: (x == \"bus\") * 1),\n",
    "               isOpel=dt.Class.apply(lambda x: (x == \"opel\") * 1))\n",
    "dt = dt.drop(columns=['Class'])\n",
    "\n",
    "dt.head(5)"
   ]
  },
  {
   "cell_type": "code",
   "execution_count": 28,
   "metadata": {
    "pycharm": {
     "name": "#%%\n"
    }
   },
   "outputs": [
    {
     "data": {
      "text/html": [
       "<div>\n",
       "<style scoped>\n",
       "    .dataframe tbody tr th:only-of-type {\n",
       "        vertical-align: middle;\n",
       "    }\n",
       "\n",
       "    .dataframe tbody tr th {\n",
       "        vertical-align: top;\n",
       "    }\n",
       "\n",
       "    .dataframe thead th {\n",
       "        text-align: right;\n",
       "    }\n",
       "</style>\n",
       "<table border=\"1\" class=\"dataframe\">\n",
       "  <thead>\n",
       "    <tr style=\"text-align: right;\">\n",
       "      <th></th>\n",
       "      <th>COMPACTNESS</th>\n",
       "      <th>CIRCULARITY</th>\n",
       "      <th>DISTANCE_CIRCULARITY</th>\n",
       "      <th>RADIUS_RATIO</th>\n",
       "      <th>PR.AXIS_ASPECT_RATIO</th>\n",
       "      <th>MAX.LENGTH_ASPECT_RATIO</th>\n",
       "      <th>SCATTER_RATIO</th>\n",
       "      <th>ELONGATEDNESS</th>\n",
       "      <th>PR.AXIS_RECTANGULARITY</th>\n",
       "      <th>MAX.LENGTH_RECTANGULARITY</th>\n",
       "      <th>...</th>\n",
       "      <th>SCALED_RADIUS_OF_GYRATION</th>\n",
       "      <th>SKEWNESS_ABOUT_MAJOR</th>\n",
       "      <th>SKEWNESS_ABOUT_MINOR</th>\n",
       "      <th>KURTOSIS_ABOUT_MAJOR</th>\n",
       "      <th>KURTOSIS_ABOUT_MINOR</th>\n",
       "      <th>HOLLOWS_RATIO</th>\n",
       "      <th>isVan</th>\n",
       "      <th>isSaab</th>\n",
       "      <th>isBus</th>\n",
       "      <th>isOpel</th>\n",
       "    </tr>\n",
       "  </thead>\n",
       "  <tbody>\n",
       "    <tr>\n",
       "      <th>0</th>\n",
       "      <td>0.478261</td>\n",
       "      <td>0.576923</td>\n",
       "      <td>0.597222</td>\n",
       "      <td>0.323144</td>\n",
       "      <td>0.274725</td>\n",
       "      <td>0.150943</td>\n",
       "      <td>0.326797</td>\n",
       "      <td>0.457143</td>\n",
       "      <td>0.250000</td>\n",
       "      <td>0.585714</td>\n",
       "      <td>...</td>\n",
       "      <td>0.471698</td>\n",
       "      <td>0.144737</td>\n",
       "      <td>0.272727</td>\n",
       "      <td>0.390244</td>\n",
       "      <td>0.366667</td>\n",
       "      <td>0.533333</td>\n",
       "      <td>1.0</td>\n",
       "      <td>0.0</td>\n",
       "      <td>0.0</td>\n",
       "      <td>0.0</td>\n",
       "    </tr>\n",
       "    <tr>\n",
       "      <th>1</th>\n",
       "      <td>0.391304</td>\n",
       "      <td>0.307692</td>\n",
       "      <td>0.611111</td>\n",
       "      <td>0.161572</td>\n",
       "      <td>0.109890</td>\n",
       "      <td>0.132075</td>\n",
       "      <td>0.241830</td>\n",
       "      <td>0.542857</td>\n",
       "      <td>0.166667</td>\n",
       "      <td>0.357143</td>\n",
       "      <td>...</td>\n",
       "      <td>0.308176</td>\n",
       "      <td>0.171053</td>\n",
       "      <td>0.409091</td>\n",
       "      <td>0.341463</td>\n",
       "      <td>0.433333</td>\n",
       "      <td>0.600000</td>\n",
       "      <td>1.0</td>\n",
       "      <td>0.0</td>\n",
       "      <td>0.0</td>\n",
       "      <td>0.0</td>\n",
       "    </tr>\n",
       "    <tr>\n",
       "      <th>2</th>\n",
       "      <td>0.673913</td>\n",
       "      <td>0.653846</td>\n",
       "      <td>0.916667</td>\n",
       "      <td>0.458515</td>\n",
       "      <td>0.208791</td>\n",
       "      <td>0.150943</td>\n",
       "      <td>0.620915</td>\n",
       "      <td>0.171429</td>\n",
       "      <td>0.500000</td>\n",
       "      <td>0.571429</td>\n",
       "      <td>...</td>\n",
       "      <td>0.698113</td>\n",
       "      <td>0.184211</td>\n",
       "      <td>0.636364</td>\n",
       "      <td>0.219512</td>\n",
       "      <td>0.400000</td>\n",
       "      <td>0.500000</td>\n",
       "      <td>0.0</td>\n",
       "      <td>1.0</td>\n",
       "      <td>0.0</td>\n",
       "      <td>0.0</td>\n",
       "    </tr>\n",
       "    <tr>\n",
       "      <th>3</th>\n",
       "      <td>0.434783</td>\n",
       "      <td>0.307692</td>\n",
       "      <td>0.583333</td>\n",
       "      <td>0.240175</td>\n",
       "      <td>0.175824</td>\n",
       "      <td>0.132075</td>\n",
       "      <td>0.209150</td>\n",
       "      <td>0.571429</td>\n",
       "      <td>0.166667</td>\n",
       "      <td>0.357143</td>\n",
       "      <td>...</td>\n",
       "      <td>0.113208</td>\n",
       "      <td>0.052632</td>\n",
       "      <td>0.272727</td>\n",
       "      <td>0.243902</td>\n",
       "      <td>0.766667</td>\n",
       "      <td>0.866667</td>\n",
       "      <td>1.0</td>\n",
       "      <td>0.0</td>\n",
       "      <td>0.0</td>\n",
       "      <td>0.0</td>\n",
       "    </tr>\n",
       "    <tr>\n",
       "      <th>4</th>\n",
       "      <td>0.260870</td>\n",
       "      <td>0.423077</td>\n",
       "      <td>0.416667</td>\n",
       "      <td>0.441048</td>\n",
       "      <td>0.615385</td>\n",
       "      <td>0.943396</td>\n",
       "      <td>0.241830</td>\n",
       "      <td>0.542857</td>\n",
       "      <td>0.166667</td>\n",
       "      <td>0.371429</td>\n",
       "      <td>...</td>\n",
       "      <td>0.496855</td>\n",
       "      <td>0.894737</td>\n",
       "      <td>0.409091</td>\n",
       "      <td>0.268293</td>\n",
       "      <td>0.133333</td>\n",
       "      <td>0.066667</td>\n",
       "      <td>0.0</td>\n",
       "      <td>0.0</td>\n",
       "      <td>1.0</td>\n",
       "      <td>0.0</td>\n",
       "    </tr>\n",
       "  </tbody>\n",
       "</table>\n",
       "<p>5 rows × 22 columns</p>\n",
       "</div>"
      ],
      "text/plain": [
       "   COMPACTNESS  CIRCULARITY  DISTANCE_CIRCULARITY  RADIUS_RATIO  \\\n",
       "0     0.478261     0.576923              0.597222      0.323144   \n",
       "1     0.391304     0.307692              0.611111      0.161572   \n",
       "2     0.673913     0.653846              0.916667      0.458515   \n",
       "3     0.434783     0.307692              0.583333      0.240175   \n",
       "4     0.260870     0.423077              0.416667      0.441048   \n",
       "\n",
       "   PR.AXIS_ASPECT_RATIO  MAX.LENGTH_ASPECT_RATIO  SCATTER_RATIO  \\\n",
       "0              0.274725                 0.150943       0.326797   \n",
       "1              0.109890                 0.132075       0.241830   \n",
       "2              0.208791                 0.150943       0.620915   \n",
       "3              0.175824                 0.132075       0.209150   \n",
       "4              0.615385                 0.943396       0.241830   \n",
       "\n",
       "   ELONGATEDNESS  PR.AXIS_RECTANGULARITY  MAX.LENGTH_RECTANGULARITY  ...  \\\n",
       "0       0.457143                0.250000                   0.585714  ...   \n",
       "1       0.542857                0.166667                   0.357143  ...   \n",
       "2       0.171429                0.500000                   0.571429  ...   \n",
       "3       0.571429                0.166667                   0.357143  ...   \n",
       "4       0.542857                0.166667                   0.371429  ...   \n",
       "\n",
       "   SCALED_RADIUS_OF_GYRATION  SKEWNESS_ABOUT_MAJOR  SKEWNESS_ABOUT_MINOR  \\\n",
       "0                   0.471698              0.144737              0.272727   \n",
       "1                   0.308176              0.171053              0.409091   \n",
       "2                   0.698113              0.184211              0.636364   \n",
       "3                   0.113208              0.052632              0.272727   \n",
       "4                   0.496855              0.894737              0.409091   \n",
       "\n",
       "   KURTOSIS_ABOUT_MAJOR  KURTOSIS_ABOUT_MINOR  HOLLOWS_RATIO  isVan  isSaab  \\\n",
       "0              0.390244              0.366667       0.533333    1.0     0.0   \n",
       "1              0.341463              0.433333       0.600000    1.0     0.0   \n",
       "2              0.219512              0.400000       0.500000    0.0     1.0   \n",
       "3              0.243902              0.766667       0.866667    1.0     0.0   \n",
       "4              0.268293              0.133333       0.066667    0.0     0.0   \n",
       "\n",
       "   isBus  isOpel  \n",
       "0    0.0     0.0  \n",
       "1    0.0     0.0  \n",
       "2    0.0     0.0  \n",
       "3    0.0     0.0  \n",
       "4    1.0     0.0  \n",
       "\n",
       "[5 rows x 22 columns]"
      ]
     },
     "execution_count": 28,
     "metadata": {},
     "output_type": "execute_result"
    }
   ],
   "source": [
    " # minmax normalize\n",
    "for col in dt.columns :\n",
    "    min_val = min(dt[col])\n",
    "    max_val = max(dt[col])\n",
    "    dt[col] = dt[col].apply(lambda x: (x - min_val) / (max_val - min_val))\n",
    "\n",
    "dt.head(5)"
   ]
  },
  {
   "cell_type": "markdown",
   "metadata": {
    "pycharm": {
     "name": "#%% md\n"
    }
   },
   "source": [
    "## 2. сведение задачи классификации к задаче непараметрической регрессии"
   ]
  },
  {
   "cell_type": "code",
   "execution_count": 29,
   "metadata": {
    "pycharm": {
     "name": "#%%\n"
    }
   },
   "outputs": [
    {
     "data": {
      "text/html": [
       "<div>\n",
       "<style scoped>\n",
       "    .dataframe tbody tr th:only-of-type {\n",
       "        vertical-align: middle;\n",
       "    }\n",
       "\n",
       "    .dataframe tbody tr th {\n",
       "        vertical-align: top;\n",
       "    }\n",
       "\n",
       "    .dataframe thead th {\n",
       "        text-align: right;\n",
       "    }\n",
       "</style>\n",
       "<table border=\"1\" class=\"dataframe\">\n",
       "  <thead>\n",
       "    <tr style=\"text-align: right;\">\n",
       "      <th></th>\n",
       "      <th>isVan</th>\n",
       "      <th>isSaab</th>\n",
       "      <th>isBus</th>\n",
       "      <th>isOpel</th>\n",
       "    </tr>\n",
       "  </thead>\n",
       "  <tbody>\n",
       "    <tr>\n",
       "      <th>0</th>\n",
       "      <td>1.0</td>\n",
       "      <td>0.0</td>\n",
       "      <td>0.0</td>\n",
       "      <td>0.0</td>\n",
       "    </tr>\n",
       "    <tr>\n",
       "      <th>1</th>\n",
       "      <td>1.0</td>\n",
       "      <td>0.0</td>\n",
       "      <td>0.0</td>\n",
       "      <td>0.0</td>\n",
       "    </tr>\n",
       "    <tr>\n",
       "      <th>2</th>\n",
       "      <td>0.0</td>\n",
       "      <td>1.0</td>\n",
       "      <td>0.0</td>\n",
       "      <td>0.0</td>\n",
       "    </tr>\n",
       "    <tr>\n",
       "      <th>3</th>\n",
       "      <td>1.0</td>\n",
       "      <td>0.0</td>\n",
       "      <td>0.0</td>\n",
       "      <td>0.0</td>\n",
       "    </tr>\n",
       "    <tr>\n",
       "      <th>4</th>\n",
       "      <td>0.0</td>\n",
       "      <td>0.0</td>\n",
       "      <td>1.0</td>\n",
       "      <td>0.0</td>\n",
       "    </tr>\n",
       "  </tbody>\n",
       "</table>\n",
       "</div>"
      ],
      "text/plain": [
       "   isVan  isSaab  isBus  isOpel\n",
       "0    1.0     0.0    0.0     0.0\n",
       "1    1.0     0.0    0.0     0.0\n",
       "2    0.0     1.0    0.0     0.0\n",
       "3    1.0     0.0    0.0     0.0\n",
       "4    0.0     0.0    1.0     0.0"
      ]
     },
     "execution_count": 29,
     "metadata": {},
     "output_type": "execute_result"
    }
   ],
   "source": [
    "# разделить на x, y\n",
    "y_names = ['isVan', 'isSaab', 'isBus', 'isOpel']\n",
    "\n",
    "x_val = dt.drop(columns=y_names)\n",
    "y_val = dt[y_names]\n",
    "\n",
    "y_val.head(5)"
   ]
  },
  {
   "cell_type": "markdown",
   "metadata": {
    "pycharm": {
     "name": "#%% md\n"
    }
   },
   "source": [
    "## 3. реализация решения задачи непараметрической регрессии ядерным сглаживанием Надарая Ватсона"
   ]
  },
  {
   "cell_type": "code",
   "execution_count": 30,
   "metadata": {
    "pycharm": {
     "name": "#%%\n"
    }
   },
   "outputs": [],
   "source": [
    "import math\n",
    "import numpy as np"
   ]
  },
  {
   "cell_type": "code",
   "execution_count": 31,
   "metadata": {
    "pycharm": {
     "name": "#%%\n"
    }
   },
   "outputs": [],
   "source": [
    "# distance's functions\n",
    "def euclidean_distance(x, y):\n",
    "    return math.dist(x, y)\n",
    "\n",
    "def manhattan_distance(x, y):\n",
    "    return sum(abs(px - qx) for px, qx in zip(x, y))\n",
    "\n",
    "def chebyshev_distance(x, y):\n",
    "    return max(abs(px - qx) for px, qx in zip(x, y))\n",
    "\n",
    "distances = [\n",
    "    euclidean_distance,\n",
    "    manhattan_distance,\n",
    "    chebyshev_distance\n",
    "]"
   ]
  },
  {
   "cell_type": "code",
   "execution_count": 32,
   "metadata": {
    "pycharm": {
     "name": "#%%\n"
    }
   },
   "outputs": [],
   "source": [
    "# kernel's functions\n",
    "def uniform_kernel(u):\n",
    "    return 0.5\n",
    "\n",
    "def triangular_kernel(u):\n",
    "    return 1 - abs(u)\n",
    "\n",
    "def epanechnikov_kernel(u):\n",
    "    return 0.75 * (1 - u*u)\n",
    "\n",
    "def quartic_kernel(u):\n",
    "    return (15/16) * ((1 - u*u) ** 2)\n",
    "\n",
    "kernels = [\n",
    "    uniform_kernel,\n",
    "    triangular_kernel,\n",
    "    epanechnikov_kernel,\n",
    "    quartic_kernel\n",
    "]"
   ]
  },
  {
   "cell_type": "code",
   "execution_count": 33,
   "metadata": {
    "pycharm": {
     "name": "#%%\n"
    }
   },
   "outputs": [],
   "source": [
    "# Nadaray Watson\n",
    "def non_param_regh(x, x_train, y_train, dist, ker, h):\n",
    "    numerator = sum(y_i * ker(dist(x, x_i) / h)\n",
    "                    for x_i, y_i in zip(x_train.values, y_train.values)) \\\n",
    "        if h != 0 else sum(y_i * ker(0) for y_i in y_train.values)\n",
    "    denominator = sum(ker(dist(x, x_i) / h) for x_i in x_train.values) \\\n",
    "        if h != 0 else sum(ker(0) for _ in x_train.values)\n",
    "\n",
    "    return numerator / denominator"
   ]
  },
  {
   "cell_type": "code",
   "execution_count": 46,
   "metadata": {
    "pycharm": {
     "name": "#%%\n"
    }
   },
   "outputs": [],
   "source": [
    "# F-measure\n",
    "def f_measure(predictions, targets):\n",
    "    # sklearn.metrics.f1_score\n",
    "    true_positive = 0\n",
    "    false_positive = 0\n",
    "    false_negative = 0\n",
    "\n",
    "    for pred_i, tar_i in zip(predictions, targets):\n",
    "        if tar_i == 0:\n",
    "            if pred_i == 0:\n",
    "                false_positive += 1\n",
    "            else: false_negative += 1\n",
    "        elif pred_i == 1:\n",
    "            true_positive += 1\n",
    "\n",
    "    precision = true_positive / (true_positive + false_positive)\n",
    "    recall = true_positive / (true_positive + false_negative)\n",
    "    return 2 * precision * recall / (precision + recall) if precision + recall != 0 else 0"
   ]
  },
  {
   "cell_type": "code",
   "execution_count": 72,
   "metadata": {
    "pycharm": {
     "name": "#%%\n"
    }
   },
   "outputs": [],
   "source": [
    "# leave one out\n",
    "def leave_one_out(x, y, dist, ker, h):\n",
    "    predictions = []\n",
    "    target = []\n",
    "\n",
    "    for i in range(0, len(x)):\n",
    "        x_train = x.drop(i, axis=0)\n",
    "        y_train = y.drop(i, axis=0)\n",
    "        x_i = x.iloc[i]\n",
    "\n",
    "        pred_i = np.argmax(non_param_regh(x_i, x_train, y_train, dist, ker, h(i)))\n",
    "\n",
    "        pred_y = [0]*len(y.columns)\n",
    "        pred_y[pred_i] = 1\n",
    "        predictions += pred_y\n",
    "        target.extend(y.iloc[i].values)\n",
    "    return f_measure(predictions, target)"
   ]
  },
  {
   "cell_type": "code",
   "execution_count": 69,
   "metadata": {
    "pycharm": {
     "name": "#%%\n"
    }
   },
   "outputs": [],
   "source": [
    "# neighbors\n",
    "def get_neighbors(i, xs, dist, n):\n",
    "    all_dist = []\n",
    "    for x in xs.values:\n",
    "        all_dist.append(dist(i, x))\n",
    "    neighbors = []\n",
    "    max_dist = np.argmax(all_dist)\n",
    "    for _ in range(n):\n",
    "        ind = np.argmin(all_dist)\n",
    "        neighbors.append(ind)\n",
    "        all_dist[ind] = all_dist[max_dist]\n",
    "\n",
    "    return neighbors"
   ]
  },
  {
   "cell_type": "markdown",
   "metadata": {
    "pycharm": {
     "name": "#%% md\n"
    }
   },
   "source": [
    "## 4. практика наивного настройки и анализа гиперпараметров модели, решающей задачу непараметрической регрессии"
   ]
  },
  {
   "cell_type": "code",
   "execution_count": 50,
   "metadata": {
    "pycharm": {
     "name": "#%%\n"
    }
   },
   "outputs": [
    {
     "name": "stdout",
     "output_type": "stream",
     "text": [
      "DISTANCE: euclidean_distance\n",
      "max distance: 2.884204598195652\n",
      "KERNEL: uniform_kernel\n",
      ".............................\n",
      "current f_max: 0.0\n",
      "KERNEL: triangular_kernel\n",
      ".............................\n",
      "current f_max: 0.2477771191464137\n",
      "KERNEL: epanechnikov_kernel\n",
      ".............................\n",
      "current f_max: 0.2477771191464137\n",
      "KERNEL: quartic_kernel\n",
      ".............................\n",
      "current f_max: 0.2477771191464137\n",
      "DISTANCE: manhattan_distance\n",
      "max distance: 10.871109312989647\n",
      "KERNEL: uniform_kernel\n",
      ".............................\n",
      "current f_max: 0.2477771191464137\n",
      "KERNEL: triangular_kernel\n",
      ".............................\n",
      "current f_max: 0.25265017667844525\n",
      "KERNEL: epanechnikov_kernel\n",
      ".............................\n",
      "current f_max: 0.25265017667844525\n",
      "KERNEL: quartic_kernel\n",
      ".............................\n",
      "current f_max: 0.25265017667844525\n",
      "DISTANCE: chebyshev_distance\n",
      "max distance: 1.0\n",
      "KERNEL: uniform_kernel\n",
      ".............................\n",
      "current f_max: 0.25265017667844525\n",
      "KERNEL: triangular_kernel\n",
      ".............................\n",
      "current f_max: 0.25265017667844525\n",
      "KERNEL: epanechnikov_kernel\n",
      ".............................\n",
      "current f_max: 0.25265017667844525\n",
      "KERNEL: quartic_kernel\n",
      ".............................\n",
      "current f_max: 0.25265017667844525\n",
      "max f-measure: 0.25265017667844525\n",
      "parameters: manhattan_distance , triangular_kernel , 5.2325901207157015\n"
     ]
    }
   ],
   "source": [
    "def find_best_parameters_fix_window(x, y):\n",
    "    f_max = 0.\n",
    "    param_max = []\n",
    "    for cur_dist in distances:\n",
    "        print(\"DISTANCE:\", cur_dist.__name__)\n",
    "\n",
    "        r_d = 0\n",
    "        for x_i in x.values:\n",
    "            for x_j in x.values:\n",
    "                r_d = max(r_d, cur_dist(x_i, x_j))\n",
    "        print(\"max distance:\", r_d)\n",
    "        step = r_d / math.sqrt(len(x))\n",
    "\n",
    "        for cur_ker in kernels:\n",
    "            print(\"KERNEL:\", cur_ker.__name__)\n",
    "            cur_h = step\n",
    "            while cur_h <= r_d:\n",
    "                print(\".\", end=\"\")\n",
    "                f_cur = leave_one_out(x, y, cur_dist, cur_ker, lambda _: cur_h)\n",
    "                if f_cur > f_max:\n",
    "                    f_max = f_cur\n",
    "                    param_max = [cur_dist, cur_ker, cur_h]\n",
    "                cur_h += step\n",
    "            print(\"\")\n",
    "            print(\"current f_max:\", f_max)\n",
    "    print(\"max f-measure:\", f_max)\n",
    "    if len(param_max) >= 3:\n",
    "        print(\"parameters:\", param_max[0].__name__, \",\", param_max[1].__name__, \",\", param_max[2])\n",
    "    return param_max\n",
    "\n",
    "parameters = find_best_parameters_fix_window(x_val, y_val)"
   ]
  },
  {
   "cell_type": "code",
   "execution_count": 51,
   "metadata": {
    "pycharm": {
     "name": "#%%\n"
    }
   },
   "outputs": [],
   "source": [
    "r = 0\n",
    "for x__i in x_val.values:\n",
    "    for x__j in x_val.values:\n",
    "        r = max(r, parameters[0](x__i, x__j))\n",
    "h_ = st = r / math.sqrt(len(x_val))\n",
    "\n",
    "f_values = []\n",
    "while h_ <= r:\n",
    "    f_values.append(leave_one_out(x_val, y_val, parameters[0], parameters[1], h_))\n",
    "    h_ += st"
   ]
  },
  {
   "cell_type": "code",
   "execution_count": 74,
   "metadata": {
    "pycharm": {
     "name": "#%%\n"
    }
   },
   "outputs": [
    {
     "data": {
      "image/png": "[encoded data removed]",
      "text/plain": [
       "<Figure size 432x288 with 1 Axes>"
      ]
     },
     "metadata": {
      "needs_background": "light"
     },
     "output_type": "display_data"
    }
   ],
   "source": [
    "import matplotlib.pyplot as plt\n",
    "\n",
    "sqrt = math.sqrt(len(x_val))\n",
    "hs = range (1, round(sqrt) + 1)\n",
    "hs = hs * r / sqrt\n",
    "\n",
    "plt.plot(hs, f_values)\n",
    "plt.ylabel(\"f-measure\")\n",
    "plt.xlabel(\"window\")\n",
    "plt.show()"
   ]
  },
  {
   "cell_type": "code",
   "execution_count": 75,
   "metadata": {
    "pycharm": {
     "name": "#%%\n"
    }
   },
   "outputs": [
    {
     "name": "stdout",
     "output_type": "stream",
     "text": [
      "DISTANCE: euclidean_distance\n",
      "KERNEL: uniform_kernel\n",
      "..............................\n",
      "current f_max: 0.0\n",
      "KERNEL: triangular_kernel\n",
      "..............................\n",
      "current f_max: 0.11691022964509394\n",
      "KERNEL: epanechnikov_kernel\n",
      "..............................\n",
      "current f_max: 0.11691022964509394\n",
      "KERNEL: quartic_kernel\n",
      "..............................\n",
      "current f_max: 0.11691022964509394\n",
      "DISTANCE: manhattan_distance\n",
      "KERNEL: uniform_kernel\n",
      "..............................\n",
      "current f_max: 0.11691022964509394\n",
      "KERNEL: triangular_kernel\n",
      "..............................\n",
      "current f_max: 0.12843406593406595\n",
      "KERNEL: epanechnikov_kernel\n",
      "..............................\n",
      "current f_max: 0.12843406593406595\n",
      "KERNEL: quartic_kernel\n",
      "..............................\n",
      "current f_max: 0.12843406593406595\n",
      "DISTANCE: chebyshev_distance\n",
      "KERNEL: uniform_kernel\n",
      "..............................\n",
      "current f_max: 0.12843406593406595\n",
      "KERNEL: triangular_kernel\n",
      "..............................\n",
      "current f_max: 0.13141683778234084\n",
      "KERNEL: epanechnikov_kernel\n",
      "..............................\n",
      "current f_max: 0.13141683778234084\n",
      "KERNEL: quartic_kernel\n",
      "..............................\n",
      "current f_max: 0.13141683778234084\n",
      "max f-measure: 0.13141683778234084\n",
      "parameters: chebyshev_distance , triangular_kernel , 14\n"
     ]
    }
   ],
   "source": [
    "def find_best_parameters_unfix_window(x, y):\n",
    "    f_max = 0.\n",
    "    param_max = []\n",
    "    sqrt_d = round(math.sqrt(len(x))) + 1\n",
    "    for cur_dist in distances:\n",
    "        print(\"DISTANCE:\", cur_dist.__name__)\n",
    "\n",
    "        neighbors = []\n",
    "        for i in range(0, len(x)):\n",
    "            x_train = x.drop(i, axis=0)\n",
    "            x_i = x.iloc[i]\n",
    "            neighbors.append(get_neighbors(x_i, x_train, cur_dist, sqrt_d))\n",
    "\n",
    "\n",
    "        for cur_ker in kernels:\n",
    "            print(\"KERNEL:\", cur_ker.__name__)\n",
    "\n",
    "            for i in range(sqrt_d):\n",
    "                print(\".\", end=\"\")\n",
    "                f_cur = leave_one_out(x, y, cur_dist, cur_ker, lambda j: neighbors[j][i])\n",
    "                if f_cur > f_max:\n",
    "                    f_max = f_cur\n",
    "                    param_max = [cur_dist, cur_ker, i]\n",
    "            print(\"\")\n",
    "            print(\"current f_max:\", f_max)\n",
    "\n",
    "    print(\"max f-measure:\", f_max)\n",
    "    if len(param_max) >= 3:\n",
    "        print(\"parameters:\", param_max[0].__name__, \",\", param_max[1].__name__, \",\", param_max[2])\n",
    "    return param_max\n",
    "\n",
    "other_parameters = find_best_parameters_unfix_window(x_val, y_val)"
   ]
  },
  {
   "cell_type": "code",
   "execution_count": 78,
   "metadata": {
    "pycharm": {
     "name": "#%%\n"
    }
   },
   "outputs": [],
   "source": [
    "neighbors = []\n",
    "for i in range(len(x_val)):\n",
    "    x_train = x_val.drop(i, axis=0)\n",
    "    x_i = x_val.iloc[i]\n",
    "    neighbors.append(get_neighbors(x_i, x_train, other_parameters[0], round(sqrt)))\n",
    "\n",
    "f_other_values = []\n",
    "for i in range(round(sqrt)):\n",
    "    f_other_values.append(leave_one_out(x_val, y_val, other_parameters[0], other_parameters[1], lambda j: neighbors[j][i]))"
   ]
  },
  {
   "cell_type": "code",
   "execution_count": 79,
   "metadata": {
    "pycharm": {
     "name": "#%%\n"
    }
   },
   "outputs": [
    {
     "data": {
      "image/png": "[encoded data removed]",
      "text/plain": [
       "<Figure size 432x288 with 1 Axes>"
      ]
     },
     "metadata": {
      "needs_background": "light"
     },
     "output_type": "display_data"
    }
   ],
   "source": [
    "plt.plot(range(1, round(sqrt) + 1), f_other_values)\n",
    "plt.ylabel(\"f-measure\")\n",
    "plt.xlabel(\"window\")\n",
    "plt.show()"
   ]
  },
  {
   "cell_type": "code",
   "execution_count": null,
   "metadata": {
    "pycharm": {
     "name": "#%%\n"
    }
   },
   "outputs": [],
   "source": []
  }
 ],
 "metadata": {
  "kernelspec": {
   "display_name": "Python 3 (ipykernel)",
   "language": "python",
   "name": "python3"
  },
  "language_info": {
   "codemirror_mode": {
    "name": "ipython",
    "version": 3
   },
   "file_extension": ".py",
   "mimetype": "text/x-python",
   "name": "python",
   "nbconvert_exporter": "python",
   "pygments_lexer": "ipython3",
   "version": "3.8.10"
  }
 },
 "nbformat": 4,
 "nbformat_minor": 1
}
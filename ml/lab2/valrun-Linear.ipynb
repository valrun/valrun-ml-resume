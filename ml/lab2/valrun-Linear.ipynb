{
 "cells": [
  {
   "cell_type": "markdown",
   "metadata": {
    "collapsed": true,
    "pycharm": {
     "name": "#%% md\n"
    }
   },
   "source": [
    "# Лабораторная работа №2\n",
    "### Выполнила Рындина Валерия, M33351"
   ]
  },
  {
   "cell_type": "code",
   "execution_count": 1,
   "outputs": [],
   "source": [
    "import numpy as np\n",
    "import pandas as pd\n",
    "from numpy import linalg as LA"
   ],
   "metadata": {
    "collapsed": false,
    "pycharm": {
     "name": "#%%\n"
    }
   }
  },
  {
   "cell_type": "markdown",
   "source": [
    "## Алгоритмы"
   ],
   "metadata": {
    "collapsed": false,
    "pycharm": {
     "name": "#%% md\n"
    }
   }
  },
  {
   "cell_type": "markdown",
   "source": [
    "### МНК\n"
   ],
   "metadata": {
    "collapsed": false,
    "pycharm": {
     "name": "#%% md\n"
    }
   }
  },
  {
   "cell_type": "code",
   "execution_count": 2,
   "outputs": [],
   "source": [
    "def mnk(x, y, tau):\n",
    "    _, n = x.shape\n",
    "    # V, D, U_t = LA.svd(x)\n",
    "    # # V_t = np.transpose(V)\n",
    "    # # U = np.transpose(U_t)\n",
    "    # fi = sum(D[i] / (D[i] ** 2 + tau) * V[i] * U_t.dot(y).sum() for i in range(n))\n",
    "    # return  fi\n",
    "    return np.matmul(\n",
    "        np.matmul(\n",
    "            np.linalg.inv(np.matmul(np.transpose(x), x) + tau * np.identity(n)),\n",
    "            np.transpose(x)\n",
    "        ),\n",
    "        y\n",
    "    )\n"
   ],
   "metadata": {
    "collapsed": false,
    "pycharm": {
     "name": "#%%\n"
    }
   }
  },
  {
   "cell_type": "markdown",
   "source": [
    "### градиентный спуск"
   ],
   "metadata": {
    "collapsed": false,
    "pycharm": {
     "name": "#%% md\n"
    }
   }
  },
  {
   "cell_type": "code",
   "execution_count": 3,
   "outputs": [],
   "source": [
    "def mse(y, y_pred):\n",
    "    return (y + y_pred) ** 2\n",
    "\n",
    "def diff_mse(y, y_pred):\n",
    "    return 2.0 * (y_pred - y)"
   ],
   "metadata": {
    "collapsed": false,
    "pycharm": {
     "name": "#%%\n"
    }
   }
  },
  {
   "cell_type": "code",
   "execution_count": 4,
   "outputs": [],
   "source": [
    "def smape(y, y_pred):\n",
    "    return 1.0 * abs(y - y_pred) / (abs(y) + abs(y_pred))\n",
    "\n",
    "def diff_smape(y, y_pred):\n",
    "    return np.sign(y_pred - y) * (abs(y) + abs(y_pred) - np.sign(y_pred) * (y_pred - y)) / (\n",
    "            (abs(y) + abs(y_pred)) ** 2)"
   ],
   "metadata": {
    "collapsed": false,
    "pycharm": {
     "name": "#%%\n"
    }
   }
  },
  {
   "cell_type": "code",
   "execution_count": 5,
   "outputs": [],
   "source": [
    "def stochastic_gradient(x, y, diff_L, tau, mu, metric):\n",
    "    n = len(x)\n",
    "    w = [1 / (2 * n) for _ in range(len(x[0]))]\n",
    "\n",
    "    metric_vals = list()\n",
    "    metric_val = 1.\n",
    "    alpha = 1 / 100\n",
    "\n",
    "    for i in range(1000):\n",
    "        step = 1.0 / (i + 1)\n",
    "\n",
    "        diff_multiplier = diff_L(y[i % n], np.dot(w, x[i % n]))\n",
    "        diff = list(x_i * diff_multiplier for x_i in x[i % n])\n",
    "        diff_tau = list(diff_i + tau * x_i for x_i, diff_i in zip(x[i % n], diff))\n",
    "\n",
    "        t = list(w_i - d_tau_i * step - mu * d_i for w_i, d_tau_i, d_i in zip(w, diff_tau, diff))\n",
    "\n",
    "        new_metric = sum(metric(y, np.dot(x, w))) /n\n",
    "        metric_val = (1 - alpha) * metric_val + alpha * new_metric\n",
    "        metric_vals.append(metric_val)\n",
    "        w = t\n",
    "    #   L = (1 - alpha) L + alpha * L(np.dot(w, x[i]) * y[i])\n",
    "    return w, metric_vals"
   ],
   "metadata": {
    "collapsed": false,
    "pycharm": {
     "name": "#%%\n"
    }
   }
  },
  {
   "cell_type": "markdown",
   "source": [
    "## Настройка"
   ],
   "metadata": {
    "collapsed": false,
    "pycharm": {
     "name": "#%% md\n"
    }
   }
  },
  {
   "cell_type": "code",
   "execution_count": 6,
   "outputs": [],
   "source": [
    "# normalize\n",
    "def normalize(dt):\n",
    "    for col in dt.columns :\n",
    "        min_val = min(dt[col])\n",
    "        max_val = max(dt[col])\n",
    "        dt[col] = dt[col].apply(lambda x: (x - min_val) / (max_val - min_val) if max_val != min_val else 0.0)"
   ],
   "metadata": {
    "collapsed": false,
    "pycharm": {
     "name": "#%%\n"
    }
   }
  },
  {
   "cell_type": "code",
   "execution_count": 35,
   "outputs": [
    {
     "data": {
      "text/plain": "          0         1    2         3    4         5         6         7    8\n0  0.797509  0.202492  0.0  0.202491  0.0  0.202491  0.202491  0.797509  0.0\n1  0.160068  0.839934  0.0  0.839932  0.0  0.839932  0.839932  0.160068  0.0\n2  0.419145  0.580854  0.0  0.580855  0.0  0.580855  0.580855  0.419145  0.0\n3  0.270965  0.729036  0.0  0.729035  0.0  0.729034  0.729035  0.270965  0.0\n4  0.506731  0.493270  0.0  0.493269  0.0  0.493269  0.493269  0.506731  0.0",
      "text/html": "<div>\n<style scoped>\n    .dataframe tbody tr th:only-of-type {\n        vertical-align: middle;\n    }\n\n    .dataframe tbody tr th {\n        vertical-align: top;\n    }\n\n    .dataframe thead th {\n        text-align: right;\n    }\n</style>\n<table border=\"1\" class=\"dataframe\">\n  <thead>\n    <tr style=\"text-align: right;\">\n      <th></th>\n      <th>0</th>\n      <th>1</th>\n      <th>2</th>\n      <th>3</th>\n      <th>4</th>\n      <th>5</th>\n      <th>6</th>\n      <th>7</th>\n      <th>8</th>\n    </tr>\n  </thead>\n  <tbody>\n    <tr>\n      <th>0</th>\n      <td>0.797509</td>\n      <td>0.202492</td>\n      <td>0.0</td>\n      <td>0.202491</td>\n      <td>0.0</td>\n      <td>0.202491</td>\n      <td>0.202491</td>\n      <td>0.797509</td>\n      <td>0.0</td>\n    </tr>\n    <tr>\n      <th>1</th>\n      <td>0.160068</td>\n      <td>0.839934</td>\n      <td>0.0</td>\n      <td>0.839932</td>\n      <td>0.0</td>\n      <td>0.839932</td>\n      <td>0.839932</td>\n      <td>0.160068</td>\n      <td>0.0</td>\n    </tr>\n    <tr>\n      <th>2</th>\n      <td>0.419145</td>\n      <td>0.580854</td>\n      <td>0.0</td>\n      <td>0.580855</td>\n      <td>0.0</td>\n      <td>0.580855</td>\n      <td>0.580855</td>\n      <td>0.419145</td>\n      <td>0.0</td>\n    </tr>\n    <tr>\n      <th>3</th>\n      <td>0.270965</td>\n      <td>0.729036</td>\n      <td>0.0</td>\n      <td>0.729035</td>\n      <td>0.0</td>\n      <td>0.729034</td>\n      <td>0.729035</td>\n      <td>0.270965</td>\n      <td>0.0</td>\n    </tr>\n    <tr>\n      <th>4</th>\n      <td>0.506731</td>\n      <td>0.493270</td>\n      <td>0.0</td>\n      <td>0.493269</td>\n      <td>0.0</td>\n      <td>0.493269</td>\n      <td>0.493269</td>\n      <td>0.506731</td>\n      <td>0.0</td>\n    </tr>\n  </tbody>\n</table>\n</div>"
     },
     "execution_count": 35,
     "metadata": {},
     "output_type": "execute_result"
    }
   ],
   "source": [
    "with open('data/3.txt', 'r') as f:\n",
    "    n = int(f.readline())\n",
    "\n",
    "    n_train = int(f.readline())\n",
    "    x_train = pd.DataFrame(map(lambda it: map(int, it.split(' ')), list(f.readline() for _ in range(n_train))))\n",
    "\n",
    "    n_test = int(f.readline())\n",
    "    x_test = pd.DataFrame(map(lambda it: map(int, it.split(' ')), list(f.readline() for _ in range(n_test))))\n",
    "\n",
    "normalize(x_train)\n",
    "y_train = x_train[n]\n",
    "x_train = x_train.drop(columns=n)\n",
    "\n",
    "normalize(x_test)\n",
    "y_test = x_test[n]\n",
    "x_test = x_test.drop(columns=n)\n",
    "\n",
    "x_train.head()\n",
    "x_test.head()"
   ],
   "metadata": {
    "collapsed": false,
    "pycharm": {
     "name": "#%%\n"
    }
   }
  },
  {
   "cell_type": "code",
   "execution_count": 8,
   "outputs": [],
   "source": [
    "import optuna\n",
    "\n",
    "def objective_mnk(trial, error_fun):\n",
    "    tau = trial.suggest_uniform(\"tau\", 0, 1)\n",
    "\n",
    "    w = mnk(x_train, y_train, tau)\n",
    "    return error_fun(w)\n",
    "\n",
    "def objective_gradient(trial, diff_fun, error_fun, metric):\n",
    "    tau = trial.suggest_uniform(\"tau\", 0, 10)\n",
    "    mu = trial.suggest_uniform(\"alpha\", 0.1, 0.9)\n",
    "\n",
    "    w, _ = stochastic_gradient(x_train, y_train, diff_fun, tau, mu, metric)\n",
    "    return error_fun(w)\n",
    "\n",
    "def error(x, y, error_fun):\n",
    "    def inner(weights):\n",
    "        pred = np.dot(weights, x)\n",
    "        return sum(error_fun(y_i, p_i) for p_i, y_i in zip(pred, y)) / len(x)\n",
    "    return inner"
   ],
   "metadata": {
    "collapsed": false,
    "pycharm": {
     "name": "#%%\n"
    }
   }
  },
  {
   "cell_type": "code",
   "execution_count": 9,
   "outputs": [
    {
     "name": "stderr",
     "output_type": "stream",
     "text": [
      "\u001B[32m[I 2022-05-25 18:32:13,140]\u001B[0m A new study created in memory with name: no-name-8a4b47fa-90e6-4c9b-85bf-09ee4e1787f4\u001B[0m\n",
      "\u001B[32m[I 2022-05-25 18:32:13,404]\u001B[0m Trial 0 finished with value: 0.5829443500287073 and parameters: {'tau': 0.24952012841993654}. Best is trial 0 with value: 0.5829443500287073.\u001B[0m\n",
      "\u001B[32m[I 2022-05-25 18:32:13,408]\u001B[0m Trial 1 finished with value: 0.5832017952270385 and parameters: {'tau': 0.31518995333452926}. Best is trial 0 with value: 0.5829443500287073.\u001B[0m\n",
      "\u001B[32m[I 2022-05-25 18:32:13,414]\u001B[0m Trial 2 finished with value: 0.5847849999053873 and parameters: {'tau': 0.741657565937292}. Best is trial 0 with value: 0.5829443500287073.\u001B[0m\n",
      "\u001B[32m[I 2022-05-25 18:32:13,418]\u001B[0m Trial 3 finished with value: 0.5825308306613608 and parameters: {'tau': 0.14605099691885826}. Best is trial 3 with value: 0.5825308306613608.\u001B[0m\n",
      "\u001B[32m[I 2022-05-25 18:32:13,428]\u001B[0m Trial 4 finished with value: 0.5831682672238144 and parameters: {'tau': 0.3065820709074044}. Best is trial 3 with value: 0.5825308306613608.\u001B[0m\n",
      "\u001B[32m[I 2022-05-25 18:32:13,440]\u001B[0m Trial 5 finished with value: 0.5838956141909863 and parameters: {'tau': 0.49715454720388164}. Best is trial 3 with value: 0.5825308306613608.\u001B[0m\n",
      "\u001B[32m[I 2022-05-25 18:32:13,448]\u001B[0m Trial 6 finished with value: 0.5829034540162464 and parameters: {'tau': 0.2391777131063919}. Best is trial 3 with value: 0.5825308306613608.\u001B[0m\n",
      "\u001B[32m[I 2022-05-25 18:32:13,456]\u001B[0m Trial 7 finished with value: 0.5829322890353106 and parameters: {'tau': 0.24646742830378532}. Best is trial 3 with value: 0.5825308306613608.\u001B[0m\n",
      "\u001B[32m[I 2022-05-25 18:32:13,463]\u001B[0m Trial 8 finished with value: 0.5844705207769005 and parameters: {'tau': 0.6537012099924321}. Best is trial 3 with value: 0.5825308306613608.\u001B[0m\n",
      "\u001B[32m[I 2022-05-25 18:32:13,469]\u001B[0m Trial 9 finished with value: 0.5848141567914751 and parameters: {'tau': 0.7498981564114989}. Best is trial 3 with value: 0.5825308306613608.\u001B[0m\n",
      "\u001B[32m[I 2022-05-25 18:32:13,481]\u001B[0m Trial 10 finished with value: 0.5821094960719617 and parameters: {'tau': 0.04309957604522677}. Best is trial 10 with value: 0.5821094960719617.\u001B[0m\n",
      "\u001B[32m[I 2022-05-25 18:32:13,510]\u001B[0m Trial 11 finished with value: 0.5820959897092465 and parameters: {'tau': 0.0398396619093359}. Best is trial 11 with value: 0.5820959897092465.\u001B[0m\n",
      "\u001B[32m[I 2022-05-25 18:32:13,527]\u001B[0m Trial 12 finished with value: 0.5819806378442706 and parameters: {'tau': 0.012098297951422317}. Best is trial 12 with value: 0.5819806378442706.\u001B[0m\n",
      "\u001B[32m[I 2022-05-25 18:32:13,539]\u001B[0m Trial 13 finished with value: 0.582113980024348 and parameters: {'tau': 0.04418237582305463}. Best is trial 12 with value: 0.5819806378442706.\u001B[0m\n",
      "\u001B[32m[I 2022-05-25 18:32:13,556]\u001B[0m Trial 14 finished with value: 0.58554367020842 and parameters: {'tau': 0.9609872088630134}. Best is trial 12 with value: 0.5819806378442706.\u001B[0m\n",
      "\u001B[32m[I 2022-05-25 18:32:13,580]\u001B[0m Trial 15 finished with value: 0.5836805890573818 and parameters: {'tau': 0.4399663471869928}. Best is trial 12 with value: 0.5819806378442706.\u001B[0m\n",
      "\u001B[32m[I 2022-05-25 18:32:13,594]\u001B[0m Trial 16 finished with value: 0.5820535937743726 and parameters: {'tau': 0.029622954437375615}. Best is trial 12 with value: 0.5819806378442706.\u001B[0m\n",
      "\u001B[32m[I 2022-05-25 18:32:13,605]\u001B[0m Trial 17 finished with value: 0.5824896353158588 and parameters: {'tau': 0.13587638640048144}. Best is trial 12 with value: 0.5819806378442706.\u001B[0m\n",
      "\u001B[32m[I 2022-05-25 18:32:13,621]\u001B[0m Trial 18 finished with value: 0.5834415150348176 and parameters: {'tau': 0.37722601085963303}. Best is trial 12 with value: 0.5819806378442706.\u001B[0m\n",
      "\u001B[32m[I 2022-05-25 18:32:13,642]\u001B[0m Trial 19 finished with value: 0.5825462081516996 and parameters: {'tau': 0.14985511081392605}. Best is trial 12 with value: 0.5819806378442706.\u001B[0m\n",
      "\u001B[32m[I 2022-05-25 18:32:13,656]\u001B[0m Trial 20 finished with value: 0.5842532639692369 and parameters: {'tau': 0.5939076101001882}. Best is trial 12 with value: 0.5819806378442706.\u001B[0m\n",
      "\u001B[32m[I 2022-05-25 18:32:13,670]\u001B[0m Trial 21 finished with value: 0.5819621864228649 and parameters: {'tau': 0.007677111818887014}. Best is trial 21 with value: 0.5819621864228649.\u001B[0m\n",
      "\u001B[32m[I 2022-05-25 18:32:13,679]\u001B[0m Trial 22 finished with value: 0.5819320871735641 and parameters: {'tau': 0.0004556537360263617}. Best is trial 22 with value: 0.5819320871735641.\u001B[0m\n",
      "\u001B[32m[I 2022-05-25 18:32:13,704]\u001B[0m Trial 23 finished with value: 0.5824695664956643 and parameters: {'tau': 0.13092831982889291}. Best is trial 22 with value: 0.5819320871735641.\u001B[0m\n",
      "\u001B[32m[I 2022-05-25 18:32:13,721]\u001B[0m Trial 24 finished with value: 0.5823626821390389 and parameters: {'tau': 0.10467014353654355}. Best is trial 22 with value: 0.5819320871735641.\u001B[0m\n",
      "\u001B[32m[I 2022-05-25 18:32:13,735]\u001B[0m Trial 25 finished with value: 0.5820027916172457 and parameters: {'tau': 0.017412349101265115}. Best is trial 22 with value: 0.5819320871735641.\u001B[0m\n",
      "\u001B[32m[I 2022-05-25 18:32:13,748]\u001B[0m Trial 26 finished with value: 0.5827493975684779 and parameters: {'tau': 0.20043486173025096}. Best is trial 22 with value: 0.5819320871735641.\u001B[0m\n",
      "\u001B[32m[I 2022-05-25 18:32:13,768]\u001B[0m Trial 27 finished with value: 0.582273166573035 and parameters: {'tau': 0.08280088014962445}. Best is trial 22 with value: 0.5819320871735641.\u001B[0m\n",
      "\u001B[32m[I 2022-05-25 18:32:13,788]\u001B[0m Trial 28 finished with value: 0.5819310475581718 and parameters: {'tau': 0.00017247224950660799}. Best is trial 28 with value: 0.5819310475581718.\u001B[0m\n",
      "\u001B[32m[I 2022-05-25 18:32:13,802]\u001B[0m Trial 29 finished with value: 0.5831827847090865 and parameters: {'tau': 0.3103071946917313}. Best is trial 28 with value: 0.5819310475581718.\u001B[0m\n",
      "\u001B[32m[I 2022-05-25 18:32:13,813]\u001B[0m Trial 30 finished with value: 0.5855021892407298 and parameters: {'tau': 0.9487252194629083}. Best is trial 28 with value: 0.5819310475581718.\u001B[0m\n",
      "\u001B[32m[I 2022-05-25 18:32:13,839]\u001B[0m Trial 31 finished with value: 0.5826946816976386 and parameters: {'tau': 0.18675671993502968}. Best is trial 28 with value: 0.5819310475581718.\u001B[0m\n",
      "\u001B[32m[I 2022-05-25 18:32:13,858]\u001B[0m Trial 32 finished with value: 0.5819582360824365 and parameters: {'tau': 0.006731077700122454}. Best is trial 28 with value: 0.5819310475581718.\u001B[0m\n",
      "\u001B[32m[I 2022-05-25 18:32:13,874]\u001B[0m Trial 33 finished with value: 0.5822696715424711 and parameters: {'tau': 0.08194926240420783}. Best is trial 28 with value: 0.5819310475581718.\u001B[0m\n",
      "\u001B[32m[I 2022-05-25 18:32:13,886]\u001B[0m Trial 34 finished with value: 0.5827104862105551 and parameters: {'tau': 0.19070321583975744}. Best is trial 28 with value: 0.5819310475581718.\u001B[0m\n",
      "\u001B[32m[I 2022-05-25 18:32:13,914]\u001B[0m Trial 35 finished with value: 0.5822784637676947 and parameters: {'tau': 0.08409194325295476}. Best is trial 28 with value: 0.5819310475581718.\u001B[0m\n",
      "\u001B[32m[I 2022-05-25 18:32:13,930]\u001B[0m Trial 36 finished with value: 0.5852354004935155 and parameters: {'tau': 0.870618728458801}. Best is trial 28 with value: 0.5819310475581718.\u001B[0m\n",
      "\u001B[32m[I 2022-05-25 18:32:13,943]\u001B[0m Trial 37 finished with value: 0.5819425882561096 and parameters: {'tau': 0.0029846696656929323}. Best is trial 28 with value: 0.5819310475581718.\u001B[0m\n",
      "\u001B[32m[I 2022-05-25 18:32:13,956]\u001B[0m Trial 38 finished with value: 0.5830792962982375 and parameters: {'tau': 0.2838207748989295}. Best is trial 28 with value: 0.5819310475581718.\u001B[0m\n",
      "\u001B[32m[I 2022-05-25 18:32:13,984]\u001B[0m Trial 39 finished with value: 0.5819344155858134 and parameters: {'tau': 9.39357987754649e-06}. Best is trial 28 with value: 0.5819310475581718.\u001B[0m\n",
      "\u001B[32m[I 2022-05-25 18:32:14,001]\u001B[0m Trial 40 finished with value: 0.5828402086899471 and parameters: {'tau': 0.22323104203015431}. Best is trial 28 with value: 0.5819310475581718.\u001B[0m\n",
      "\u001B[32m[I 2022-05-25 18:32:14,014]\u001B[0m Trial 41 finished with value: 0.5822769839866857 and parameters: {'tau': 0.08373124353870962}. Best is trial 28 with value: 0.5819310475581718.\u001B[0m\n",
      "\u001B[32m[I 2022-05-25 18:32:14,025]\u001B[0m Trial 42 finished with value: 0.5825196993430907 and parameters: {'tau': 0.14329938454502283}. Best is trial 28 with value: 0.5819310475581718.\u001B[0m\n",
      "\u001B[32m[I 2022-05-25 18:32:14,038]\u001B[0m Trial 43 finished with value: 0.5819630469331438 and parameters: {'tau': 0.007883210419628606}. Best is trial 28 with value: 0.5819310475581718.\u001B[0m\n",
      "\u001B[32m[I 2022-05-25 18:32:14,062]\u001B[0m Trial 44 finished with value: 0.5821852551386919 and parameters: {'tau': 0.061430841204399046}. Best is trial 28 with value: 0.5819310475581718.\u001B[0m\n",
      "\u001B[32m[I 2022-05-25 18:32:14,077]\u001B[0m Trial 45 finished with value: 0.582410982296765 and parameters: {'tau': 0.1165162944974918}. Best is trial 28 with value: 0.5819310475581718.\u001B[0m\n",
      "\u001B[32m[I 2022-05-25 18:32:14,089]\u001B[0m Trial 46 finished with value: 0.5829860915717442 and parameters: {'tau': 0.260101505440499}. Best is trial 28 with value: 0.5819310475581718.\u001B[0m\n",
      "\u001B[32m[I 2022-05-25 18:32:14,099]\u001B[0m Trial 47 finished with value: 0.5834171566616219 and parameters: {'tau': 0.37088279184443884}. Best is trial 28 with value: 0.5819310475581718.\u001B[0m\n",
      "\u001B[32m[I 2022-05-25 18:32:14,117]\u001B[0m Trial 48 finished with value: 0.5841462371063542 and parameters: {'tau': 0.5647373311206203}. Best is trial 28 with value: 0.5819310475581718.\u001B[0m\n",
      "\u001B[32m[I 2022-05-25 18:32:14,138]\u001B[0m Trial 49 finished with value: 0.582170447937726 and parameters: {'tau': 0.05784182644757667}. Best is trial 28 with value: 0.5819310475581718.\u001B[0m\n",
      "\u001B[32m[I 2022-05-25 18:32:14,153]\u001B[0m Trial 50 finished with value: 0.5821439224014986 and parameters: {'tau': 0.05141996050106916}. Best is trial 28 with value: 0.5819310475581718.\u001B[0m\n",
      "\u001B[32m[I 2022-05-25 18:32:14,165]\u001B[0m Trial 51 finished with value: 0.5819519343765314 and parameters: {'tau': 0.005222235861466686}. Best is trial 28 with value: 0.5819310475581718.\u001B[0m\n",
      "\u001B[32m[I 2022-05-25 18:32:14,189]\u001B[0m Trial 52 finished with value: 0.5819483813079089 and parameters: {'tau': 0.004371619980580683}. Best is trial 28 with value: 0.5819310475581718.\u001B[0m\n",
      "\u001B[32m[I 2022-05-25 18:32:14,207]\u001B[0m Trial 53 finished with value: 0.5826192205340918 and parameters: {'tau': 0.16796256971847626}. Best is trial 28 with value: 0.5819310475581718.\u001B[0m\n",
      "\u001B[32m[I 2022-05-25 18:32:14,220]\u001B[0m Trial 54 finished with value: 0.581953956471225 and parameters: {'tau': 0.005706359592422766}. Best is trial 28 with value: 0.5819310475581718.\u001B[0m\n",
      "\u001B[32m[I 2022-05-25 18:32:14,231]\u001B[0m Trial 55 finished with value: 0.5824232646489625 and parameters: {'tau': 0.11953385221155928}. Best is trial 28 with value: 0.5819310475581718.\u001B[0m\n",
      "\u001B[32m[I 2022-05-25 18:32:14,246]\u001B[0m Trial 56 finished with value: 0.5820833100322516 and parameters: {'tau': 0.036781526485131506}. Best is trial 28 with value: 0.5819310475581718.\u001B[0m\n",
      "\u001B[32m[I 2022-05-25 18:32:14,270]\u001B[0m Trial 57 finished with value: 0.5821499680135663 and parameters: {'tau': 0.05288276759347667}. Best is trial 28 with value: 0.5819310475581718.\u001B[0m\n",
      "\u001B[32m[I 2022-05-25 18:32:14,286]\u001B[0m Trial 58 finished with value: 0.5823793869820161 and parameters: {'tau': 0.10876352649334721}. Best is trial 28 with value: 0.5819310475581718.\u001B[0m\n",
      "\u001B[32m[I 2022-05-25 18:32:14,298]\u001B[0m Trial 59 finished with value: 0.5819352796470046 and parameters: {'tau': 0.001232218466695807}. Best is trial 28 with value: 0.5819310475581718.\u001B[0m\n",
      "\u001B[32m[I 2022-05-25 18:32:14,320]\u001B[0m Trial 60 finished with value: 0.5848338507160084 and parameters: {'tau': 0.7554725664048865}. Best is trial 28 with value: 0.5819310475581718.\u001B[0m\n",
      "\u001B[32m[I 2022-05-25 18:32:14,339]\u001B[0m Trial 61 finished with value: 0.5819533937237114 and parameters: {'tau': 0.005571625523714081}. Best is trial 28 with value: 0.5819310475581718.\u001B[0m\n",
      "\u001B[32m[I 2022-05-25 18:32:14,353]\u001B[0m Trial 62 finished with value: 0.5822200643374867 and parameters: {'tau': 0.06987980268003113}. Best is trial 28 with value: 0.5819310475581718.\u001B[0m\n",
      "\u001B[32m[I 2022-05-25 18:32:14,364]\u001B[0m Trial 63 finished with value: 0.5820938385180484 and parameters: {'tau': 0.03932067566932338}. Best is trial 28 with value: 0.5819310475581718.\u001B[0m\n",
      "\u001B[32m[I 2022-05-25 18:32:14,390]\u001B[0m Trial 64 finished with value: 0.5823420502540012 and parameters: {'tau': 0.09961981124076295}. Best is trial 28 with value: 0.5819310475581718.\u001B[0m\n",
      "\u001B[32m[I 2022-05-25 18:32:14,407]\u001B[0m Trial 65 finished with value: 0.5819380940246843 and parameters: {'tau': 0.0019079622138024263}. Best is trial 28 with value: 0.5819310475581718.\u001B[0m\n",
      "\u001B[32m[I 2022-05-25 18:32:14,420]\u001B[0m Trial 66 finished with value: 0.5826241115121714 and parameters: {'tau': 0.1691782524352688}. Best is trial 28 with value: 0.5819310475581718.\u001B[0m\n",
      "\u001B[32m[I 2022-05-25 18:32:14,437]\u001B[0m Trial 67 finished with value: 0.5820696326639152 and parameters: {'tau': 0.03348520177712808}. Best is trial 28 with value: 0.5819310475581718.\u001B[0m\n",
      "\u001B[32m[I 2022-05-25 18:32:14,463]\u001B[0m Trial 68 finished with value: 0.5825355171103904 and parameters: {'tau': 0.1472099874243004}. Best is trial 28 with value: 0.5819310475581718.\u001B[0m\n",
      "\u001B[32m[I 2022-05-25 18:32:14,479]\u001B[0m Trial 69 finished with value: 0.5822453906498967 and parameters: {'tau': 0.07603748713600422}. Best is trial 28 with value: 0.5819310475581718.\u001B[0m\n",
      "\u001B[32m[I 2022-05-25 18:32:14,490]\u001B[0m Trial 70 finished with value: 0.5820819799225321 and parameters: {'tau': 0.03646085136093158}. Best is trial 28 with value: 0.5819310475581718.\u001B[0m\n",
      "\u001B[32m[I 2022-05-25 18:32:14,515]\u001B[0m Trial 71 finished with value: 0.5819703799696083 and parameters: {'tau': 0.009639873409785945}. Best is trial 28 with value: 0.5819310475581718.\u001B[0m\n",
      "\u001B[32m[I 2022-05-25 18:32:14,534]\u001B[0m Trial 72 finished with value: 0.5820748905776237 and parameters: {'tau': 0.03475209019694743}. Best is trial 28 with value: 0.5819310475581718.\u001B[0m\n",
      "\u001B[32m[I 2022-05-25 18:32:14,546]\u001B[0m Trial 73 finished with value: 0.5823522806724881 and parameters: {'tau': 0.10212330551755099}. Best is trial 28 with value: 0.5819310475581718.\u001B[0m\n",
      "\u001B[32m[I 2022-05-25 18:32:14,558]\u001B[0m Trial 74 finished with value: 0.581940400700061 and parameters: {'tau': 0.0024607502453949186}. Best is trial 28 with value: 0.5819310475581718.\u001B[0m\n",
      "\u001B[32m[I 2022-05-25 18:32:14,585]\u001B[0m Trial 75 finished with value: 0.582244587090661 and parameters: {'tau': 0.07584197950274262}. Best is trial 28 with value: 0.5819310475581718.\u001B[0m\n",
      "\u001B[32m[I 2022-05-25 18:32:14,603]\u001B[0m Trial 76 finished with value: 0.5821809051344473 and parameters: {'tau': 0.06037616337244937}. Best is trial 28 with value: 0.5819310475581718.\u001B[0m\n",
      "\u001B[32m[I 2022-05-25 18:32:14,618]\u001B[0m Trial 77 finished with value: 0.5838562650011326 and parameters: {'tau': 0.4866347974482104}. Best is trial 28 with value: 0.5819310475581718.\u001B[0m\n",
      "\u001B[32m[I 2022-05-25 18:32:14,648]\u001B[0m Trial 78 finished with value: 0.5819378924557024 and parameters: {'tau': 0.001859628110418228}. Best is trial 28 with value: 0.5819310475581718.\u001B[0m\n",
      "\u001B[32m[I 2022-05-25 18:32:14,663]\u001B[0m Trial 79 finished with value: 0.5828210353383648 and parameters: {'tau': 0.2184080985999448}. Best is trial 28 with value: 0.5819310475581718.\u001B[0m\n",
      "\u001B[32m[I 2022-05-25 18:32:14,675]\u001B[0m Trial 80 finished with value: 0.5824648137180033 and parameters: {'tau': 0.12975732465223994}. Best is trial 28 with value: 0.5819310475581718.\u001B[0m\n",
      "\u001B[32m[I 2022-05-25 18:32:14,697]\u001B[0m Trial 81 finished with value: 0.5820461734842183 and parameters: {'tau': 0.027837283409836322}. Best is trial 28 with value: 0.5819310475581718.\u001B[0m\n",
      "\u001B[32m[I 2022-05-25 18:32:14,718]\u001B[0m Trial 82 finished with value: 0.5822953235917196 and parameters: {'tau': 0.08820368991343219}. Best is trial 28 with value: 0.5819310475581718.\u001B[0m\n",
      "\u001B[32m[I 2022-05-25 18:32:14,731]\u001B[0m Trial 83 finished with value: 0.5819454913510448 and parameters: {'tau': 0.003679757725272942}. Best is trial 28 with value: 0.5819310475581718.\u001B[0m\n",
      "\u001B[32m[I 2022-05-25 18:32:14,745]\u001B[0m Trial 84 finished with value: 0.5821713148789048 and parameters: {'tau': 0.05805187584602544}. Best is trial 28 with value: 0.5819310475581718.\u001B[0m\n",
      "\u001B[32m[I 2022-05-25 18:32:14,773]\u001B[0m Trial 85 finished with value: 0.5820325341084742 and parameters: {'tau': 0.024556939416511242}. Best is trial 28 with value: 0.5819310475581718.\u001B[0m\n",
      "\u001B[32m[I 2022-05-25 18:32:14,791]\u001B[0m Trial 86 finished with value: 0.5820583224537939 and parameters: {'tau': 0.030761284185028624}. Best is trial 28 with value: 0.5819310475581718.\u001B[0m\n",
      "\u001B[32m[I 2022-05-25 18:32:14,806]\u001B[0m Trial 87 finished with value: 0.5819309179640789 and parameters: {'tau': 0.00010910164996842837}. Best is trial 87 with value: 0.5819309179640789.\u001B[0m\n",
      "\u001B[32m[I 2022-05-25 18:32:14,835]\u001B[0m Trial 88 finished with value: 0.5823476874274398 and parameters: {'tau': 0.10099910940416561}. Best is trial 87 with value: 0.5819309179640789.\u001B[0m\n",
      "\u001B[32m[I 2022-05-25 18:32:14,853]\u001B[0m Trial 89 finished with value: 0.5821682549002718 and parameters: {'tau': 0.057310525671090906}. Best is trial 87 with value: 0.5819309179640789.\u001B[0m\n",
      "\u001B[32m[I 2022-05-25 18:32:14,867]\u001B[0m Trial 90 finished with value: 0.5847184996987232 and parameters: {'tau': 0.7229175278450857}. Best is trial 87 with value: 0.5819309179640789.\u001B[0m\n",
      "\u001B[32m[I 2022-05-25 18:32:14,892]\u001B[0m Trial 91 finished with value: 0.5819443631194882 and parameters: {'tau': 0.003409641313952116}. Best is trial 87 with value: 0.5819309179640789.\u001B[0m\n",
      "\u001B[32m[I 2022-05-25 18:32:14,916]\u001B[0m Trial 92 finished with value: 0.5819334729438048 and parameters: {'tau': 0.0007959741950340133}. Best is trial 87 with value: 0.5819309179640789.\u001B[0m\n",
      "\u001B[32m[I 2022-05-25 18:32:14,930]\u001B[0m Trial 93 finished with value: 0.5833746002037948 and parameters: {'tau': 0.3598221866618971}. Best is trial 87 with value: 0.5819309179640789.\u001B[0m\n",
      "\u001B[32m[I 2022-05-25 18:32:14,941]\u001B[0m Trial 94 finished with value: 0.5820659672904458 and parameters: {'tau': 0.0326022549919049}. Best is trial 87 with value: 0.5819309179640789.\u001B[0m\n",
      "\u001B[32m[I 2022-05-25 18:32:14,970]\u001B[0m Trial 95 finished with value: 0.5822114054967978 and parameters: {'tau': 0.06777656175970266}. Best is trial 87 with value: 0.5819309179640789.\u001B[0m\n",
      "\u001B[32m[I 2022-05-25 18:32:14,986]\u001B[0m Trial 96 finished with value: 0.582135105573376 and parameters: {'tau': 0.049287516541722864}. Best is trial 87 with value: 0.5819309179640789.\u001B[0m\n",
      "\u001B[32m[I 2022-05-25 18:32:14,999]\u001B[0m Trial 97 finished with value: 0.5820424698084342 and parameters: {'tau': 0.026946281957388567}. Best is trial 87 with value: 0.5819309179640789.\u001B[0m\n",
      "\u001B[32m[I 2022-05-25 18:32:15,009]\u001B[0m Trial 98 finished with value: 0.5824443429266062 and parameters: {'tau': 0.1247173149142339}. Best is trial 87 with value: 0.5819309179640789.\u001B[0m\n",
      "\u001B[32m[I 2022-05-25 18:32:15,037]\u001B[0m Trial 99 finished with value: 0.5825994480611748 and parameters: {'tau': 0.16305145317985284}. Best is trial 87 with value: 0.5819309179640789.\u001B[0m\n"
     ]
    },
    {
     "name": "stdout",
     "output_type": "stream",
     "text": [
      "Testing MNK\n",
      "Number of finished trials: 100\n",
      "Best trial: {'tau': 0.00010910164996842837}\n",
      "Best score: 0.5819309179640789\n"
     ]
    }
   ],
   "source": [
    "studyMNK = optuna.create_study(direction='minimize')\n",
    "studyMNK.optimize(lambda trial : objective_mnk(trial, error(x_train, y_train, smape)), n_trials=100)\n",
    "\n",
    "print('Testing MNK')\n",
    "print('Number of finished trials:', len(studyMNK.trials))\n",
    "print('Best trial:', studyMNK.best_trial.params)\n",
    "print('Best score:', studyMNK.best_trial.value)"
   ],
   "metadata": {
    "collapsed": false,
    "pycharm": {
     "name": "#%%\n"
    }
   }
  },
  {
   "cell_type": "code",
   "execution_count": 10,
   "outputs": [
    {
     "name": "stderr",
     "output_type": "stream",
     "text": [
      "\u001B[32m[I 2022-05-25 18:32:15,065]\u001B[0m A new study created in memory with name: no-name-86ff14b5-8cad-4862-9c5c-88bb6f76557c\u001B[0m\n",
      "/tmp/ipykernel_26423/1019279531.py:13: RuntimeWarning: invalid value encountered in double_scalars\n",
      "  diff = list(x_i * diff_multiplier for x_i in x[i % n])\n",
      "\u001B[33m[W 2022-05-25 18:32:15,368]\u001B[0m Trial 0 failed, because the objective function returned nan.\u001B[0m\n",
      "/tmp/ipykernel_26423/1618380470.py:2: RuntimeWarning: overflow encountered in double_scalars\n",
      "  return (y + y_pred) ** 2\n",
      "\u001B[32m[I 2022-05-25 18:32:15,663]\u001B[0m Trial 1 finished with value: inf and parameters: {'tau': 2.909191428985637, 'alpha': 0.6497170010179221}. Best is trial 1 with value: inf.\u001B[0m\n",
      "\u001B[32m[I 2022-05-25 18:32:15,952]\u001B[0m Trial 2 finished with value: 0.9958594159709863 and parameters: {'tau': 6.710102003818958, 'alpha': 0.12477564310244978}. Best is trial 2 with value: 0.9958594159709863.\u001B[0m\n",
      "/tmp/ipykernel_26423/1618380470.py:2: RuntimeWarning: overflow encountered in double_scalars\n",
      "  return (y + y_pred) ** 2\n",
      "\u001B[32m[I 2022-05-25 18:32:16,217]\u001B[0m Trial 3 finished with value: inf and parameters: {'tau': 4.5975512755450465, 'alpha': 0.4953792864775577}. Best is trial 2 with value: 0.9958594159709863.\u001B[0m\n",
      "\u001B[32m[I 2022-05-25 18:32:16,449]\u001B[0m Trial 4 finished with value: 2.990367563888284e+87 and parameters: {'tau': 0.2659520595464149, 'alpha': 0.35945745854980016}. Best is trial 2 with value: 0.9958594159709863.\u001B[0m\n",
      "/tmp/ipykernel_26423/1618380470.py:2: RuntimeWarning: overflow encountered in double_scalars\n",
      "  return (y + y_pred) ** 2\n",
      "\u001B[32m[I 2022-05-25 18:32:16,642]\u001B[0m Trial 5 finished with value: inf and parameters: {'tau': 0.3826989910159351, 'alpha': 0.688443692000356}. Best is trial 2 with value: 0.9958594159709863.\u001B[0m\n",
      "\u001B[32m[I 2022-05-25 18:32:16,861]\u001B[0m Trial 6 finished with value: 1.0958789436390417 and parameters: {'tau': 8.468338270433195, 'alpha': 0.23448363364417393}. Best is trial 2 with value: 0.9958594159709863.\u001B[0m\n",
      "\u001B[32m[I 2022-05-25 18:32:17,069]\u001B[0m Trial 7 finished with value: 0.965697955890083 and parameters: {'tau': 8.784825739149738, 'alpha': 0.10923108941074987}. Best is trial 7 with value: 0.965697955890083.\u001B[0m\n",
      "\u001B[32m[I 2022-05-25 18:32:17,241]\u001B[0m Trial 8 finished with value: 1.0177317249503701 and parameters: {'tau': 3.7549854233380375, 'alpha': 0.16726347195995056}. Best is trial 7 with value: 0.965697955890083.\u001B[0m\n",
      "/tmp/ipykernel_26423/1618380470.py:2: RuntimeWarning: overflow encountered in double_scalars\n",
      "  return (y + y_pred) ** 2\n",
      "\u001B[32m[I 2022-05-25 18:32:17,417]\u001B[0m Trial 9 finished with value: inf and parameters: {'tau': 8.616332731479483, 'alpha': 0.7302873894378539}. Best is trial 7 with value: 0.965697955890083.\u001B[0m\n",
      "/tmp/ipykernel_26423/1618380470.py:2: RuntimeWarning: overflow encountered in double_scalars\n",
      "  return (y + y_pred) ** 2\n",
      "\u001B[32m[I 2022-05-25 18:32:17,602]\u001B[0m Trial 10 finished with value: inf and parameters: {'tau': 3.7773360230708897, 'alpha': 0.7023857970541755}. Best is trial 7 with value: 0.965697955890083.\u001B[0m\n",
      "\u001B[32m[I 2022-05-25 18:32:17,769]\u001B[0m Trial 11 finished with value: 3.841928268834653e+142 and parameters: {'tau': 9.952727848730909, 'alpha': 0.38922531622427176}. Best is trial 7 with value: 0.965697955890083.\u001B[0m\n",
      "\u001B[32m[I 2022-05-25 18:32:17,960]\u001B[0m Trial 12 finished with value: 0.990501286480547 and parameters: {'tau': 6.636964879472263, 'alpha': 0.11894847450889656}. Best is trial 7 with value: 0.965697955890083.\u001B[0m\n",
      "\u001B[32m[I 2022-05-25 18:32:18,135]\u001B[0m Trial 13 finished with value: 7.227904309044328 and parameters: {'tau': 6.465713850683111, 'alpha': 0.27556099681846785}. Best is trial 7 with value: 0.965697955890083.\u001B[0m\n",
      "/tmp/ipykernel_26423/1618380470.py:5: RuntimeWarning: overflow encountered in double_scalars\n",
      "  return 2.0 * (y_pred - y)\n",
      "/tmp/ipykernel_26423/1019279531.py:13: RuntimeWarning: invalid value encountered in double_scalars\n",
      "  diff = list(x_i * diff_multiplier for x_i in x[i % n])\n",
      "\u001B[33m[W 2022-05-25 18:32:18,352]\u001B[0m Trial 14 failed, because the objective function returned nan.\u001B[0m\n",
      "/tmp/ipykernel_26423/1019279531.py:13: RuntimeWarning: invalid value encountered in double_scalars\n",
      "  diff = list(x_i * diff_multiplier for x_i in x[i % n])\n",
      "\u001B[33m[W 2022-05-25 18:32:18,567]\u001B[0m Trial 15 failed, because the objective function returned nan.\u001B[0m\n",
      "/tmp/ipykernel_26423/1019279531.py:13: RuntimeWarning: invalid value encountered in double_scalars\n",
      "  diff = list(x_i * diff_multiplier for x_i in x[i % n])\n",
      "\u001B[33m[W 2022-05-25 18:32:18,785]\u001B[0m Trial 16 failed, because the objective function returned nan.\u001B[0m\n",
      "\u001B[32m[I 2022-05-25 18:32:19,082]\u001B[0m Trial 17 finished with value: 0.9710243772399656 and parameters: {'tau': 6.6754705594595904, 'alpha': 0.10362290094225977}. Best is trial 7 with value: 0.965697955890083.\u001B[0m\n",
      "/tmp/ipykernel_26423/1618380470.py:5: RuntimeWarning: overflow encountered in double_scalars\n",
      "  return 2.0 * (y_pred - y)\n",
      "/tmp/ipykernel_26423/1019279531.py:13: RuntimeWarning: invalid value encountered in double_scalars\n",
      "  diff = list(x_i * diff_multiplier for x_i in x[i % n])\n",
      "\u001B[33m[W 2022-05-25 18:32:19,342]\u001B[0m Trial 18 failed, because the objective function returned nan.\u001B[0m\n",
      "/tmp/ipykernel_26423/1618380470.py:2: RuntimeWarning: overflow encountered in double_scalars\n",
      "  return (y + y_pred) ** 2\n",
      "\u001B[32m[I 2022-05-25 18:32:19,624]\u001B[0m Trial 19 finished with value: inf and parameters: {'tau': 8.130353755881371, 'alpha': 0.527620789843435}. Best is trial 7 with value: 0.965697955890083.\u001B[0m\n",
      "\u001B[32m[I 2022-05-25 18:32:19,880]\u001B[0m Trial 20 finished with value: 4.378426624474027 and parameters: {'tau': 9.815548735416472, 'alpha': 0.2706294912274081}. Best is trial 7 with value: 0.965697955890083.\u001B[0m\n",
      "\u001B[32m[I 2022-05-25 18:32:20,091]\u001B[0m Trial 21 finished with value: 6.938621446116918e+128 and parameters: {'tau': 5.684523902615607, 'alpha': 0.3819520080070935}. Best is trial 7 with value: 0.965697955890083.\u001B[0m\n",
      "/tmp/ipykernel_26423/1618380470.py:5: RuntimeWarning: overflow encountered in double_scalars\n",
      "  return 2.0 * (y_pred - y)\n",
      "/tmp/ipykernel_26423/1019279531.py:13: RuntimeWarning: invalid value encountered in double_scalars\n",
      "  diff = list(x_i * diff_multiplier for x_i in x[i % n])\n",
      "\u001B[33m[W 2022-05-25 18:32:20,302]\u001B[0m Trial 22 failed, because the objective function returned nan.\u001B[0m\n",
      "/tmp/ipykernel_26423/1618380470.py:5: RuntimeWarning: overflow encountered in double_scalars\n",
      "  return 2.0 * (y_pred - y)\n",
      "/tmp/ipykernel_26423/1019279531.py:13: RuntimeWarning: invalid value encountered in double_scalars\n",
      "  diff = list(x_i * diff_multiplier for x_i in x[i % n])\n",
      "\u001B[33m[W 2022-05-25 18:32:20,555]\u001B[0m Trial 23 failed, because the objective function returned nan.\u001B[0m\n",
      "/tmp/ipykernel_26423/1618380470.py:5: RuntimeWarning: overflow encountered in double_scalars\n",
      "  return 2.0 * (y_pred - y)\n",
      "/tmp/ipykernel_26423/1019279531.py:13: RuntimeWarning: invalid value encountered in double_scalars\n",
      "  diff = list(x_i * diff_multiplier for x_i in x[i % n])\n",
      "\u001B[33m[W 2022-05-25 18:32:20,828]\u001B[0m Trial 24 failed, because the objective function returned nan.\u001B[0m\n",
      "/tmp/ipykernel_26423/1618380470.py:5: RuntimeWarning: overflow encountered in double_scalars\n",
      "  return 2.0 * (y_pred - y)\n",
      "/tmp/ipykernel_26423/1019279531.py:13: RuntimeWarning: invalid value encountered in double_scalars\n",
      "  diff = list(x_i * diff_multiplier for x_i in x[i % n])\n",
      "\u001B[33m[W 2022-05-25 18:32:21,058]\u001B[0m Trial 25 failed, because the objective function returned nan.\u001B[0m\n",
      "/tmp/ipykernel_26423/1618380470.py:5: RuntimeWarning: overflow encountered in double_scalars\n",
      "  return 2.0 * (y_pred - y)\n",
      "/tmp/ipykernel_26423/1019279531.py:13: RuntimeWarning: invalid value encountered in double_scalars\n",
      "  diff = list(x_i * diff_multiplier for x_i in x[i % n])\n",
      "\u001B[33m[W 2022-05-25 18:32:21,292]\u001B[0m Trial 26 failed, because the objective function returned nan.\u001B[0m\n",
      "/tmp/ipykernel_26423/1618380470.py:5: RuntimeWarning: overflow encountered in double_scalars\n",
      "  return 2.0 * (y_pred - y)\n",
      "/tmp/ipykernel_26423/1019279531.py:13: RuntimeWarning: invalid value encountered in double_scalars\n",
      "  diff = list(x_i * diff_multiplier for x_i in x[i % n])\n",
      "\u001B[33m[W 2022-05-25 18:32:21,546]\u001B[0m Trial 27 failed, because the objective function returned nan.\u001B[0m\n",
      "/tmp/ipykernel_26423/1019279531.py:13: RuntimeWarning: invalid value encountered in double_scalars\n",
      "  diff = list(x_i * diff_multiplier for x_i in x[i % n])\n",
      "\u001B[33m[W 2022-05-25 18:32:21,811]\u001B[0m Trial 28 failed, because the objective function returned nan.\u001B[0m\n",
      "/tmp/ipykernel_26423/1618380470.py:5: RuntimeWarning: overflow encountered in double_scalars\n",
      "  return 2.0 * (y_pred - y)\n",
      "/tmp/ipykernel_26423/1019279531.py:13: RuntimeWarning: invalid value encountered in double_scalars\n",
      "  diff = list(x_i * diff_multiplier for x_i in x[i % n])\n",
      "\u001B[33m[W 2022-05-25 18:32:22,156]\u001B[0m Trial 29 failed, because the objective function returned nan.\u001B[0m\n",
      "/tmp/ipykernel_26423/1019279531.py:13: RuntimeWarning: invalid value encountered in double_scalars\n",
      "  diff = list(x_i * diff_multiplier for x_i in x[i % n])\n",
      "\u001B[33m[W 2022-05-25 18:32:22,444]\u001B[0m Trial 30 failed, because the objective function returned nan.\u001B[0m\n",
      "\u001B[32m[I 2022-05-25 18:32:22,760]\u001B[0m Trial 31 finished with value: 0.9907152375329016 and parameters: {'tau': 7.519044539633436, 'alpha': 0.18920589706223573}. Best is trial 7 with value: 0.965697955890083.\u001B[0m\n",
      "/tmp/ipykernel_26423/1618380470.py:5: RuntimeWarning: overflow encountered in double_scalars\n",
      "  return 2.0 * (y_pred - y)\n",
      "/tmp/ipykernel_26423/1019279531.py:13: RuntimeWarning: invalid value encountered in double_scalars\n",
      "  diff = list(x_i * diff_multiplier for x_i in x[i % n])\n",
      "\u001B[33m[W 2022-05-25 18:32:23,140]\u001B[0m Trial 32 failed, because the objective function returned nan.\u001B[0m\n",
      "/tmp/ipykernel_26423/1019279531.py:13: RuntimeWarning: invalid value encountered in double_scalars\n",
      "  diff = list(x_i * diff_multiplier for x_i in x[i % n])\n",
      "\u001B[33m[W 2022-05-25 18:32:23,579]\u001B[0m Trial 33 failed, because the objective function returned nan.\u001B[0m\n",
      "/tmp/ipykernel_26423/1019279531.py:13: RuntimeWarning: invalid value encountered in double_scalars\n",
      "  diff = list(x_i * diff_multiplier for x_i in x[i % n])\n",
      "\u001B[33m[W 2022-05-25 18:32:23,888]\u001B[0m Trial 34 failed, because the objective function returned nan.\u001B[0m\n",
      "/tmp/ipykernel_26423/1618380470.py:2: RuntimeWarning: overflow encountered in double_scalars\n",
      "  return (y + y_pred) ** 2\n",
      "\u001B[32m[I 2022-05-25 18:32:24,184]\u001B[0m Trial 35 finished with value: inf and parameters: {'tau': 5.414322548545407, 'alpha': 0.5158176175097248}. Best is trial 7 with value: 0.965697955890083.\u001B[0m\n",
      "/tmp/ipykernel_26423/1019279531.py:13: RuntimeWarning: invalid value encountered in double_scalars\n",
      "  diff = list(x_i * diff_multiplier for x_i in x[i % n])\n",
      "\u001B[33m[W 2022-05-25 18:32:24,593]\u001B[0m Trial 36 failed, because the objective function returned nan.\u001B[0m\n",
      "/tmp/ipykernel_26423/1618380470.py:5: RuntimeWarning: overflow encountered in double_scalars\n",
      "  return 2.0 * (y_pred - y)\n",
      "/tmp/ipykernel_26423/1019279531.py:13: RuntimeWarning: invalid value encountered in double_scalars\n",
      "  diff = list(x_i * diff_multiplier for x_i in x[i % n])\n",
      "\u001B[33m[W 2022-05-25 18:32:24,909]\u001B[0m Trial 37 failed, because the objective function returned nan.\u001B[0m\n",
      "/tmp/ipykernel_26423/1618380470.py:5: RuntimeWarning: overflow encountered in double_scalars\n",
      "  return 2.0 * (y_pred - y)\n",
      "/tmp/ipykernel_26423/1019279531.py:13: RuntimeWarning: invalid value encountered in double_scalars\n",
      "  diff = list(x_i * diff_multiplier for x_i in x[i % n])\n",
      "\u001B[33m[W 2022-05-25 18:32:25,182]\u001B[0m Trial 38 failed, because the objective function returned nan.\u001B[0m\n",
      "\u001B[32m[I 2022-05-25 18:32:25,564]\u001B[0m Trial 39 finished with value: 23074116.15017189 and parameters: {'tau': 1.9418960130063407, 'alpha': 0.2944483430023914}. Best is trial 7 with value: 0.965697955890083.\u001B[0m\n",
      "/tmp/ipykernel_26423/1618380470.py:5: RuntimeWarning: overflow encountered in double_scalars\n",
      "  return 2.0 * (y_pred - y)\n",
      "/tmp/ipykernel_26423/1019279531.py:13: RuntimeWarning: invalid value encountered in double_scalars\n",
      "  diff = list(x_i * diff_multiplier for x_i in x[i % n])\n",
      "\u001B[33m[W 2022-05-25 18:32:25,847]\u001B[0m Trial 40 failed, because the objective function returned nan.\u001B[0m\n",
      "/tmp/ipykernel_26423/1618380470.py:2: RuntimeWarning: overflow encountered in double_scalars\n",
      "  return (y + y_pred) ** 2\n",
      "\u001B[32m[I 2022-05-25 18:32:26,185]\u001B[0m Trial 41 finished with value: inf and parameters: {'tau': 9.022675052571817, 'alpha': 0.5937123007944081}. Best is trial 7 with value: 0.965697955890083.\u001B[0m\n",
      "/tmp/ipykernel_26423/1618380470.py:5: RuntimeWarning: overflow encountered in double_scalars\n",
      "  return 2.0 * (y_pred - y)\n",
      "/tmp/ipykernel_26423/1019279531.py:13: RuntimeWarning: invalid value encountered in double_scalars\n",
      "  diff = list(x_i * diff_multiplier for x_i in x[i % n])\n",
      "\u001B[33m[W 2022-05-25 18:32:26,507]\u001B[0m Trial 42 failed, because the objective function returned nan.\u001B[0m\n",
      "\u001B[32m[I 2022-05-25 18:32:26,841]\u001B[0m Trial 43 finished with value: 0.982407835197416 and parameters: {'tau': 7.015393156915006, 'alpha': 0.11379078289866458}. Best is trial 7 with value: 0.965697955890083.\u001B[0m\n",
      "\u001B[32m[I 2022-05-25 18:32:27,190]\u001B[0m Trial 44 finished with value: 0.9939333721997562 and parameters: {'tau': 7.37212039885568, 'alpha': 0.18483478482439558}. Best is trial 7 with value: 0.965697955890083.\u001B[0m\n",
      "/tmp/ipykernel_26423/1618380470.py:5: RuntimeWarning: overflow encountered in double_scalars\n",
      "  return 2.0 * (y_pred - y)\n",
      "/tmp/ipykernel_26423/1019279531.py:13: RuntimeWarning: invalid value encountered in double_scalars\n",
      "  diff = list(x_i * diff_multiplier for x_i in x[i % n])\n",
      "\u001B[33m[W 2022-05-25 18:32:27,570]\u001B[0m Trial 45 failed, because the objective function returned nan.\u001B[0m\n",
      "/tmp/ipykernel_26423/1618380470.py:5: RuntimeWarning: overflow encountered in double_scalars\n",
      "  return 2.0 * (y_pred - y)\n",
      "/tmp/ipykernel_26423/1019279531.py:13: RuntimeWarning: invalid value encountered in double_scalars\n",
      "  diff = list(x_i * diff_multiplier for x_i in x[i % n])\n",
      "\u001B[33m[W 2022-05-25 18:32:27,904]\u001B[0m Trial 46 failed, because the objective function returned nan.\u001B[0m\n",
      "/tmp/ipykernel_26423/1019279531.py:13: RuntimeWarning: invalid value encountered in double_scalars\n",
      "  diff = list(x_i * diff_multiplier for x_i in x[i % n])\n",
      "\u001B[33m[W 2022-05-25 18:32:28,204]\u001B[0m Trial 47 failed, because the objective function returned nan.\u001B[0m\n",
      "/tmp/ipykernel_26423/1019279531.py:13: RuntimeWarning: invalid value encountered in double_scalars\n",
      "  diff = list(x_i * diff_multiplier for x_i in x[i % n])\n",
      "\u001B[33m[W 2022-05-25 18:32:28,481]\u001B[0m Trial 48 failed, because the objective function returned nan.\u001B[0m\n",
      "/tmp/ipykernel_26423/1019279531.py:13: RuntimeWarning: invalid value encountered in double_scalars\n",
      "  diff = list(x_i * diff_multiplier for x_i in x[i % n])\n",
      "\u001B[33m[W 2022-05-25 18:32:28,758]\u001B[0m Trial 49 failed, because the objective function returned nan.\u001B[0m\n",
      "\u001B[32m[I 2022-05-25 18:32:29,022]\u001B[0m Trial 50 finished with value: 0.9640725458354191 and parameters: {'tau': 7.4167290475337255, 'alpha': 0.10219946173782557}. Best is trial 50 with value: 0.9640725458354191.\u001B[0m\n",
      "\u001B[32m[I 2022-05-25 18:32:29,350]\u001B[0m Trial 51 finished with value: 1.0056858623775187 and parameters: {'tau': 5.959555210424898, 'alpha': 0.2186526729602421}. Best is trial 50 with value: 0.9640725458354191.\u001B[0m\n",
      "/tmp/ipykernel_26423/1618380470.py:5: RuntimeWarning: overflow encountered in double_scalars\n",
      "  return 2.0 * (y_pred - y)\n",
      "/tmp/ipykernel_26423/1019279531.py:13: RuntimeWarning: invalid value encountered in double_scalars\n",
      "  diff = list(x_i * diff_multiplier for x_i in x[i % n])\n",
      "\u001B[33m[W 2022-05-25 18:32:29,735]\u001B[0m Trial 52 failed, because the objective function returned nan.\u001B[0m\n",
      "/tmp/ipykernel_26423/1618380470.py:5: RuntimeWarning: overflow encountered in double_scalars\n",
      "  return 2.0 * (y_pred - y)\n",
      "/tmp/ipykernel_26423/1019279531.py:13: RuntimeWarning: invalid value encountered in double_scalars\n",
      "  diff = list(x_i * diff_multiplier for x_i in x[i % n])\n",
      "\u001B[33m[W 2022-05-25 18:32:30,100]\u001B[0m Trial 53 failed, because the objective function returned nan.\u001B[0m\n",
      "\u001B[32m[I 2022-05-25 18:32:30,445]\u001B[0m Trial 54 finished with value: 0.9700900532334522 and parameters: {'tau': 7.712367637198944, 'alpha': 0.10763473977260485}. Best is trial 50 with value: 0.9640725458354191.\u001B[0m\n",
      "/tmp/ipykernel_26423/1618380470.py:5: RuntimeWarning: overflow encountered in double_scalars\n",
      "  return 2.0 * (y_pred - y)\n",
      "/tmp/ipykernel_26423/1019279531.py:13: RuntimeWarning: invalid value encountered in double_scalars\n",
      "  diff = list(x_i * diff_multiplier for x_i in x[i % n])\n",
      "\u001B[33m[W 2022-05-25 18:32:30,750]\u001B[0m Trial 55 failed, because the objective function returned nan.\u001B[0m\n",
      "/tmp/ipykernel_26423/1019279531.py:13: RuntimeWarning: invalid value encountered in double_scalars\n",
      "  diff = list(x_i * diff_multiplier for x_i in x[i % n])\n",
      "\u001B[33m[W 2022-05-25 18:32:31,109]\u001B[0m Trial 56 failed, because the objective function returned nan.\u001B[0m\n",
      "/tmp/ipykernel_26423/1019279531.py:13: RuntimeWarning: invalid value encountered in double_scalars\n",
      "  diff = list(x_i * diff_multiplier for x_i in x[i % n])\n",
      "\u001B[33m[W 2022-05-25 18:32:31,475]\u001B[0m Trial 57 failed, because the objective function returned nan.\u001B[0m\n",
      "/tmp/ipykernel_26423/1618380470.py:5: RuntimeWarning: overflow encountered in double_scalars\n",
      "  return 2.0 * (y_pred - y)\n",
      "/tmp/ipykernel_26423/1019279531.py:13: RuntimeWarning: invalid value encountered in double_scalars\n",
      "  diff = list(x_i * diff_multiplier for x_i in x[i % n])\n",
      "\u001B[33m[W 2022-05-25 18:32:31,808]\u001B[0m Trial 58 failed, because the objective function returned nan.\u001B[0m\n",
      "/tmp/ipykernel_26423/1019279531.py:13: RuntimeWarning: invalid value encountered in double_scalars\n",
      "  diff = list(x_i * diff_multiplier for x_i in x[i % n])\n",
      "\u001B[33m[W 2022-05-25 18:32:32,188]\u001B[0m Trial 59 failed, because the objective function returned nan.\u001B[0m\n",
      "/tmp/ipykernel_26423/1618380470.py:5: RuntimeWarning: overflow encountered in double_scalars\n",
      "  return 2.0 * (y_pred - y)\n",
      "/tmp/ipykernel_26423/1019279531.py:13: RuntimeWarning: invalid value encountered in double_scalars\n",
      "  diff = list(x_i * diff_multiplier for x_i in x[i % n])\n",
      "\u001B[33m[W 2022-05-25 18:32:32,538]\u001B[0m Trial 60 failed, because the objective function returned nan.\u001B[0m\n",
      "/tmp/ipykernel_26423/1019279531.py:13: RuntimeWarning: invalid value encountered in double_scalars\n",
      "  diff = list(x_i * diff_multiplier for x_i in x[i % n])\n",
      "\u001B[33m[W 2022-05-25 18:32:32,963]\u001B[0m Trial 61 failed, because the objective function returned nan.\u001B[0m\n",
      "/tmp/ipykernel_26423/1019279531.py:13: RuntimeWarning: invalid value encountered in double_scalars\n",
      "  diff = list(x_i * diff_multiplier for x_i in x[i % n])\n",
      "\u001B[33m[W 2022-05-25 18:32:33,264]\u001B[0m Trial 62 failed, because the objective function returned nan.\u001B[0m\n",
      "/tmp/ipykernel_26423/1618380470.py:5: RuntimeWarning: overflow encountered in double_scalars\n",
      "  return 2.0 * (y_pred - y)\n",
      "/tmp/ipykernel_26423/1019279531.py:13: RuntimeWarning: invalid value encountered in double_scalars\n",
      "  diff = list(x_i * diff_multiplier for x_i in x[i % n])\n",
      "\u001B[33m[W 2022-05-25 18:32:33,609]\u001B[0m Trial 63 failed, because the objective function returned nan.\u001B[0m\n",
      "/tmp/ipykernel_26423/1618380470.py:5: RuntimeWarning: overflow encountered in double_scalars\n",
      "  return 2.0 * (y_pred - y)\n",
      "/tmp/ipykernel_26423/1019279531.py:13: RuntimeWarning: invalid value encountered in double_scalars\n",
      "  diff = list(x_i * diff_multiplier for x_i in x[i % n])\n",
      "\u001B[33m[W 2022-05-25 18:32:33,984]\u001B[0m Trial 64 failed, because the objective function returned nan.\u001B[0m\n",
      "/tmp/ipykernel_26423/1019279531.py:13: RuntimeWarning: invalid value encountered in double_scalars\n",
      "  diff = list(x_i * diff_multiplier for x_i in x[i % n])\n",
      "\u001B[33m[W 2022-05-25 18:32:34,331]\u001B[0m Trial 65 failed, because the objective function returned nan.\u001B[0m\n",
      "/tmp/ipykernel_26423/1019279531.py:13: RuntimeWarning: invalid value encountered in double_scalars\n",
      "  diff = list(x_i * diff_multiplier for x_i in x[i % n])\n",
      "\u001B[33m[W 2022-05-25 18:32:34,655]\u001B[0m Trial 66 failed, because the objective function returned nan.\u001B[0m\n",
      "/tmp/ipykernel_26423/1618380470.py:5: RuntimeWarning: overflow encountered in double_scalars\n",
      "  return 2.0 * (y_pred - y)\n",
      "/tmp/ipykernel_26423/1019279531.py:13: RuntimeWarning: invalid value encountered in double_scalars\n",
      "  diff = list(x_i * diff_multiplier for x_i in x[i % n])\n",
      "\u001B[33m[W 2022-05-25 18:32:34,935]\u001B[0m Trial 67 failed, because the objective function returned nan.\u001B[0m\n",
      "/tmp/ipykernel_26423/1019279531.py:13: RuntimeWarning: invalid value encountered in double_scalars\n",
      "  diff = list(x_i * diff_multiplier for x_i in x[i % n])\n",
      "\u001B[33m[W 2022-05-25 18:32:35,263]\u001B[0m Trial 68 failed, because the objective function returned nan.\u001B[0m\n",
      "/tmp/ipykernel_26423/1618380470.py:5: RuntimeWarning: overflow encountered in double_scalars\n",
      "  return 2.0 * (y_pred - y)\n",
      "/tmp/ipykernel_26423/1019279531.py:13: RuntimeWarning: invalid value encountered in double_scalars\n",
      "  diff = list(x_i * diff_multiplier for x_i in x[i % n])\n",
      "\u001B[33m[W 2022-05-25 18:32:35,529]\u001B[0m Trial 69 failed, because the objective function returned nan.\u001B[0m\n",
      "/tmp/ipykernel_26423/1019279531.py:13: RuntimeWarning: invalid value encountered in double_scalars\n",
      "  diff = list(x_i * diff_multiplier for x_i in x[i % n])\n",
      "\u001B[33m[W 2022-05-25 18:32:35,853]\u001B[0m Trial 70 failed, because the objective function returned nan.\u001B[0m\n",
      "/tmp/ipykernel_26423/1618380470.py:5: RuntimeWarning: overflow encountered in double_scalars\n",
      "  return 2.0 * (y_pred - y)\n",
      "/tmp/ipykernel_26423/1019279531.py:13: RuntimeWarning: invalid value encountered in double_scalars\n",
      "  diff = list(x_i * diff_multiplier for x_i in x[i % n])\n",
      "\u001B[33m[W 2022-05-25 18:32:36,133]\u001B[0m Trial 71 failed, because the objective function returned nan.\u001B[0m\n",
      "/tmp/ipykernel_26423/1618380470.py:5: RuntimeWarning: overflow encountered in double_scalars\n",
      "  return 2.0 * (y_pred - y)\n",
      "/tmp/ipykernel_26423/1019279531.py:13: RuntimeWarning: invalid value encountered in double_scalars\n",
      "  diff = list(x_i * diff_multiplier for x_i in x[i % n])\n",
      "\u001B[33m[W 2022-05-25 18:32:36,421]\u001B[0m Trial 72 failed, because the objective function returned nan.\u001B[0m\n",
      "/tmp/ipykernel_26423/1618380470.py:5: RuntimeWarning: overflow encountered in double_scalars\n",
      "  return 2.0 * (y_pred - y)\n",
      "/tmp/ipykernel_26423/1019279531.py:13: RuntimeWarning: invalid value encountered in double_scalars\n",
      "  diff = list(x_i * diff_multiplier for x_i in x[i % n])\n",
      "\u001B[33m[W 2022-05-25 18:32:36,842]\u001B[0m Trial 73 failed, because the objective function returned nan.\u001B[0m\n",
      "\u001B[32m[I 2022-05-25 18:32:37,138]\u001B[0m Trial 74 finished with value: 5.891232508958793e+45 and parameters: {'tau': 9.252423365944662, 'alpha': 0.3286537123698237}. Best is trial 50 with value: 0.9640725458354191.\u001B[0m\n",
      "/tmp/ipykernel_26423/1618380470.py:5: RuntimeWarning: overflow encountered in double_scalars\n",
      "  return 2.0 * (y_pred - y)\n",
      "/tmp/ipykernel_26423/1019279531.py:13: RuntimeWarning: invalid value encountered in double_scalars\n",
      "  diff = list(x_i * diff_multiplier for x_i in x[i % n])\n",
      "\u001B[33m[W 2022-05-25 18:32:37,444]\u001B[0m Trial 75 failed, because the objective function returned nan.\u001B[0m\n",
      "\u001B[32m[I 2022-05-25 18:32:37,839]\u001B[0m Trial 76 finished with value: 1.268707340590556e+241 and parameters: {'tau': 7.989384431650835, 'alpha': 0.44596926363408496}. Best is trial 50 with value: 0.9640725458354191.\u001B[0m\n",
      "/tmp/ipykernel_26423/1618380470.py:5: RuntimeWarning: overflow encountered in double_scalars\n",
      "  return 2.0 * (y_pred - y)\n",
      "/tmp/ipykernel_26423/1019279531.py:13: RuntimeWarning: invalid value encountered in double_scalars\n",
      "  diff = list(x_i * diff_multiplier for x_i in x[i % n])\n",
      "\u001B[33m[W 2022-05-25 18:32:38,265]\u001B[0m Trial 77 failed, because the objective function returned nan.\u001B[0m\n",
      "\u001B[32m[I 2022-05-25 18:32:38,678]\u001B[0m Trial 78 finished with value: 0.9995525186481083 and parameters: {'tau': 7.761274250592726, 'alpha': 0.1732134188331211}. Best is trial 50 with value: 0.9640725458354191.\u001B[0m\n",
      "/tmp/ipykernel_26423/1019279531.py:13: RuntimeWarning: invalid value encountered in double_scalars\n",
      "  diff = list(x_i * diff_multiplier for x_i in x[i % n])\n",
      "\u001B[33m[W 2022-05-25 18:32:39,101]\u001B[0m Trial 79 failed, because the objective function returned nan.\u001B[0m\n",
      "\u001B[32m[I 2022-05-25 18:32:39,400]\u001B[0m Trial 80 finished with value: 1.0843882581836113 and parameters: {'tau': 9.026269388172787, 'alpha': 0.2334963452890803}. Best is trial 50 with value: 0.9640725458354191.\u001B[0m\n",
      "/tmp/ipykernel_26423/1019279531.py:13: RuntimeWarning: invalid value encountered in double_scalars\n",
      "  diff = list(x_i * diff_multiplier for x_i in x[i % n])\n",
      "\u001B[33m[W 2022-05-25 18:32:39,741]\u001B[0m Trial 81 failed, because the objective function returned nan.\u001B[0m\n",
      "/tmp/ipykernel_26423/1618380470.py:5: RuntimeWarning: overflow encountered in double_scalars\n",
      "  return 2.0 * (y_pred - y)\n",
      "/tmp/ipykernel_26423/1019279531.py:13: RuntimeWarning: invalid value encountered in double_scalars\n",
      "  diff = list(x_i * diff_multiplier for x_i in x[i % n])\n",
      "\u001B[33m[W 2022-05-25 18:32:40,084]\u001B[0m Trial 82 failed, because the objective function returned nan.\u001B[0m\n",
      "/tmp/ipykernel_26423/1618380470.py:2: RuntimeWarning: overflow encountered in double_scalars\n",
      "  return (y + y_pred) ** 2\n",
      "\u001B[32m[I 2022-05-25 18:32:40,408]\u001B[0m Trial 83 finished with value: inf and parameters: {'tau': 9.357374561255254, 'alpha': 0.599631476881154}. Best is trial 50 with value: 0.9640725458354191.\u001B[0m\n",
      "/tmp/ipykernel_26423/1618380470.py:5: RuntimeWarning: overflow encountered in double_scalars\n",
      "  return 2.0 * (y_pred - y)\n",
      "/tmp/ipykernel_26423/1019279531.py:13: RuntimeWarning: invalid value encountered in double_scalars\n",
      "  diff = list(x_i * diff_multiplier for x_i in x[i % n])\n",
      "\u001B[33m[W 2022-05-25 18:32:40,769]\u001B[0m Trial 84 failed, because the objective function returned nan.\u001B[0m\n",
      "/tmp/ipykernel_26423/1618380470.py:5: RuntimeWarning: overflow encountered in double_scalars\n",
      "  return 2.0 * (y_pred - y)\n",
      "/tmp/ipykernel_26423/1019279531.py:13: RuntimeWarning: invalid value encountered in double_scalars\n",
      "  diff = list(x_i * diff_multiplier for x_i in x[i % n])\n",
      "\u001B[33m[W 2022-05-25 18:32:41,091]\u001B[0m Trial 85 failed, because the objective function returned nan.\u001B[0m\n",
      "/tmp/ipykernel_26423/1618380470.py:5: RuntimeWarning: overflow encountered in double_scalars\n",
      "  return 2.0 * (y_pred - y)\n",
      "/tmp/ipykernel_26423/1019279531.py:13: RuntimeWarning: invalid value encountered in double_scalars\n",
      "  diff = list(x_i * diff_multiplier for x_i in x[i % n])\n",
      "\u001B[33m[W 2022-05-25 18:32:41,398]\u001B[0m Trial 86 failed, because the objective function returned nan.\u001B[0m\n",
      "\u001B[32m[I 2022-05-25 18:32:41,728]\u001B[0m Trial 87 finished with value: 0.970174334225316 and parameters: {'tau': 6.35088857097761, 'alpha': 0.10155250470755856}. Best is trial 50 with value: 0.9640725458354191.\u001B[0m\n",
      "/tmp/ipykernel_26423/1618380470.py:5: RuntimeWarning: overflow encountered in double_scalars\n",
      "  return 2.0 * (y_pred - y)\n",
      "/tmp/ipykernel_26423/1019279531.py:13: RuntimeWarning: invalid value encountered in double_scalars\n",
      "  diff = list(x_i * diff_multiplier for x_i in x[i % n])\n",
      "\u001B[33m[W 2022-05-25 18:32:42,077]\u001B[0m Trial 88 failed, because the objective function returned nan.\u001B[0m\n",
      "\u001B[32m[I 2022-05-25 18:32:42,364]\u001B[0m Trial 89 finished with value: 1.0173542612797766 and parameters: {'tau': 4.846599682765188, 'alpha': 0.1512060753610349}. Best is trial 50 with value: 0.9640725458354191.\u001B[0m\n",
      "/tmp/ipykernel_26423/1618380470.py:5: RuntimeWarning: overflow encountered in double_scalars\n",
      "  return 2.0 * (y_pred - y)\n",
      "/tmp/ipykernel_26423/1019279531.py:13: RuntimeWarning: invalid value encountered in double_scalars\n",
      "  diff = list(x_i * diff_multiplier for x_i in x[i % n])\n",
      "\u001B[33m[W 2022-05-25 18:32:42,825]\u001B[0m Trial 90 failed, because the objective function returned nan.\u001B[0m\n",
      "/tmp/ipykernel_26423/1618380470.py:5: RuntimeWarning: overflow encountered in double_scalars\n",
      "  return 2.0 * (y_pred - y)\n",
      "/tmp/ipykernel_26423/1019279531.py:13: RuntimeWarning: invalid value encountered in double_scalars\n",
      "  diff = list(x_i * diff_multiplier for x_i in x[i % n])\n",
      "\u001B[33m[W 2022-05-25 18:32:43,209]\u001B[0m Trial 91 failed, because the objective function returned nan.\u001B[0m\n",
      "/tmp/ipykernel_26423/1019279531.py:13: RuntimeWarning: invalid value encountered in double_scalars\n",
      "  diff = list(x_i * diff_multiplier for x_i in x[i % n])\n",
      "\u001B[33m[W 2022-05-25 18:32:43,544]\u001B[0m Trial 92 failed, because the objective function returned nan.\u001B[0m\n",
      "\u001B[32m[I 2022-05-25 18:32:43,870]\u001B[0m Trial 93 finished with value: 0.987190638305672 and parameters: {'tau': 6.220830944328552, 'alpha': 0.11383379636816834}. Best is trial 50 with value: 0.9640725458354191.\u001B[0m\n",
      "\u001B[32m[I 2022-05-25 18:32:44,200]\u001B[0m Trial 94 finished with value: 1.0080344983525418 and parameters: {'tau': 7.217440544339491, 'alpha': 0.22046883857502353}. Best is trial 50 with value: 0.9640725458354191.\u001B[0m\n",
      "/tmp/ipykernel_26423/1618380470.py:5: RuntimeWarning: overflow encountered in double_scalars\n",
      "  return 2.0 * (y_pred - y)\n",
      "/tmp/ipykernel_26423/1019279531.py:13: RuntimeWarning: invalid value encountered in double_scalars\n",
      "  diff = list(x_i * diff_multiplier for x_i in x[i % n])\n",
      "\u001B[33m[W 2022-05-25 18:32:44,488]\u001B[0m Trial 95 failed, because the objective function returned nan.\u001B[0m\n",
      "/tmp/ipykernel_26423/1618380470.py:5: RuntimeWarning: overflow encountered in double_scalars\n",
      "  return 2.0 * (y_pred - y)\n",
      "/tmp/ipykernel_26423/1019279531.py:13: RuntimeWarning: invalid value encountered in double_scalars\n",
      "  diff = list(x_i * diff_multiplier for x_i in x[i % n])\n",
      "\u001B[33m[W 2022-05-25 18:32:44,796]\u001B[0m Trial 96 failed, because the objective function returned nan.\u001B[0m\n",
      "\u001B[32m[I 2022-05-25 18:32:45,147]\u001B[0m Trial 97 finished with value: 1.0017760531588613 and parameters: {'tau': 8.416327551435263, 'alpha': 0.15199388870122774}. Best is trial 50 with value: 0.9640725458354191.\u001B[0m\n",
      "/tmp/ipykernel_26423/1019279531.py:13: RuntimeWarning: invalid value encountered in double_scalars\n",
      "  diff = list(x_i * diff_multiplier for x_i in x[i % n])\n",
      "\u001B[33m[W 2022-05-25 18:32:45,457]\u001B[0m Trial 98 failed, because the objective function returned nan.\u001B[0m\n",
      "/tmp/ipykernel_26423/1618380470.py:5: RuntimeWarning: overflow encountered in double_scalars\n",
      "  return 2.0 * (y_pred - y)\n",
      "/tmp/ipykernel_26423/1019279531.py:13: RuntimeWarning: invalid value encountered in double_scalars\n",
      "  diff = list(x_i * diff_multiplier for x_i in x[i % n])\n",
      "\u001B[33m[W 2022-05-25 18:32:45,745]\u001B[0m Trial 99 failed, because the objective function returned nan.\u001B[0m\n"
     ]
    },
    {
     "name": "stdout",
     "output_type": "stream",
     "text": [
      "Testing MSE gradient\n",
      "Number of finished trials: 100\n",
      "Best trial: {'tau': 7.4167290475337255, 'alpha': 0.10219946173782557}\n",
      "Best score: 0.9640725458354191\n"
     ]
    }
   ],
   "source": [
    "studyMSE = optuna.create_study(direction='minimize')\n",
    "studyMSE.optimize(lambda trial : objective_gradient(trial, diff_mse, error(x_train, y_train, mse), mse), n_trials=100)\n",
    "\n",
    "\n",
    "print('Testing MSE gradient')\n",
    "print('Number of finished trials:', len(studyMSE.trials))\n",
    "print('Best trial:', studyMSE.best_trial.params)\n",
    "print('Best score:', studyMSE.best_trial.value)"
   ],
   "metadata": {
    "collapsed": false,
    "pycharm": {
     "name": "#%%\n"
    }
   }
  },
  {
   "cell_type": "code",
   "execution_count": 11,
   "outputs": [
    {
     "name": "stderr",
     "output_type": "stream",
     "text": [
      "\u001B[32m[I 2022-05-25 18:32:45,763]\u001B[0m A new study created in memory with name: no-name-18cc455b-8aec-4541-9792-f05fceb94ef7\u001B[0m\n",
      "\u001B[32m[I 2022-05-25 18:32:46,607]\u001B[0m Trial 0 finished with value: 1.0 and parameters: {'tau': 5.211108678983783, 'alpha': 0.6722432213272935}. Best is trial 0 with value: 1.0.\u001B[0m\n",
      "\u001B[32m[I 2022-05-25 18:32:47,347]\u001B[0m Trial 1 finished with value: 1.0 and parameters: {'tau': 3.534641257206408, 'alpha': 0.833033402591652}. Best is trial 0 with value: 1.0.\u001B[0m\n",
      "\u001B[32m[I 2022-05-25 18:32:48,022]\u001B[0m Trial 2 finished with value: 1.0 and parameters: {'tau': 2.7542441472505477, 'alpha': 0.7966288178333027}. Best is trial 0 with value: 1.0.\u001B[0m\n",
      "\u001B[32m[I 2022-05-25 18:32:48,595]\u001B[0m Trial 3 finished with value: 1.0 and parameters: {'tau': 0.656539404308274, 'alpha': 0.48903504355728844}. Best is trial 0 with value: 1.0.\u001B[0m\n",
      "\u001B[32m[I 2022-05-25 18:32:49,200]\u001B[0m Trial 4 finished with value: 1.0 and parameters: {'tau': 5.947251442082986, 'alpha': 0.7549358207603288}. Best is trial 0 with value: 1.0.\u001B[0m\n",
      "\u001B[32m[I 2022-05-25 18:32:49,623]\u001B[0m Trial 5 finished with value: 1.0 and parameters: {'tau': 9.393485990134392, 'alpha': 0.45147573459110657}. Best is trial 0 with value: 1.0.\u001B[0m\n",
      "\u001B[32m[I 2022-05-25 18:32:50,203]\u001B[0m Trial 6 finished with value: 1.0 and parameters: {'tau': 2.925826436194272, 'alpha': 0.5714548107343728}. Best is trial 0 with value: 1.0.\u001B[0m\n",
      "\u001B[32m[I 2022-05-25 18:32:50,754]\u001B[0m Trial 7 finished with value: 1.0 and parameters: {'tau': 7.803550932630001, 'alpha': 0.6907644819578074}. Best is trial 0 with value: 1.0.\u001B[0m\n",
      "\u001B[32m[I 2022-05-25 18:32:51,275]\u001B[0m Trial 8 finished with value: 1.0 and parameters: {'tau': 7.810304180500575, 'alpha': 0.16789764713675093}. Best is trial 0 with value: 1.0.\u001B[0m\n",
      "\u001B[32m[I 2022-05-25 18:32:51,770]\u001B[0m Trial 9 finished with value: 1.0 and parameters: {'tau': 0.9331588544079972, 'alpha': 0.20269240779741207}. Best is trial 0 with value: 1.0.\u001B[0m\n",
      "\u001B[32m[I 2022-05-25 18:32:52,317]\u001B[0m Trial 10 finished with value: 1.0 and parameters: {'tau': 5.36832327652666, 'alpha': 0.3441930390501352}. Best is trial 0 with value: 1.0.\u001B[0m\n",
      "\u001B[32m[I 2022-05-25 18:32:52,850]\u001B[0m Trial 11 finished with value: 1.0 and parameters: {'tau': 3.7495075441171997, 'alpha': 0.8955736584163065}. Best is trial 0 with value: 1.0.\u001B[0m\n",
      "\u001B[32m[I 2022-05-25 18:32:53,380]\u001B[0m Trial 12 finished with value: 1.0 and parameters: {'tau': 4.3765168966713635, 'alpha': 0.6375912156192646}. Best is trial 0 with value: 1.0.\u001B[0m\n",
      "\u001B[32m[I 2022-05-25 18:32:53,955]\u001B[0m Trial 13 finished with value: 1.0 and parameters: {'tau': 6.485409998336492, 'alpha': 0.8973985703546036}. Best is trial 0 with value: 1.0.\u001B[0m\n",
      "\u001B[32m[I 2022-05-25 18:32:54,489]\u001B[0m Trial 14 finished with value: 1.0 and parameters: {'tau': 2.678428597484564, 'alpha': 0.7692961350379082}. Best is trial 0 with value: 1.0.\u001B[0m\n",
      "\u001B[32m[I 2022-05-25 18:32:55,020]\u001B[0m Trial 15 finished with value: 1.0 and parameters: {'tau': 1.6649545530568295, 'alpha': 0.6185458963421803}. Best is trial 0 with value: 1.0.\u001B[0m\n",
      "\u001B[32m[I 2022-05-25 18:32:55,542]\u001B[0m Trial 16 finished with value: 1.0 and parameters: {'tau': 4.477114897963684, 'alpha': 0.7209573852614265}. Best is trial 0 with value: 1.0.\u001B[0m\n",
      "\u001B[32m[I 2022-05-25 18:32:56,096]\u001B[0m Trial 17 finished with value: 1.0 and parameters: {'tau': 2.1079114144899993, 'alpha': 0.39628520258717503}. Best is trial 0 with value: 1.0.\u001B[0m\n",
      "\u001B[32m[I 2022-05-25 18:32:56,596]\u001B[0m Trial 18 finished with value: 1.0 and parameters: {'tau': 0.10282001867527413, 'alpha': 0.5846729358218107}. Best is trial 0 with value: 1.0.\u001B[0m\n",
      "\u001B[32m[I 2022-05-25 18:32:57,131]\u001B[0m Trial 19 finished with value: 1.0 and parameters: {'tau': 7.276259820383398, 'alpha': 0.7166809596695072}. Best is trial 0 with value: 1.0.\u001B[0m\n",
      "\u001B[32m[I 2022-05-25 18:32:57,642]\u001B[0m Trial 20 finished with value: 1.0 and parameters: {'tau': 9.993925218793105, 'alpha': 0.3938353820222951}. Best is trial 0 with value: 1.0.\u001B[0m\n",
      "\u001B[32m[I 2022-05-25 18:32:58,199]\u001B[0m Trial 21 finished with value: 0.6186870899071061 and parameters: {'tau': 0.018694843774583164, 'alpha': 0.31089573877239773}. Best is trial 21 with value: 0.6186870899071061.\u001B[0m\n",
      "\u001B[32m[I 2022-05-25 18:32:58,714]\u001B[0m Trial 22 finished with value: 1.0 and parameters: {'tau': 0.13549393077026683, 'alpha': 0.5514994184873053}. Best is trial 21 with value: 0.6186870899071061.\u001B[0m\n",
      "\u001B[32m[I 2022-05-25 18:32:59,260]\u001B[0m Trial 23 finished with value: 1.0 and parameters: {'tau': 9.38349332929286, 'alpha': 0.25672514576580785}. Best is trial 21 with value: 0.6186870899071061.\u001B[0m\n",
      "\u001B[32m[I 2022-05-25 18:32:59,857]\u001B[0m Trial 24 finished with value: 1.0 and parameters: {'tau': 9.82512320390825, 'alpha': 0.3099206944303166}. Best is trial 21 with value: 0.6186870899071061.\u001B[0m\n",
      "\u001B[32m[I 2022-05-25 18:33:00,331]\u001B[0m Trial 25 finished with value: 0.7964012081508293 and parameters: {'tau': 0.05051468564771447, 'alpha': 0.532736543507556}. Best is trial 21 with value: 0.6186870899071061.\u001B[0m\n",
      "\u001B[32m[I 2022-05-25 18:33:00,823]\u001B[0m Trial 26 finished with value: 1.0 and parameters: {'tau': 1.2906430050434419, 'alpha': 0.10035351959082031}. Best is trial 21 with value: 0.6186870899071061.\u001B[0m\n",
      "\u001B[32m[I 2022-05-25 18:33:01,319]\u001B[0m Trial 27 finished with value: 1.0 and parameters: {'tau': 1.645916451817073, 'alpha': 0.5087202933274234}. Best is trial 21 with value: 0.6186870899071061.\u001B[0m\n",
      "\u001B[32m[I 2022-05-25 18:33:01,837]\u001B[0m Trial 28 finished with value: 1.0 and parameters: {'tau': 4.971163905156114, 'alpha': 0.6627350468241154}. Best is trial 21 with value: 0.6186870899071061.\u001B[0m\n",
      "\u001B[32m[I 2022-05-25 18:33:02,367]\u001B[0m Trial 29 finished with value: 1.0 and parameters: {'tau': 3.4339579967722, 'alpha': 0.4240594136849615}. Best is trial 21 with value: 0.6186870899071061.\u001B[0m\n",
      "\u001B[32m[I 2022-05-25 18:33:02,957]\u001B[0m Trial 30 finished with value: 1.0 and parameters: {'tau': 6.303890172280133, 'alpha': 0.32302210752625127}. Best is trial 21 with value: 0.6186870899071061.\u001B[0m\n",
      "\u001B[32m[I 2022-05-25 18:33:03,388]\u001B[0m Trial 31 finished with value: 1.0 and parameters: {'tau': 4.205178448473523, 'alpha': 0.6625035878800613}. Best is trial 21 with value: 0.6186870899071061.\u001B[0m\n",
      "\u001B[32m[I 2022-05-25 18:33:03,870]\u001B[0m Trial 32 finished with value: 1.0 and parameters: {'tau': 3.355765285013647, 'alpha': 0.4413730261215101}. Best is trial 21 with value: 0.6186870899071061.\u001B[0m\n",
      "\u001B[32m[I 2022-05-25 18:33:04,504]\u001B[0m Trial 33 finished with value: 1.0 and parameters: {'tau': 6.774590446752596, 'alpha': 0.3305454784908833}. Best is trial 21 with value: 0.6186870899071061.\u001B[0m\n",
      "\u001B[32m[I 2022-05-25 18:33:04,993]\u001B[0m Trial 34 finished with value: 1.0 and parameters: {'tau': 0.6265778256102603, 'alpha': 0.5275203873034358}. Best is trial 21 with value: 0.6186870899071061.\u001B[0m\n",
      "\u001B[32m[I 2022-05-25 18:33:05,458]\u001B[0m Trial 35 finished with value: 1.0 and parameters: {'tau': 8.274470901450853, 'alpha': 0.39273028243732677}. Best is trial 21 with value: 0.6186870899071061.\u001B[0m\n",
      "\u001B[32m[I 2022-05-25 18:33:05,944]\u001B[0m Trial 36 finished with value: 1.0 and parameters: {'tau': 8.762257099428895, 'alpha': 0.47816260177272984}. Best is trial 21 with value: 0.6186870899071061.\u001B[0m\n",
      "\u001B[32m[I 2022-05-25 18:33:06,407]\u001B[0m Trial 37 finished with value: 1.0 and parameters: {'tau': 2.232562213365229, 'alpha': 0.25205598643149346}. Best is trial 21 with value: 0.6186870899071061.\u001B[0m\n",
      "\u001B[32m[I 2022-05-25 18:33:06,879]\u001B[0m Trial 38 finished with value: 1.0 and parameters: {'tau': 0.2513063177290511, 'alpha': 0.5667353520861994}. Best is trial 21 with value: 0.6186870899071061.\u001B[0m\n",
      "\u001B[32m[I 2022-05-25 18:33:07,478]\u001B[0m Trial 39 finished with value: 1.0 and parameters: {'tau': 0.7710699930332839, 'alpha': 0.5505625519159397}. Best is trial 21 with value: 0.6186870899071061.\u001B[0m\n",
      "\u001B[32m[I 2022-05-25 18:33:08,028]\u001B[0m Trial 40 finished with value: 1.0 and parameters: {'tau': 0.06464259846472722, 'alpha': 0.8121742566289633}. Best is trial 21 with value: 0.6186870899071061.\u001B[0m\n",
      "\u001B[32m[I 2022-05-25 18:33:08,498]\u001B[0m Trial 41 finished with value: 1.0 and parameters: {'tau': 1.25689174895709, 'alpha': 0.2733557909366982}. Best is trial 21 with value: 0.6186870899071061.\u001B[0m\n",
      "\u001B[32m[I 2022-05-25 18:33:08,995]\u001B[0m Trial 42 finished with value: 1.0 and parameters: {'tau': 9.22337316624266, 'alpha': 0.10556466874226296}. Best is trial 21 with value: 0.6186870899071061.\u001B[0m\n",
      "\u001B[32m[I 2022-05-25 18:33:09,511]\u001B[0m Trial 43 finished with value: 1.0 and parameters: {'tau': 9.927898455525522, 'alpha': 0.10000462530390741}. Best is trial 21 with value: 0.6186870899071061.\u001B[0m\n",
      "\u001B[32m[I 2022-05-25 18:33:10,123]\u001B[0m Trial 44 finished with value: 1.0 and parameters: {'tau': 1.4015179958568778, 'alpha': 0.18480871025136303}. Best is trial 21 with value: 0.6186870899071061.\u001B[0m\n",
      "\u001B[32m[I 2022-05-25 18:33:10,670]\u001B[0m Trial 45 finished with value: 1.0 and parameters: {'tau': 1.8130233844080517, 'alpha': 0.5153308585191664}. Best is trial 21 with value: 0.6186870899071061.\u001B[0m\n",
      "\u001B[32m[I 2022-05-25 18:33:11,172]\u001B[0m Trial 46 finished with value: 1.0 and parameters: {'tau': 5.598378927318931, 'alpha': 0.13217498360327118}. Best is trial 21 with value: 0.6186870899071061.\u001B[0m\n",
      "\u001B[32m[I 2022-05-25 18:33:11,689]\u001B[0m Trial 47 finished with value: 1.0 and parameters: {'tau': 0.9133614097796996, 'alpha': 0.475643708914027}. Best is trial 21 with value: 0.6186870899071061.\u001B[0m\n",
      "\u001B[32m[I 2022-05-25 18:33:12,158]\u001B[0m Trial 48 finished with value: 1.0 and parameters: {'tau': 2.3734134083540104, 'alpha': 0.5997781947827869}. Best is trial 21 with value: 0.6186870899071061.\u001B[0m\n",
      "\u001B[32m[I 2022-05-25 18:33:12,645]\u001B[0m Trial 49 finished with value: 1.0 and parameters: {'tau': 3.6257753965763735, 'alpha': 0.43085317282802016}. Best is trial 21 with value: 0.6186870899071061.\u001B[0m\n",
      "\u001B[32m[I 2022-05-25 18:33:13,132]\u001B[0m Trial 50 finished with value: 1.0 and parameters: {'tau': 4.8662533265318615, 'alpha': 0.35744857097270694}. Best is trial 21 with value: 0.6186870899071061.\u001B[0m\n",
      "\u001B[32m[I 2022-05-25 18:33:13,611]\u001B[0m Trial 51 finished with value: 1.0 and parameters: {'tau': 4.107680752912965, 'alpha': 0.6931512702611292}. Best is trial 21 with value: 0.6186870899071061.\u001B[0m\n",
      "\u001B[32m[I 2022-05-25 18:33:14,236]\u001B[0m Trial 52 finished with value: 1.0 and parameters: {'tau': 5.856817094267599, 'alpha': 0.6438722233795506}. Best is trial 21 with value: 0.6186870899071061.\u001B[0m\n",
      "\u001B[32m[I 2022-05-25 18:33:14,873]\u001B[0m Trial 53 finished with value: 1.0 and parameters: {'tau': 6.342668201800854, 'alpha': 0.29540414662012515}. Best is trial 21 with value: 0.6186870899071061.\u001B[0m\n",
      "\u001B[32m[I 2022-05-25 18:33:15,473]\u001B[0m Trial 54 finished with value: 1.0 and parameters: {'tau': 5.3390943199566205, 'alpha': 0.7609619723424357}. Best is trial 21 with value: 0.6186870899071061.\u001B[0m\n",
      "\u001B[32m[I 2022-05-25 18:33:16,040]\u001B[0m Trial 55 finished with value: 1.0 and parameters: {'tau': 3.137834453193123, 'alpha': 0.3651421196324494}. Best is trial 21 with value: 0.6186870899071061.\u001B[0m\n",
      "\u001B[32m[I 2022-05-25 18:33:16,728]\u001B[0m Trial 56 finished with value: 1.0 and parameters: {'tau': 7.038161226229361, 'alpha': 0.21395818217766227}. Best is trial 21 with value: 0.6186870899071061.\u001B[0m\n",
      "\u001B[32m[I 2022-05-25 18:33:17,299]\u001B[0m Trial 57 finished with value: 1.0 and parameters: {'tau': 4.174670208375695, 'alpha': 0.6151536040072716}. Best is trial 21 with value: 0.6186870899071061.\u001B[0m\n",
      "\u001B[32m[I 2022-05-25 18:33:17,970]\u001B[0m Trial 58 finished with value: 1.0 and parameters: {'tau': 0.4101434963711684, 'alpha': 0.44662938523677187}. Best is trial 21 with value: 0.6186870899071061.\u001B[0m\n",
      "\u001B[32m[I 2022-05-25 18:33:18,633]\u001B[0m Trial 59 finished with value: 1.0 and parameters: {'tau': 0.509419496701879, 'alpha': 0.508471136677953}. Best is trial 21 with value: 0.6186870899071061.\u001B[0m\n",
      "\u001B[32m[I 2022-05-25 18:33:19,229]\u001B[0m Trial 60 finished with value: 1.0 and parameters: {'tau': 7.8191556336571235, 'alpha': 0.38216478458627423}. Best is trial 21 with value: 0.6186870899071061.\u001B[0m\n",
      "\u001B[32m[I 2022-05-25 18:33:19,802]\u001B[0m Trial 61 finished with value: 1.0 and parameters: {'tau': 8.600768035177023, 'alpha': 0.47384796204541596}. Best is trial 21 with value: 0.6186870899071061.\u001B[0m\n",
      "\u001B[32m[I 2022-05-25 18:33:20,398]\u001B[0m Trial 62 finished with value: 1.0 and parameters: {'tau': 8.51362506138503, 'alpha': 0.2630804556641374}. Best is trial 21 with value: 0.6186870899071061.\u001B[0m\n",
      "\u001B[32m[I 2022-05-25 18:33:20,987]\u001B[0m Trial 63 finished with value: 1.0 and parameters: {'tau': 8.378404702494498, 'alpha': 0.40866254404581487}. Best is trial 21 with value: 0.6186870899071061.\u001B[0m\n",
      "\u001B[32m[I 2022-05-25 18:33:21,572]\u001B[0m Trial 64 finished with value: 1.0 and parameters: {'tau': 2.633154319149309, 'alpha': 0.5625018918385393}. Best is trial 21 with value: 0.6186870899071061.\u001B[0m\n",
      "\u001B[32m[I 2022-05-25 18:33:22,180]\u001B[0m Trial 65 finished with value: 1.0 and parameters: {'tau': 0.2665687676888666, 'alpha': 0.22986636179568534}. Best is trial 21 with value: 0.6186870899071061.\u001B[0m\n",
      "\u001B[32m[I 2022-05-25 18:33:22,771]\u001B[0m Trial 66 finished with value: 1.0 and parameters: {'tau': 1.0048382480823719, 'alpha': 0.5493609687297673}. Best is trial 21 with value: 0.6186870899071061.\u001B[0m\n",
      "\u001B[32m[I 2022-05-25 18:33:23,396]\u001B[0m Trial 67 finished with value: 1.0 and parameters: {'tau': 0.790460390555983, 'alpha': 0.7286814489856637}. Best is trial 21 with value: 0.6186870899071061.\u001B[0m\n",
      "\u001B[32m[I 2022-05-25 18:33:23,991]\u001B[0m Trial 68 finished with value: 1.0 and parameters: {'tau': 0.011465444026828975, 'alpha': 0.8370445490480257}. Best is trial 21 with value: 0.6186870899071061.\u001B[0m\n",
      "\u001B[32m[I 2022-05-25 18:33:24,624]\u001B[0m Trial 69 finished with value: 1.0 and parameters: {'tau': 1.7129951482631491, 'alpha': 0.15456052124366518}. Best is trial 21 with value: 0.6186870899071061.\u001B[0m\n",
      "\u001B[32m[I 2022-05-25 18:33:25,254]\u001B[0m Trial 70 finished with value: 1.0 and parameters: {'tau': 2.190933340012645, 'alpha': 0.5926375995583225}. Best is trial 21 with value: 0.6186870899071061.\u001B[0m\n",
      "\u001B[32m[I 2022-05-25 18:33:25,873]\u001B[0m Trial 71 finished with value: 1.0 and parameters: {'tau': 5.071077467330746, 'alpha': 0.4836953227957089}. Best is trial 21 with value: 0.6186870899071061.\u001B[0m\n",
      "\u001B[32m[I 2022-05-25 18:33:26,434]\u001B[0m Trial 72 finished with value: 1.0 and parameters: {'tau': 3.812102416197474, 'alpha': 0.6931193621190901}. Best is trial 21 with value: 0.6186870899071061.\u001B[0m\n",
      "\u001B[32m[I 2022-05-25 18:33:27,068]\u001B[0m Trial 73 finished with value: 1.0 and parameters: {'tau': 4.666667512831364, 'alpha': 0.36501805586006975}. Best is trial 21 with value: 0.6186870899071061.\u001B[0m\n",
      "\u001B[32m[I 2022-05-25 18:33:27,687]\u001B[0m Trial 74 finished with value: 1.0 and parameters: {'tau': 5.6505605019231115, 'alpha': 0.6689395476075025}. Best is trial 21 with value: 0.6186870899071061.\u001B[0m\n",
      "\u001B[32m[I 2022-05-25 18:33:28,338]\u001B[0m Trial 75 finished with value: 1.0 and parameters: {'tau': 5.982739755564378, 'alpha': 0.633955232045263}. Best is trial 21 with value: 0.6186870899071061.\u001B[0m\n",
      "\u001B[32m[I 2022-05-25 18:33:28,953]\u001B[0m Trial 76 finished with value: 1.0 and parameters: {'tau': 6.273239620064288, 'alpha': 0.30871785286946096}. Best is trial 21 with value: 0.6186870899071061.\u001B[0m\n",
      "\u001B[32m[I 2022-05-25 18:33:29,575]\u001B[0m Trial 77 finished with value: 1.0 and parameters: {'tau': 5.248293707446692, 'alpha': 0.7511350683721781}. Best is trial 21 with value: 0.6186870899071061.\u001B[0m\n",
      "\u001B[32m[I 2022-05-25 18:33:30,209]\u001B[0m Trial 78 finished with value: 1.0 and parameters: {'tau': 3.0996290146034067, 'alpha': 0.766683534823707}. Best is trial 21 with value: 0.6186870899071061.\u001B[0m\n",
      "\u001B[32m[I 2022-05-25 18:33:30,943]\u001B[0m Trial 79 finished with value: 1.0 and parameters: {'tau': 7.17602429655014, 'alpha': 0.28449905954926513}. Best is trial 21 with value: 0.6186870899071061.\u001B[0m\n",
      "\u001B[32m[I 2022-05-25 18:33:31,621]\u001B[0m Trial 80 finished with value: 1.0 and parameters: {'tau': 6.7777977361096164, 'alpha': 0.22500773801272822}. Best is trial 21 with value: 0.6186870899071061.\u001B[0m\n",
      "\u001B[32m[I 2022-05-25 18:33:32,305]\u001B[0m Trial 81 finished with value: 1.0 and parameters: {'tau': 6.627504050445359, 'alpha': 0.33227445742475825}. Best is trial 21 with value: 0.6186870899071061.\u001B[0m\n",
      "\u001B[32m[I 2022-05-25 18:33:32,964]\u001B[0m Trial 82 finished with value: 1.0 and parameters: {'tau': 0.5201090334776748, 'alpha': 0.8539669687629505}. Best is trial 21 with value: 0.6186870899071061.\u001B[0m\n",
      "\u001B[32m[I 2022-05-25 18:33:33,532]\u001B[0m Trial 83 finished with value: 1.0 and parameters: {'tau': 0.4350815018132529, 'alpha': 0.30818556914756534}. Best is trial 21 with value: 0.6186870899071061.\u001B[0m\n",
      "\u001B[32m[I 2022-05-25 18:33:34,115]\u001B[0m Trial 84 finished with value: 1.0 and parameters: {'tau': 7.460512965398877, 'alpha': 0.45037904990702016}. Best is trial 21 with value: 0.6186870899071061.\u001B[0m\n",
      "\u001B[32m[I 2022-05-25 18:33:34,714]\u001B[0m Trial 85 finished with value: 1.0 and parameters: {'tau': 8.052551302845602, 'alpha': 0.37509415536832424}. Best is trial 21 with value: 0.6186870899071061.\u001B[0m\n",
      "\u001B[32m[I 2022-05-25 18:33:35,358]\u001B[0m Trial 86 finished with value: 1.0 and parameters: {'tau': 8.450218771662916, 'alpha': 0.4643240634314465}. Best is trial 21 with value: 0.6186870899071061.\u001B[0m\n",
      "\u001B[32m[I 2022-05-25 18:33:35,985]\u001B[0m Trial 87 finished with value: 1.0 and parameters: {'tau': 8.900709981707976, 'alpha': 0.5324718357291568}. Best is trial 21 with value: 0.6186870899071061.\u001B[0m\n",
      "\u001B[32m[I 2022-05-25 18:33:36,581]\u001B[0m Trial 88 finished with value: 1.0 and parameters: {'tau': 7.68222765378872, 'alpha': 0.39336946628229996}. Best is trial 21 with value: 0.6186870899071061.\u001B[0m\n",
      "\u001B[32m[I 2022-05-25 18:33:37,134]\u001B[0m Trial 89 finished with value: 1.0 and parameters: {'tau': 8.890707246536376, 'alpha': 0.4187628923495054}. Best is trial 21 with value: 0.6186870899071061.\u001B[0m\n",
      "\u001B[32m[I 2022-05-25 18:33:37,807]\u001B[0m Trial 90 finished with value: 1.0 and parameters: {'tau': 9.539139158400724, 'alpha': 0.5042887144280181}. Best is trial 21 with value: 0.6186870899071061.\u001B[0m\n",
      "\u001B[32m[I 2022-05-25 18:33:38,530]\u001B[0m Trial 91 finished with value: 1.0 and parameters: {'tau': 1.1037479477724268, 'alpha': 0.2520722955469823}. Best is trial 21 with value: 0.6186870899071061.\u001B[0m\n",
      "\u001B[32m[I 2022-05-25 18:33:39,153]\u001B[0m Trial 92 finished with value: 1.0 and parameters: {'tau': 0.9443411416222204, 'alpha': 0.5649730007216371}. Best is trial 21 with value: 0.6186870899071061.\u001B[0m\n",
      "\u001B[32m[I 2022-05-25 18:33:39,786]\u001B[0m Trial 93 finished with value: 1.0 and parameters: {'tau': 0.7756244058674496, 'alpha': 0.5354846451260211}. Best is trial 21 with value: 0.6186870899071061.\u001B[0m\n",
      "\u001B[32m[I 2022-05-25 18:33:40,415]\u001B[0m Trial 94 finished with value: 1.0 and parameters: {'tau': 0.22386873397452556, 'alpha': 0.7875618093922173}. Best is trial 21 with value: 0.6186870899071061.\u001B[0m\n",
      "\u001B[32m[I 2022-05-25 18:33:41,060]\u001B[0m Trial 95 finished with value: 1.0 and parameters: {'tau': 1.6014330338884109, 'alpha': 0.8628326681068483}. Best is trial 21 with value: 0.6186870899071061.\u001B[0m\n",
      "\u001B[32m[I 2022-05-25 18:33:41,682]\u001B[0m Trial 96 finished with value: 0.5615478155238243 and parameters: {'tau': 0.05020946376592769, 'alpha': 0.15342193085480144}. Best is trial 96 with value: 0.5615478155238243.\u001B[0m\n",
      "\u001B[32m[I 2022-05-25 18:33:42,301]\u001B[0m Trial 97 finished with value: 1.0 and parameters: {'tau': 1.4371795679479795, 'alpha': 0.15066756892269145}. Best is trial 96 with value: 0.5615478155238243.\u001B[0m\n",
      "\u001B[32m[I 2022-05-25 18:33:42,941]\u001B[0m Trial 98 finished with value: 1.0 and parameters: {'tau': 0.05549047045435272, 'alpha': 0.7178651495546691}. Best is trial 96 with value: 0.5615478155238243.\u001B[0m\n",
      "\u001B[32m[I 2022-05-25 18:33:43,543]\u001B[0m Trial 99 finished with value: 1.0 and parameters: {'tau': 1.8576169275138184, 'alpha': 0.5955148907944673}. Best is trial 96 with value: 0.5615478155238243.\u001B[0m\n"
     ]
    },
    {
     "name": "stdout",
     "output_type": "stream",
     "text": [
      "Testing SMAPE gradient\n",
      "Number of finished trials: 100\n",
      "Best trial: {'tau': 0.05020946376592769, 'alpha': 0.15342193085480144}\n",
      "Best score: 0.5615478155238243\n"
     ]
    }
   ],
   "source": [
    "studySMAPE = optuna.create_study(direction='minimize')\n",
    "studySMAPE.optimize(lambda trial : objective_gradient(trial, diff_smape, error(x_train, y_train, smape), smape), n_trials=100)\n",
    "\n",
    "print('Testing SMAPE gradient')\n",
    "print('Number of finished trials:', len(studySMAPE.trials))\n",
    "print('Best trial:', studySMAPE.best_trial.params)\n",
    "print('Best score:', studySMAPE.best_trial.value)"
   ],
   "metadata": {
    "collapsed": false,
    "pycharm": {
     "name": "#%%\n"
    }
   }
  },
  {
   "cell_type": "markdown",
   "source": [
    "## Тестирование"
   ],
   "metadata": {
    "collapsed": false,
    "pycharm": {
     "name": "#%% md\n"
    }
   }
  },
  {
   "cell_type": "markdown",
   "source": [
    "### График зависимости ошибки SMAPE и MSE на тестовом множестве от параметра регуляризации для метода наименьших квадратов"
   ],
   "metadata": {
    "collapsed": false,
    "pycharm": {
     "name": "#%% md\n"
    }
   }
  },
  {
   "cell_type": "code",
   "execution_count": 13,
   "outputs": [],
   "source": [
    "smapeList = []\n",
    "mseList = []\n",
    "for i in range(1, 100):\n",
    "    w = mnk(x_train, y_train, 1 / i)\n",
    "    mse_err = sum(sum(mse(y, np.dot(x, w)) for x, y in zip(x_test, y_test))) / len(x_test)\n",
    "    smape_err = sum(sum(smape(y, np.dot(x, w)) for x, y in zip(x_test, y_test))) / len(x_test)\n",
    "    smapeList.append(smape_err)\n",
    "    mseList.append(mse_err)"
   ],
   "metadata": {
    "collapsed": false,
    "pycharm": {
     "name": "#%%\n"
    }
   }
  },
  {
   "cell_type": "code",
   "execution_count": 14,
   "outputs": [
    {
     "data": {
      "text/plain": "<Figure size 432x288 with 1 Axes>",
      "image/png": "[encoded data removed]"
     },
     "metadata": {
      "needs_background": "light"
     },
     "output_type": "display_data"
    }
   ],
   "source": [
    "from matplotlib import pyplot as plt\n",
    "\n",
    "plt.plot([1 / i for i in range(1, 100)], smapeList, label='smape')\n",
    "plt.plot([1 / i for i in range(1, 100)], mseList, label='mse')\n",
    "plt.legend()\n",
    "plt.ylabel(\"metric\")\n",
    "plt.xlabel(\"tau\")\n",
    "plt.show()"
   ],
   "metadata": {
    "collapsed": false,
    "pycharm": {
     "name": "#%%\n"
    }
   }
  },
  {
   "cell_type": "markdown",
   "source": [
    "### график зависимости экспоненциального скользящего среднего эмпирического риска на тренировочном множестве для градиентных спусков"
   ],
   "metadata": {
    "collapsed": false,
    "pycharm": {
     "name": "#%% md\n"
    }
   }
  },
  {
   "cell_type": "code",
   "execution_count": 15,
   "outputs": [],
   "source": [
    "_, w_mse = stochastic_gradient(x_train, y_train, diff_mse, studyMSE.best_trial.params['tau'], studyMSE.best_trial.params['alpha'], mse)\n",
    "_, w_smape = stochastic_gradient(x_train, y_train, diff_smape, studySMAPE.best_trial.params['tau'], studySMAPE.best_trial.params['alpha'], smape)\n"
   ],
   "metadata": {
    "collapsed": false,
    "pycharm": {
     "name": "#%%\n"
    }
   }
  },
  {
   "cell_type": "code",
   "execution_count": 16,
   "outputs": [
    {
     "data": {
      "text/plain": "<Figure size 432x288 with 1 Axes>",
      "image/png": "[encoded data removed]"
     },
     "metadata": {
      "needs_background": "light"
     },
     "output_type": "display_data"
    }
   ],
   "source": [
    "plt.plot([i + 1 for i in range(0, len((w_smape)))], w_smape, label='mse')\n",
    "plt.legend()\n",
    "plt.ylabel(\"metric\")\n",
    "plt.xlabel(\"iter\")\n",
    "plt.show()"
   ],
   "metadata": {
    "collapsed": false,
    "pycharm": {
     "name": "#%%\n"
    }
   }
  },
  {
   "cell_type": "code",
   "execution_count": 17,
   "outputs": [
    {
     "data": {
      "text/plain": "<Figure size 432x288 with 1 Axes>",
      "image/png": "[encoded data removed]"
     },
     "metadata": {
      "needs_background": "light"
     },
     "output_type": "display_data"
    }
   ],
   "source": [
    "plt.plot([i + 1 for i in range(0, len(w_mse))], w_mse, label='smape')\n",
    "plt.legend()\n",
    "plt.ylabel(\"metric\")\n",
    "plt.xlabel(\"iter\")\n",
    "plt.show()"
   ],
   "metadata": {
    "collapsed": false,
    "pycharm": {
     "name": "#%%\n"
    }
   }
  },
  {
   "cell_type": "markdown",
   "source": [
    "### Оцените каждый из трёх методов на тестовом множестве данных при помощи NRMSE и SMAPE"
   ],
   "metadata": {
    "collapsed": false,
    "pycharm": {
     "name": "#%% md\n"
    }
   }
  },
  {
   "cell_type": "code",
   "execution_count": 40,
   "outputs": [],
   "source": [
    "import math\n",
    "\n",
    "def nrmse_methods(w):\n",
    "    ans = 0\n",
    "    y_max = np.max(y_test)\n",
    "    y_min = np.min(y_test)\n",
    "    for i in range(len(x_test)):\n",
    "        actual = np.dot(x_test.iloc[i], w)\n",
    "        ans += (actual - y_test[i]) ** 2\n",
    "    return math.sqrt(ans / len(x_test)) / (y_max - y_min)\n",
    "\n",
    "\n",
    "def smape_methods(w):\n",
    "    return sum(sum(smape(y, np.dot(x, w)) for x, y in zip(x_test, y_test))) / len(x_test)"
   ],
   "metadata": {
    "collapsed": false,
    "pycharm": {
     "name": "#%%\n"
    }
   }
  },
  {
   "cell_type": "code",
   "execution_count": 41,
   "outputs": [
    {
     "name": "stdout",
     "output_type": "stream",
     "text": [
      "MNK: SMAPE:  0.2940588481464574 , NRMSE: 0.0002586782917400415\n",
      "MSE: SMAPE:  0.1992947191403588 , NRMSE: 0.26943824289774304\n",
      "SMAPE: SMAPE:  0.09220725690123495 , NRMSE: 0.2583796752650631\n"
     ]
    }
   ],
   "source": [
    "w_mnk = mnk(x_train, y_train, studyMNK.best_trial.params['tau'])\n",
    "w_mse, _ = stochastic_gradient(x_train, y_train, diff_mse, studyMSE.best_trial.params['tau'], studyMSE.best_trial.params['alpha'], mse)\n",
    "w_smape, _ = stochastic_gradient(x_train, y_train, diff_smape, studySMAPE.best_trial.params['tau'], studySMAPE.best_trial.params['alpha'], smape)\n",
    "\n",
    "print('MNK: SMAPE: ', smape_methods(w_mnk) , ', NRMSE:', nrmse_methods(w_mnk))\n",
    "print('MSE: SMAPE: ', smape_methods(w_mse) , ', NRMSE:', nrmse_methods(w_mse))\n",
    "print('SMAPE: SMAPE: ', smape_methods(w_smape) , ', NRMSE:', nrmse_methods(w_smape))"
   ],
   "metadata": {
    "collapsed": false,
    "pycharm": {
     "name": "#%%\n"
    }
   }
  },
  {
   "cell_type": "code",
   "execution_count": null,
   "outputs": [],
   "source": [],
   "metadata": {
    "collapsed": false,
    "pycharm": {
     "name": "#%%\n"
    }
   }
  }
 ],
 "metadata": {
  "kernelspec": {
   "display_name": "Python 3",
   "language": "python",
   "name": "python3"
  },
  "language_info": {
   "codemirror_mode": {
    "name": "ipython",
    "version": 2
   },
   "file_extension": ".py",
   "mimetype": "text/x-python",
   "name": "python",
   "nbconvert_exporter": "python",
   "pygments_lexer": "ipython2",
   "version": "2.7.6"
  }
 },
 "nbformat": 4,
 "nbformat_minor": 0
}
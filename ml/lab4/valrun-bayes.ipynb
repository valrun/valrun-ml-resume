{
 "cells": [
  {
   "cell_type": "markdown",
   "source": [
    "# Лабораторная работа №4\n",
    "### Выполнила Рындина Валерия, M33351"
   ],
   "metadata": {
    "collapsed": false,
    "pycharm": {
     "name": "#%% md\n"
    }
   }
  },
  {
   "cell_type": "code",
   "execution_count": 1,
   "outputs": [],
   "source": [
    "import os\n",
    "from nltk import ngrams\n",
    "from collections import defaultdict\n",
    "import math\n",
    "import numpy as np\n",
    "from sklearn.metrics import accuracy_score\n",
    "from matplotlib import pyplot as plt"
   ],
   "metadata": {
    "collapsed": false,
    "pycharm": {
     "name": "#%%\n"
    }
   }
  },
  {
   "cell_type": "markdown",
   "source": [
    "### Чтение файла"
   ],
   "metadata": {
    "collapsed": false,
    "pycharm": {
     "name": "#%% md\n"
    }
   }
  },
  {
   "cell_type": "code",
   "execution_count": 2,
   "outputs": [],
   "source": [
    "def read_files(n):\n",
    "    x, y = [], []\n",
    "    for i in range(10):\n",
    "        cur_x, cur_y = [], []\n",
    "        dir = 'data/part' + str(i + 1)\n",
    "        for filename in os.listdir(dir):\n",
    "            with open(dir + '/' + filename, 'r') as f:\n",
    "                subject = list(map(int, f.readline().split()[1:]))\n",
    "                f.readline()\n",
    "                text = list(map(int, f.readline().split()))\n",
    "\n",
    "                subject.extend(text)\n",
    "                cur_x.append(list(ngrams(subject, n)))\n",
    "                cur_y.append(0 if 'legit' in filename else 1)\n",
    "        x.append(cur_x)\n",
    "        y.append(cur_y)\n",
    "    return x, y\n",
    "\n",
    "def flatten(t):\n",
    "    return [item for sublist in t for item in sublist]\n",
    "\n",
    "def get_data_for_cross(n):\n",
    "    x, y = read_files(n)\n",
    "    data = []\n",
    "    for i in range(len(x)):\n",
    "        x_test, y_test = x[i], y[i]\n",
    "\n",
    "        x_train, y_train = x.copy(), y.copy()\n",
    "        x_train.pop(i)\n",
    "        y_train.pop(i)\n",
    "\n",
    "        data.append((flatten(x_train), flatten(y_train), x_test, y_test))\n",
    "    return data, len(x)\n"
   ],
   "metadata": {
    "collapsed": false,
    "pycharm": {
     "name": "#%%\n"
    }
   }
  },
  {
   "cell_type": "markdown",
   "source": [
    "### Наивный байесовский классификатор"
   ],
   "metadata": {
    "collapsed": false,
    "pycharm": {
     "name": "#%% md\n"
    }
   }
  },
  {
   "cell_type": "code",
   "execution_count": 3,
   "outputs": [],
   "source": [
    "def init_Bayes(x, y):\n",
    "    letter_count = defaultdict(lambda: 0)\n",
    "    word_count = defaultdict(lambda: 0)\n",
    "    frequency = defaultdict(lambda: 0)\n",
    "    set_words = set()\n",
    "\n",
    "    for i in range(len(x)):\n",
    "        letter_count[y[i]] += 1\n",
    "        for word in x[i]:\n",
    "            word_count[y[i]] += 1\n",
    "            set_words.add(word)\n",
    "            frequency[y[i], word] += 1\n",
    "\n",
    "    return letter_count, word_count, frequency, set_words\n",
    "\n",
    "def predict(x, y, test, lambdas, alpha):\n",
    "    Q = 2 # spam and legit\n",
    "    letter_count, word_count, frequency, set_words = init_Bayes(x, y)\n",
    "\n",
    "    probability_fun_init = lambda i: math.log(lambdas[i] * letter_count.get(i) / len(x))\n",
    "    probability_legit = probability_fun_init(0)\n",
    "    probability_spam = probability_fun_init(1)\n",
    "\n",
    "    for word in test:\n",
    "        if (word in set_words):\n",
    "            probability_fun = lambda i: math.log((frequency.get((i, word), 0) + alpha) / (word_count[i] + Q * alpha))\n",
    "            set_words.discard(word)\n",
    "\n",
    "            probability_legit += probability_fun(0)\n",
    "            probability_spam += probability_fun(1)\n",
    "\n",
    "    for word in set_words:\n",
    "        probability_fun = lambda i: math.log(1 - (frequency.get((i, word), 0) + alpha) / (word_count[i] + Q * alpha))\n",
    "\n",
    "        probability_legit += probability_fun(0)\n",
    "        probability_spam += probability_fun(1)\n",
    "\n",
    "    return 0 if probability_legit > probability_spam else 1"
   ],
   "metadata": {
    "collapsed": false,
    "pycharm": {
     "name": "#%%\n"
    }
   }
  },
  {
   "cell_type": "code",
   "execution_count": 4,
   "outputs": [],
   "source": [
    "def cross_validation(data, alpha, legit_lambda):\n",
    "    accuracy = []\n",
    "    legit_wrong_counter = 0\n",
    "\n",
    "    for x_train, y_train, x_test, y_test in data:\n",
    "        predicts = []\n",
    "\n",
    "        for i in range(len(x_test)):\n",
    "            cur_predict = predict(x_train, y_train, x_test[i], [legit_lambda, 1], alpha)\n",
    "\n",
    "            predicts.append(cur_predict)\n",
    "            legit_wrong_counter += 1 if y_test[i] == 0 and cur_predict == 1 else 0\n",
    "\n",
    "        accuracy.append(accuracy_score(y_test, predicts))\n",
    "    return np.average(np.array(accuracy)), legit_wrong_counter"
   ],
   "metadata": {
    "collapsed": false,
    "pycharm": {
     "name": "#%%\n"
    }
   }
  },
  {
   "cell_type": "code",
   "execution_count": 5,
   "outputs": [],
   "source": [
    "def get_best_alpha(data, alphas):\n",
    "    alpha_best = -1\n",
    "    accuracy_best = -1\n",
    "\n",
    "    for i in alphas:\n",
    "        alpha = 10 ** -i\n",
    "        accuracy, _ = cross_validation(data, alpha, 1)\n",
    "        print('alpha:', alpha, ', accuracy:', accuracy)\n",
    "\n",
    "        if accuracy > accuracy_best:\n",
    "            accuracy_best = accuracy\n",
    "            alpha_best = alpha\n",
    "    return alpha_best, accuracy_best"
   ],
   "metadata": {
    "collapsed": false,
    "pycharm": {
     "name": "#%%\n"
    }
   }
  },
  {
   "cell_type": "code",
   "execution_count": 6,
   "outputs": [],
   "source": [
    "def get_best_lambda(data, alpha, lambdas):\n",
    "    lambda_best = -1\n",
    "    accuracy_best = -1\n",
    "\n",
    "    for i in lambdas:\n",
    "        legit_lambda = 10 ** i\n",
    "        accuracy, legit_wrong_count = cross_validation(data, alpha, legit_lambda)\n",
    "        print('lambda: 10 ^', i, ', accuracy:', accuracy, ', wrong legit:', legit_wrong_count)\n",
    "\n",
    "        if accuracy > accuracy_best and legit_wrong_count == 0:\n",
    "            accuracy_best = accuracy\n",
    "            lambda_best = legit_lambda\n",
    "    return lambda_best, accuracy_best\n"
   ],
   "metadata": {
    "collapsed": false,
    "pycharm": {
     "name": "#%%\n"
    }
   }
  },
  {
   "cell_type": "markdown",
   "source": [
    "### Поиск параметров"
   ],
   "metadata": {
    "collapsed": false,
    "pycharm": {
     "name": "#%% md\n"
    }
   }
  },
  {
   "cell_type": "code",
   "execution_count": 7,
   "outputs": [],
   "source": [
    "def testing():\n",
    "    best_accuracy = -1\n",
    "    best_parameters = (0, 0, 0)\n",
    "    lambda_range= [range(0), range(50, 111, 20), range(250, 291, 20), range(200, 261, 20)]\n",
    "    for n in range(1, 4):\n",
    "        print('------------------------------------------------------------------')\n",
    "        print('n:', n)\n",
    "\n",
    "        data, length = get_data_for_cross(n)\n",
    "\n",
    "        alpha, _ = get_best_alpha(data, range(8, 11))\n",
    "        print('best alpha:', alpha)\n",
    "\n",
    "        legit_lambda, accuracy = get_best_lambda(data, alpha, lambda_range[n])\n",
    "        print('best lambda:', legit_lambda)\n",
    "\n",
    "        if accuracy > best_accuracy:\n",
    "            best_parameters = (n, alpha, legit_lambda)\n",
    "    return best_parameters\n"
   ],
   "metadata": {
    "collapsed": false,
    "pycharm": {
     "name": "#%%\n"
    }
   }
  },
  {
   "cell_type": "code",
   "execution_count": 8,
   "outputs": [
    {
     "name": "stdout",
     "output_type": "stream",
     "text": [
      "------------------------------------------------------------------\n",
      "n: 1\n",
      "alpha: 1e-08 , accuracy: 0.9761467889908259\n",
      "alpha: 1e-09 , accuracy: 0.9770642201834864\n",
      "alpha: 1e-10 , accuracy: 0.9770642201834864\n",
      "best alpha: 1e-09\n",
      "lambda: 10 ^ 50 , accuracy: 0.9055045871559633 , wrong legit: 1\n",
      "lambda: 10 ^ 70 , accuracy: 0.8568807339449542 , wrong legit: 1\n",
      "lambda: 10 ^ 90 , accuracy: 0.8256880733944953 , wrong legit: 0\n",
      "lambda: 10 ^ 110 , accuracy: 0.8055045871559633 , wrong legit: 0\n",
      "best lambda: 1e-09\n",
      "------------------------------------------------------------------\n",
      "n: 2\n",
      "alpha: 1e-08 , accuracy: 0.9798165137614679\n",
      "alpha: 1e-09 , accuracy: 0.9798165137614679\n",
      "alpha: 1e-10 , accuracy: 0.9798165137614679\n",
      "best alpha: 1e-08\n",
      "lambda: 10 ^ 250 , accuracy: 0.8788990825688074 , wrong legit: 1\n",
      "lambda: 10 ^ 270 , accuracy: 0.8715596330275229 , wrong legit: 1\n",
      "lambda: 10 ^ 290 , accuracy: 0.865137614678899 , wrong legit: 1\n",
      "best lambda: -1\n",
      "------------------------------------------------------------------\n",
      "n: 3\n",
      "alpha: 1e-08 , accuracy: 0.9807339449541287\n",
      "alpha: 1e-09 , accuracy: 0.9807339449541287\n",
      "alpha: 1e-10 , accuracy: 0.9807339449541287\n",
      "best alpha: 1e-08\n",
      "lambda: 10 ^ 200 , accuracy: 0.8889908256880734 , wrong legit: 0\n",
      "lambda: 10 ^ 220 , accuracy: 0.8862385321100916 , wrong legit: 0\n",
      "lambda: 10 ^ 240 , accuracy: 0.8807339449541285 , wrong legit: 0\n",
      "lambda: 10 ^ 260 , accuracy: 0.8724770642201836 , wrong legit: 0\n",
      "best lambda: 1e-08\n"
     ]
    }
   ],
   "source": [
    "n, alpha, legit_lambda = testing()"
   ],
   "metadata": {
    "collapsed": false,
    "pycharm": {
     "name": "#%%\n"
    }
   }
  },
  {
   "cell_type": "markdown",
   "source": [
    "### ROC кривая"
   ],
   "metadata": {
    "collapsed": false,
    "pycharm": {
     "name": "#%% md\n"
    }
   }
  },
  {
   "cell_type": "code",
   "execution_count": 9,
   "outputs": [
    {
     "data": {
      "text/plain": "<Figure size 432x288 with 1 Axes>",
      "image/png": "[encoded data removed]"
     },
     "metadata": {
      "needs_background": "light"
     },
     "output_type": "display_data"
    }
   ],
   "source": [
    "from sklearn.metrics import roc_curve\n",
    "\n",
    "def graphic_roc(n, alpha, legit_lambda):\n",
    "    x, y = read_files(n)\n",
    "\n",
    "    x = flatten(x)\n",
    "    y = flatten(y)\n",
    "    predictions = []\n",
    "\n",
    "    for x_i in x:\n",
    "        prediction = predict(x, y, x_i, [legit_lambda, 1], alpha)\n",
    "        predictions.append(prediction)\n",
    "\n",
    "    FPR, TPR, _ = roc_curve(y, predictions)\n",
    "    plt.plot(FPR, TPR)\n",
    "    plt.ylabel('True Positive Rate')\n",
    "    plt.xlabel('False Positive Rate')\n",
    "    plt.show()\n",
    "\n",
    "\n",
    "graphic_roc(n, alpha, 1)"
   ],
   "metadata": {
    "collapsed": false,
    "pycharm": {
     "name": "#%%\n"
    }
   }
  },
  {
   "cell_type": "markdown",
   "source": [
    "### График зависимости точности от параметра λlegit"
   ],
   "metadata": {
    "collapsed": false,
    "pycharm": {
     "name": "#%% md\n"
    }
   }
  },
  {
   "cell_type": "code",
   "execution_count": 23,
   "outputs": [],
   "source": [
    "def graphic_lambda(n, alpha, legit_lambda, steps):\n",
    "    data, length = get_data_for_cross(n)\n",
    "\n",
    "    accuracy_list = []\n",
    "    lambda_list = []\n",
    "    for i in range(steps):\n",
    "        cur_lambda = 10 ** (legit_lambda * i / (steps - 1))\n",
    "        accuracy, legit_wrong_count = cross_validation(data, alpha, cur_lambda)\n",
    "\n",
    "        print('lambda:', cur_lambda, ',\\taccuracy:', accuracy, ',\\twrong legit:', legit_wrong_count)\n",
    "        accuracy_list.append(math.log(accuracy))\n",
    "        lambda_list.append(cur_lambda)\n",
    "    plt.plot(lambda_list, accuracy_list, label='accuracy')\n",
    "    plt.xlabel('Legit lambda')\n",
    "    plt.ylabel('Accuracy')\n",
    "    plt.show()\n",
    "\n",
    "    return accuracy_list, lambda_list"
   ],
   "metadata": {
    "collapsed": false,
    "pycharm": {
     "name": "#%%\n"
    }
   }
  },
  {
   "cell_type": "code",
   "execution_count": 24,
   "outputs": [
    {
     "name": "stdout",
     "output_type": "stream",
     "text": [
      "lambda: 1.0 ,\taccuracy: 0.9761467889908259 ,\twrong legit: 9\n",
      "lambda: 59948425.03189409 ,\taccuracy: 0.9743119266055047 ,\twrong legit: 4\n",
      "lambda: 3593813663804625.5 ,\taccuracy: 0.963302752293578 ,\twrong legit: 2\n",
      "lambda: 2.1544346900318777e+23 ,\taccuracy: 0.9467889908256881 ,\twrong legit: 2\n",
      "lambda: 1.2915496650148827e+31 ,\taccuracy: 0.9366972477064219 ,\twrong legit: 2\n",
      "lambda: 7.742636826811215e+38 ,\taccuracy: 0.9192660550458716 ,\twrong legit: 1\n",
      "lambda: 4.641588833612753e+46 ,\taccuracy: 0.9027522935779817 ,\twrong legit: 1\n",
      "lambda: 2.7825594022071144e+54 ,\taccuracy: 0.8908256880733945 ,\twrong legit: 1\n",
      "lambda: 1.6681005372000556e+62 ,\taccuracy: 0.863302752293578 ,\twrong legit: 1\n",
      "lambda: 1e+70 ,\taccuracy: 0.8440366972477065 ,\twrong legit: 0\n"
     ]
    },
    {
     "data": {
      "text/plain": "<Figure size 432x288 with 1 Axes>",
      "image/png": "[encoded data removed]"
     },
     "metadata": {
      "needs_background": "light"
     },
     "output_type": "display_data"
    },
    {
     "data": {
      "text/plain": "([-0.02414230532159952,\n  -0.02602377342130513,\n  -0.03738753207162033,\n  -0.054679029181681285,\n  -0.06539515705852392,\n  -0.08417969357837927,\n  -0.1023070781709359,\n  -0.11560650693186451,\n  -0.14698983563780973,\n  -0.16955930518010334],\n [1.0,\n  59948425.03189409,\n  3593813663804625.5,\n  2.1544346900318777e+23,\n  1.2915496650148827e+31,\n  7.742636826811215e+38,\n  4.641588833612753e+46,\n  2.7825594022071144e+54,\n  1.6681005372000556e+62,\n  1e+70])"
     },
     "execution_count": 24,
     "metadata": {},
     "output_type": "execute_result"
    }
   ],
   "source": [
    "graphic_lambda(1, alpha, 70, 10)"
   ],
   "metadata": {
    "collapsed": false,
    "pycharm": {
     "name": "#%%\n"
    }
   }
  },
  {
   "cell_type": "code",
   "execution_count": 26,
   "outputs": [
    {
     "data": {
      "text/plain": "<Figure size 432x288 with 1 Axes>",
      "image/png": "[encoded data removed]"
     },
     "metadata": {
      "needs_background": "light"
     },
     "output_type": "display_data"
    }
   ],
   "source": [
    "accuracy_list = [-0.02414230532159952,\n",
    "  -0.02602377342130513,\n",
    "  -0.03738753207162033,\n",
    "  -0.054679029181681285,\n",
    "  -0.06539515705852392,\n",
    "  -0.08417969357837927,\n",
    "  -0.1023070781709359,\n",
    "  -0.11560650693186451,\n",
    "  -0.14698983563780973,\n",
    "  -0.16955930518010334]\n",
    "\n",
    "lambda_list = [1.0,\n",
    "  59948425.03189409,\n",
    "  3593813663804625.5,\n",
    "  2.1544346900318777e+23,\n",
    "  1.2915496650148827e+31,\n",
    "  7.742636826811215e+38,\n",
    "  4.641588833612753e+46,\n",
    "  2.7825594022071144e+54,\n",
    "  1.6681005372000556e+62,\n",
    "  1e+70]\n",
    "\n",
    "log_lambda_list = list(math.log(i) for i in lambda_list)\n",
    "\n",
    "\n",
    "plt.plot(log_lambda_list, accuracy_list, label='accuracy')\n",
    "plt.xlabel('lod Legit lambda')\n",
    "plt.ylabel('log Accuracy')\n",
    "plt.show()"
   ],
   "metadata": {
    "collapsed": false,
    "pycharm": {
     "name": "#%%\n"
    }
   }
  },
  {
   "cell_type": "code",
   "execution_count": null,
   "outputs": [],
   "source": [],
   "metadata": {
    "collapsed": false,
    "pycharm": {
     "name": "#%%\n"
    }
   }
  }
 ],
 "metadata": {
  "kernelspec": {
   "display_name": "Python 3",
   "language": "python",
   "name": "python3"
  },
  "language_info": {
   "codemirror_mode": {
    "name": "ipython",
    "version": 2
   },
   "file_extension": ".py",
   "mimetype": "text/x-python",
   "name": "python",
   "nbconvert_exporter": "python",
   "pygments_lexer": "ipython2",
   "version": "2.7.6"
  }
 },
 "nbformat": 4,
 "nbformat_minor": 0
}
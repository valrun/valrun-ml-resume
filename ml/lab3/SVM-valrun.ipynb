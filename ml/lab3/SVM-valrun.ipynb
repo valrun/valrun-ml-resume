{
 "cells": [
  {
   "cell_type": "markdown",
   "source": [
    "# Лабораторная работа №3\n",
    "### Выполнила Рындина Валерия, M33351"
   ],
   "metadata": {
    "collapsed": false,
    "pycharm": {
     "name": "#%% md\n"
    }
   }
  },
  {
   "cell_type": "code",
   "execution_count": 1,
   "metadata": {
    "collapsed": true,
    "pycharm": {
     "name": "#%%\n"
    }
   },
   "outputs": [],
   "source": [
    "import pandas as pd\n",
    "import numpy as np\n",
    "from sklearn.model_selection import KFold"
   ]
  },
  {
   "cell_type": "code",
   "execution_count": 2,
   "outputs": [],
   "source": [
    "def normalize(data):\n",
    "    for col in data.columns :\n",
    "        if data[col].dtype.str == '<f8':\n",
    "            min_val = min(data[col])\n",
    "            max_val = max(data[col])\n",
    "            data[col] = data[col].apply(lambda x: (x - min_val) / (max_val - min_val) if max_val != min_val else 0.0)\n",
    "\n",
    "def get_data(file_path):\n",
    "    data = pd.read_csv(file_path)\n",
    "    normalize(data)\n",
    "    data['class'] = data['class'].apply(lambda x: 1. if x == 'P' else -1.)\n",
    "\n",
    "    return data"
   ],
   "metadata": {
    "collapsed": false,
    "pycharm": {
     "name": "#%%\n"
    }
   }
  },
  {
   "cell_type": "code",
   "execution_count": 3,
   "outputs": [],
   "source": [
    "def get_cross_data(data):\n",
    "    cross_data = []\n",
    "\n",
    "    kf = KFold(n_splits=2, shuffle=True)\n",
    "    for train_ind, test_ind in kf.split(data):\n",
    "        get_x_y = lambda ind: (data.drop(columns='class').to_numpy()[ind], data['class'].to_numpy()[ind])\n",
    "        x_train, y_train = get_x_y(train_ind)\n",
    "        x_test, y_test = get_x_y(test_ind)\n",
    "\n",
    "        cross_data.append((x_train, y_train, x_test, y_test))\n",
    "    x, y = data.drop(columns='class').to_numpy(), data['class'].to_numpy()\n",
    "    return x, y, cross_data"
   ],
   "metadata": {
    "collapsed": false,
    "pycharm": {
     "name": "#%%\n"
    }
   }
  },
  {
   "cell_type": "code",
   "execution_count": 4,
   "outputs": [],
   "source": [
    "def polynomial_kernel(degree):\n",
    "    def kernel(x, y):\n",
    "        return np.dot(np.transpose(x), y) ** degree\n",
    "    return kernel\n",
    "\n",
    "linear_kernel = polynomial_kernel(1)\n",
    "\n",
    "def gaussian_kernel(beta):\n",
    "    def kernel(x, y):\n",
    "        return np.exp(-beta * np.linalg.norm((x - y) ** 2))\n",
    "    return kernel"
   ],
   "metadata": {
    "collapsed": false,
    "pycharm": {
     "name": "#%%\n"
    }
   }
  },
  {
   "cell_type": "code",
   "execution_count": 14,
   "outputs": [],
   "source": [
    "from sklearn.metrics import accuracy_score\n",
    "from statistics import median\n",
    "from scipy.optimize import minimize\n",
    "\n",
    "def get_fun(x, y, kernel):\n",
    "    def fun(alfa):\n",
    "        summa = 0\n",
    "        for i in range(0, len(alfa)):\n",
    "            for j in range(0, len(alfa)):\n",
    "                summa += alfa[i] * alfa[j] * y[i] * y[j] * kernel(x[i], x[j])\n",
    "        return - np.sum(alfa) + 1 / 2 * summa\n",
    "\n",
    "    return fun\n",
    "\n",
    "def get_w0(alfa, x, y, kernel):\n",
    "    n, m = x.shape\n",
    "    w = sum(alfa[i] * y[i] * x[i] for i in range(n))\n",
    "    w0 = []\n",
    "    for i in range(0, n):\n",
    "        if alfa[i] > 0 and np.abs(y[i] * kernel(w, x[i]) - 1) < 0.01:\n",
    "            w0 = np.append(w0, kernel(w, x[i]) - y[i])\n",
    "    return median(w0) if len(w0) > 0 else 0\n",
    "\n",
    "def get_classifier(alfa, w0, x, y, kernel):\n",
    "    n, m = x.shape\n",
    "    def fun(test_x):\n",
    "        summa = sum(alfa[i] * y[i] * kernel(x[i], test_x) for i in range(n))\n",
    "        return np.sign(summa - w0)\n",
    "    return fun\n",
    "\n",
    "def get_best_classifier(x_train, y_train, c, kernel):\n",
    "    train_n, train_m = x_train.shape\n",
    "\n",
    "    alfa0 = [0] * train_n\n",
    "    bounds = [(0, c)] * train_n\n",
    "\n",
    "    res = minimize(fun=get_fun(x_train, y_train, kernel),\n",
    "                   x0=alfa0,\n",
    "                   bounds=bounds,\n",
    "                   constraints={'type': 'eq', 'fun': lambda alfa_: np.sum(alfa_ * y_train)},\n",
    "                   options={'maxiter': 10})\n",
    "\n",
    "    alfa = res.x\n",
    "    w0 = get_w0(alfa, x_train, y_train, kernel)\n",
    "    classifier = get_classifier(alfa, w0, x_train, y_train, kernel)\n",
    "\n",
    "    return classifier, alfa, w0\n",
    "\n",
    "def svm(cross_data, kernel):\n",
    "    C = [0.05, 0.1, 0.5, 1.0, 5.0, 10.0, 50.0, 100.0]\n",
    "\n",
    "    best_accuracy = -1.\n",
    "    best_c = C[0]\n",
    "\n",
    "    for c in C:\n",
    "        sum_accuracy = 0\n",
    "        for x_train, y_train, x_test, y_test in cross_data:\n",
    "            cur_classifier, _, _ = get_best_classifier(x_train, y_train, c, kernel)\n",
    "\n",
    "            sum_accuracy += accuracy_score(y_test, list(cur_classifier(x) for x in x_test), normalize=True)\n",
    "        sum_accuracy = sum_accuracy / len(cross_data)\n",
    "        print('c:', c, 'accuracy:', sum_accuracy)\n",
    "        if sum_accuracy > best_accuracy:\n",
    "            best_accuracy = sum_accuracy\n",
    "            best_c = c\n",
    "    return best_c, best_accuracy"
   ],
   "metadata": {
    "collapsed": false,
    "pycharm": {
     "name": "#%%\n"
    }
   }
  },
  {
   "cell_type": "code",
   "execution_count": 6,
   "outputs": [],
   "source": [
    "from matplotlib import pyplot as plt\n",
    "\n",
    "def draw_plot(title, ds, clf):\n",
    "    plt.title(title)\n",
    "    min_x1, max_x1 = np.min(ds[:, 0]), np.max(ds[:, 0])\n",
    "    min_x2, max_x2 = np.min(ds[:, 1]), np.max(ds[:, 1])\n",
    "    dx1 = max_x1 - min_x1\n",
    "    dx2 = max_x2 - min_x2\n",
    "    step1 = 10\n",
    "    step2 = 60\n",
    "    for x1 in np.arange(min_x1 - dx1 / step1, max_x1 + dx1 / step1, dx1 / step2):\n",
    "        for x2 in np.arange(min_x2 - dx2 / step1, max_x2 + dx2 / step1, dx2 / step2):\n",
    "            z = clf([x1, x2])\n",
    "            c = 'w'\n",
    "            c = 'lightcoral' if z == 1 else c\n",
    "            c = 'lavenderblush' if z == -1 else c\n",
    "            plt.scatter(x1, x2, color=c, s=150, marker='s')\n",
    "    for i in range(len(ds)):\n",
    "        features, label = ds[i][:-1], ds[i][-1]\n",
    "        c = 'orchid' if label == -1 else 'red'\n",
    "        plt.scatter(features[0], features[1], color=c, s=50)\n",
    "    plt.show()"
   ],
   "metadata": {
    "collapsed": false,
    "pycharm": {
     "name": "#%%\n"
    }
   }
  },
  {
   "cell_type": "code",
   "execution_count": 7,
   "outputs": [],
   "source": [
    "def get_best_classifier_linear(data, x, y, cross_data):\n",
    "    c, accuracy = svm(cross_data, linear_kernel)\n",
    "    print('best accuracy:', accuracy)\n",
    "    print('best c:', c)\n",
    "    classifier, alpha, w0 = get_best_classifier(x, y, c, linear_kernel)\n",
    "    print('best alpha:', alpha)\n",
    "    print('best w0:', w0)\n",
    "    draw_plot('linear', data.to_numpy(), classifier)"
   ],
   "metadata": {
    "collapsed": false,
    "pycharm": {
     "name": "#%%\n"
    }
   }
  },
  {
   "cell_type": "code",
   "execution_count": 8,
   "outputs": [
    {
     "name": "stdout",
     "output_type": "stream",
     "text": [
      "c: 0.05 accuracy: 0.5847457627118644\n",
      "c: 0.1 accuracy: 0.5169491525423728\n",
      "c: 0.5 accuracy: 0.6016949152542372\n",
      "c: 1.0 accuracy: 0.5169491525423728\n",
      "c: 5.0 accuracy: 0.4491525423728814\n",
      "c: 10.0 accuracy: 0.4745762711864407\n",
      "c: 50.0 accuracy: 0.4152542372881356\n",
      "c: 100.0 accuracy: 0.4152542372881356\n",
      "best accuracy: 0.6016949152542372\n",
      "best c: 0.5\n",
      "best alpha: [0.5 0.5 0.5 0.5 0.5 0.5 0.5 0.5 0.5 0.5 0.5 0.5 0.5 0.5 0.5 0.5 0.5 0.5\n",
      " 0.5 0.5 0.5 0.5 0.5 0.5 0.5 0.5 0.5 0.5 0.5 0.5 0.5 0.5 0.5 0.5 0.5 0.5\n",
      " 0.5 0.5 0.5 0.5 0.5 0.5 0.5 0.5 0.5 0.5 0.5 0.5 0.5 0.5 0.5 0.5 0.5 0.5\n",
      " 0.5 0.5 0.5 0.5 0.5 0.5 0.5 0.5 0.5 0.5 0.5 0.5 0.5 0.  0.5 0.5 0.5 0.5\n",
      " 0.5 0.5 0.5 0.5 0.5 0.5 0.5 0.5 0.5 0.5 0.5 0.5 0.5 0.5 0.5 0.5 0.5 0.5\n",
      " 0.5 0.5 0.5 0.5 0.5 0.5 0.5 0.5 0.5 0.5 0.5 0.  0.5 0.5 0.5 0.5 0.5 0.5\n",
      " 0.5 0.5 0.5 0.5 0.5 0.5 0.5 0.5 0.5 0.5]\n",
      "best w0: 0\n"
     ]
    },
    {
     "data": {
      "text/plain": "<Figure size 432x288 with 1 Axes>",
      "image/png": "[encoded data removed]"
     },
     "metadata": {
      "needs_background": "light"
     },
     "output_type": "display_data"
    }
   ],
   "source": [
    "dt_chips = get_data('data/chips.csv')\n",
    "x_chips, y_chips, cross_data_chips = get_cross_data(dt_chips)\n",
    "\n",
    "get_best_classifier_linear(dt_chips, x_chips, y_chips, cross_data_chips)"
   ],
   "metadata": {
    "collapsed": false,
    "pycharm": {
     "name": "#%%\n"
    }
   }
  },
  {
   "cell_type": "code",
   "execution_count": 9,
   "outputs": [
    {
     "name": "stdout",
     "output_type": "stream",
     "text": [
      "c: 0.05 accuracy: 0.5847457627118644\n",
      "c: 0.1 accuracy: 0.5254237288135593\n",
      "c: 0.5 accuracy: 0.5847457627118644\n",
      "c: 1.0 accuracy: 0.4915254237288136\n",
      "c: 5.0 accuracy: 0.5847457627118644\n",
      "c: 10.0 accuracy: 0.5847457627118644\n",
      "c: 50.0 accuracy: 0.5084745762711864\n",
      "c: 100.0 accuracy: 0.5847457627118644\n",
      "n: 2 accuracy: 0.5847457627118644\n",
      "c: 0.05 accuracy: 0.5084745762711864\n",
      "c: 0.1 accuracy: 0.5508474576271186\n",
      "c: 0.5 accuracy: 0.5847457627118644\n",
      "c: 1.0 accuracy: 0.5847457627118644\n",
      "c: 5.0 accuracy: 0.5254237288135593\n",
      "c: 10.0 accuracy: 0.5677966101694916\n",
      "c: 50.0 accuracy: 0.5593220338983051\n",
      "c: 100.0 accuracy: 0.5932203389830508\n",
      "n: 3 accuracy: 0.5932203389830508\n",
      "c: 0.05 accuracy: 0.5508474576271186\n",
      "c: 0.1 accuracy: 0.5932203389830508\n",
      "c: 0.5 accuracy: 0.5593220338983051\n",
      "c: 1.0 accuracy: 0.5423728813559322\n",
      "c: 5.0 accuracy: 0.5508474576271186\n",
      "c: 10.0 accuracy: 0.5593220338983051\n",
      "c: 50.0 accuracy: 0.5508474576271186\n",
      "c: 100.0 accuracy: 0.5593220338983051\n",
      "n: 4 accuracy: 0.5932203389830508\n",
      "c: 0.05 accuracy: 0.5169491525423728\n",
      "c: 0.1 accuracy: 0.5084745762711864\n",
      "c: 0.5 accuracy: 0.5084745762711864\n",
      "c: 1.0 accuracy: 0.5084745762711864\n",
      "c: 5.0 accuracy: 0.5084745762711864\n",
      "c: 10.0 accuracy: 0.5084745762711864\n",
      "c: 50.0 accuracy: 0.5084745762711864\n",
      "c: 100.0 accuracy: 0.5084745762711864\n",
      "n: 5 accuracy: 0.5169491525423728\n",
      "best accuracy: 0.5932203389830508\n",
      "best n: 3\n",
      "best c: 100.0\n",
      "best alpha: [1.00000000e+02 1.00000000e+02 1.00000000e+02 1.00000000e+02\n",
      " 1.00000000e+02 9.99999998e+01 2.81014177e-07 2.39766466e-08\n",
      " 7.39726434e+01 9.99999999e+01 1.00000000e+02 1.00000000e+02\n",
      " 1.00000000e+02 1.00000000e+02 1.00000000e+02 1.00000000e+02\n",
      " 1.00000000e+02 1.00000000e+02 1.00000000e+02 1.00000000e+02\n",
      " 1.00000000e+02 1.00000000e+02 1.25758782e-08 1.27802645e-08\n",
      " 5.64229207e-08 1.00000000e+02 1.00000000e+02 1.00000000e+02\n",
      " 1.00000000e+02 1.00000000e+02 1.00000000e+02 1.00000000e+02\n",
      " 1.00000000e+02 1.00000000e+02 9.99999999e+01 2.57237984e-07\n",
      " 4.62480665e-08 8.44692090e-07 9.99999993e+01 1.00000000e+02\n",
      " 1.00000000e+02 1.00000000e+02 1.00000000e+02 1.00000000e+02\n",
      " 1.00000000e+02 1.00000000e+02 1.00000000e+02 1.00000000e+02\n",
      " 1.00000000e+02 1.00000000e+02 1.00000000e+02 1.00000000e+02\n",
      " 1.00000000e+02 1.00000000e+02 9.99999995e+01 9.99999999e+01\n",
      " 3.93322933e-07 9.57699733e-08 1.00000000e+02 1.00000000e+02\n",
      " 1.00000000e+02 1.00000000e+02 1.00000000e+02 1.00000000e+02\n",
      " 1.00000000e+02 1.00902198e-08 9.99999999e+01 4.46378168e-09\n",
      " 4.14050598e-09 3.27939614e+01 5.92468505e-09 7.96727898e-08\n",
      " 3.39652711e+01 9.99999999e+01 1.00000000e+02 1.00000000e+02\n",
      " 1.00000000e+02 1.00000000e+02 1.00000000e+02 1.00000000e+02\n",
      " 1.00000000e+02 1.00000000e+02 1.00000000e+02 1.00000000e+02\n",
      " 1.00000000e+02 1.00000000e+02 1.00000000e+02 1.00000000e+02\n",
      " 1.00000000e+02 9.99999999e+01 7.33258023e+00 1.00000000e+02\n",
      " 1.00000000e+02 1.00000000e+02 9.99999990e+01 9.58422498e-09\n",
      " 1.42570466e-07 1.00000000e+02 9.98808313e+01 9.54041316e-07\n",
      " 1.00000000e+02 3.73384060e-09 1.00000000e+02 1.00000000e+02\n",
      " 1.00000000e+02 1.00000000e+02 1.00000000e+02 1.00000000e+02\n",
      " 1.00000000e+02 1.00000000e+02 1.00000000e+02 1.00000000e+02\n",
      " 1.00000000e+02 1.00000000e+02 1.00000000e+02 6.83034371e-09\n",
      " 9.99999999e+01 1.00000000e+02]\n",
      "best w0: 0\n"
     ]
    },
    {
     "data": {
      "text/plain": "<Figure size 432x288 with 1 Axes>",
      "image/png": "[encoded data removed]"
     },
     "metadata": {
      "needs_background": "light"
     },
     "output_type": "display_data"
    }
   ],
   "source": [
    "def get_best_classifier_polynomial(data, x, y, cross_data):\n",
    "    best_n = 2\n",
    "    best_c = 0.05\n",
    "    best_accuracy = -1\n",
    "\n",
    "    for n in [2, 3, 4, 5]:\n",
    "        c, accuracy = svm(cross_data, polynomial_kernel(n))\n",
    "        if accuracy > best_accuracy:\n",
    "            best_accuracy = accuracy\n",
    "            best_c = c\n",
    "            best_n = n\n",
    "        print('n:', n, 'accuracy:', accuracy)\n",
    "\n",
    "    print('best accuracy:', best_accuracy)\n",
    "    print('best n:', best_n)\n",
    "    print('best c:', best_c)\n",
    "\n",
    "    classifier, alpha, w0 = get_best_classifier(x, y, best_c, polynomial_kernel(best_n))\n",
    "    print('best alpha:', alpha)\n",
    "    print('best w0:', w0)\n",
    "    draw_plot('polynomial', data.to_numpy(), classifier)\n",
    "\n",
    "get_best_classifier_polynomial(dt_chips, x_chips, y_chips, cross_data_chips)"
   ],
   "metadata": {
    "collapsed": false,
    "pycharm": {
     "name": "#%%\n"
    }
   }
  },
  {
   "cell_type": "code",
   "execution_count": 10,
   "outputs": [
    {
     "name": "stdout",
     "output_type": "stream",
     "text": [
      "c: 0.05 accuracy: 0.4915254237288136\n",
      "c: 0.1 accuracy: 0.4915254237288136\n",
      "c: 0.5 accuracy: 0.4915254237288136\n",
      "c: 1.0 accuracy: 0.4915254237288136\n",
      "c: 5.0 accuracy: 0.4915254237288136\n",
      "c: 10.0 accuracy: 0.4915254237288136\n",
      "c: 50.0 accuracy: 0.5\n",
      "c: 100.0 accuracy: 0.4915254237288136\n",
      "beta: 1 accuracy: 0.5\n",
      "c: 0.05 accuracy: 0.4915254237288136\n",
      "c: 0.1 accuracy: 0.4915254237288136\n",
      "c: 0.5 accuracy: 0.4915254237288136\n",
      "c: 1.0 accuracy: 0.4915254237288136\n",
      "c: 5.0 accuracy: 0.4915254237288136\n",
      "c: 10.0 accuracy: 0.4915254237288136\n",
      "c: 50.0 accuracy: 0.4915254237288136\n",
      "c: 100.0 accuracy: 0.4915254237288136\n",
      "beta: 2 accuracy: 0.4915254237288136\n",
      "c: 0.05 accuracy: 0.5\n",
      "c: 0.1 accuracy: 0.5\n",
      "c: 0.5 accuracy: 0.5\n",
      "c: 1.0 accuracy: 0.4915254237288136\n",
      "c: 5.0 accuracy: 0.4915254237288136\n",
      "c: 10.0 accuracy: 0.4915254237288136\n",
      "c: 50.0 accuracy: 0.4915254237288136\n",
      "c: 100.0 accuracy: 0.4915254237288136\n",
      "beta: 3 accuracy: 0.5\n",
      "c: 0.05 accuracy: 0.5084745762711864\n",
      "c: 0.1 accuracy: 0.5084745762711864\n",
      "c: 0.5 accuracy: 0.5084745762711864\n",
      "c: 1.0 accuracy: 0.5\n",
      "c: 5.0 accuracy: 0.4915254237288136\n",
      "c: 10.0 accuracy: 0.5\n",
      "c: 50.0 accuracy: 0.4915254237288136\n",
      "c: 100.0 accuracy: 0.4915254237288136\n",
      "beta: 4 accuracy: 0.5084745762711864\n",
      "c: 0.05 accuracy: 0.5254237288135593\n",
      "c: 0.1 accuracy: 0.5254237288135593\n",
      "c: 0.5 accuracy: 0.5254237288135593\n",
      "c: 1.0 accuracy: 0.5084745762711864\n",
      "c: 5.0 accuracy: 0.5\n",
      "c: 10.0 accuracy: 0.5084745762711864\n",
      "c: 50.0 accuracy: 0.5254237288135594\n",
      "c: 100.0 accuracy: 0.5508474576271186\n",
      "beta: 5 accuracy: 0.5508474576271186\n",
      "best accuracy: 0.5508474576271186\n",
      "best beta: 5\n",
      "best c: 100.0\n",
      "best alpha: [0.00000000e+00 0.00000000e+00 0.00000000e+00 1.01165214e-12\n",
      " 8.66361994e+00 1.00000000e+02 0.00000000e+00 0.00000000e+00\n",
      " 0.00000000e+00 0.00000000e+00 1.00000000e+02 9.11775455e-01\n",
      " 0.00000000e+00 1.65391474e-11 1.00000000e+02 0.00000000e+00\n",
      " 0.00000000e+00 0.00000000e+00 0.00000000e+00 1.00353827e-11\n",
      " 0.00000000e+00 1.00000000e+02 1.00000000e+02 1.00000000e+02\n",
      " 0.00000000e+00 1.00000000e+02 8.79284972e-12 1.00000000e+02\n",
      " 0.00000000e+00 1.00000000e+02 1.00000000e+02 0.00000000e+00\n",
      " 0.00000000e+00 0.00000000e+00 1.00000000e+02 0.00000000e+00\n",
      " 0.00000000e+00 0.00000000e+00 0.00000000e+00 0.00000000e+00\n",
      " 0.00000000e+00 0.00000000e+00 0.00000000e+00 0.00000000e+00\n",
      " 1.00000000e+02 1.00000000e+02 1.00000000e+02 0.00000000e+00\n",
      " 1.00000000e+02 0.00000000e+00 0.00000000e+00 0.00000000e+00\n",
      " 0.00000000e+00 0.00000000e+00 0.00000000e+00 1.00000000e+02\n",
      " 0.00000000e+00 0.00000000e+00 0.00000000e+00 1.00000000e+02\n",
      " 1.00000000e+02 0.00000000e+00 0.00000000e+00 0.00000000e+00\n",
      " 0.00000000e+00 0.00000000e+00 0.00000000e+00 0.00000000e+00\n",
      " 0.00000000e+00 1.00000000e+02 4.68314057e+01 0.00000000e+00\n",
      " 0.00000000e+00 0.00000000e+00 2.56996549e+01 0.00000000e+00\n",
      " 1.00000000e+02 0.00000000e+00 0.00000000e+00 0.00000000e+00\n",
      " 0.00000000e+00 1.00000000e+02 0.00000000e+00 0.00000000e+00\n",
      " 0.00000000e+00 8.02889412e+01 0.00000000e+00 7.45501471e+01\n",
      " 0.00000000e+00 0.00000000e+00 0.00000000e+00 0.00000000e+00\n",
      " 1.00000000e+02 8.22052465e+01 0.00000000e+00 0.00000000e+00\n",
      " 0.00000000e+00 0.00000000e+00 0.00000000e+00 1.00000000e+02\n",
      " 0.00000000e+00 0.00000000e+00 0.00000000e+00 0.00000000e+00\n",
      " 1.00000000e+02 0.00000000e+00 0.00000000e+00 1.00000000e+02\n",
      " 0.00000000e+00 0.00000000e+00 0.00000000e+00 1.00000000e+02\n",
      " 0.00000000e+00 1.00000000e+02 1.00000000e+02 0.00000000e+00\n",
      " 0.00000000e+00 1.00000000e+02]\n",
      "best w0: 0\n"
     ]
    },
    {
     "data": {
      "text/plain": "<Figure size 432x288 with 1 Axes>",
      "image/png": "[encoded data removed]"
     },
     "metadata": {
      "needs_background": "light"
     },
     "output_type": "display_data"
    }
   ],
   "source": [
    "def get_best_classifier_gaussian(data, x, y, cross_data):\n",
    "    best_beta = 1\n",
    "    best_c = 0.05\n",
    "    best_accuracy = -1\n",
    "\n",
    "    for beta in [1, 2, 3, 4, 5]:\n",
    "        c, accuracy = svm(cross_data, gaussian_kernel(beta))\n",
    "        if accuracy > best_accuracy:\n",
    "            best_accuracy = accuracy\n",
    "            best_c = c\n",
    "            best_beta = beta\n",
    "        print('beta:', beta, 'accuracy:', accuracy)\n",
    "\n",
    "    print('best accuracy:', best_accuracy)\n",
    "    print('best beta:', best_beta)\n",
    "    print('best c:', best_c)\n",
    "\n",
    "    classifier, alpha, w0 = get_best_classifier(x, y, best_c, gaussian_kernel(best_beta))\n",
    "    print('best alpha:', alpha)\n",
    "    print('best w0:', w0)\n",
    "    draw_plot('gaussian', data.to_numpy(), classifier)\n",
    "\n",
    "get_best_classifier_gaussian(dt_chips, x_chips, y_chips, cross_data_chips)"
   ],
   "metadata": {
    "collapsed": false,
    "pycharm": {
     "name": "#%%\n"
    }
   }
  },
  {
   "cell_type": "code",
   "execution_count": 11,
   "outputs": [
    {
     "name": "stdout",
     "output_type": "stream",
     "text": [
      "c: 0.05 accuracy: 0.7117117117117118\n",
      "c: 0.1 accuracy: 0.6981981981981982\n",
      "c: 0.5 accuracy: 0.7027027027027026\n",
      "c: 1.0 accuracy: 0.7387387387387387\n",
      "c: 5.0 accuracy: 0.7117117117117118\n",
      "c: 10.0 accuracy: 0.7117117117117118\n",
      "c: 50.0 accuracy: 0.7072072072072072\n",
      "c: 100.0 accuracy: 0.6981981981981982\n",
      "best accuracy: 0.7387387387387387\n",
      "best c: 1.0\n",
      "best alpha: [0.00000000e+00 0.00000000e+00 1.00000000e+00 0.00000000e+00\n",
      " 1.00000000e+00 0.00000000e+00 1.00000000e+00 0.00000000e+00\n",
      " 0.00000000e+00 0.00000000e+00 0.00000000e+00 0.00000000e+00\n",
      " 1.00000000e+00 0.00000000e+00 0.00000000e+00 0.00000000e+00\n",
      " 1.00000000e+00 1.00000000e+00 0.00000000e+00 0.00000000e+00\n",
      " 0.00000000e+00 0.00000000e+00 1.00000000e+00 4.74461342e-01\n",
      " 0.00000000e+00 1.00000000e+00 0.00000000e+00 0.00000000e+00\n",
      " 0.00000000e+00 1.00000000e+00 1.00000000e+00 0.00000000e+00\n",
      " 0.00000000e+00 0.00000000e+00 0.00000000e+00 0.00000000e+00\n",
      " 0.00000000e+00 0.00000000e+00 1.00000000e+00 0.00000000e+00\n",
      " 1.00000000e+00 1.00000000e+00 1.00000000e+00 1.00000000e+00\n",
      " 1.00000000e+00 1.00000000e+00 1.00000000e+00 1.00000000e+00\n",
      " 0.00000000e+00 1.00000000e+00 1.00000000e+00 1.00000000e+00\n",
      " 1.00000000e+00 1.00000000e+00 1.00000000e+00 0.00000000e+00\n",
      " 0.00000000e+00 0.00000000e+00 1.00000000e+00 1.00000000e+00\n",
      " 0.00000000e+00 1.00000000e+00 0.00000000e+00 0.00000000e+00\n",
      " 1.00000000e+00 1.00000000e+00 1.00000000e+00 0.00000000e+00\n",
      " 0.00000000e+00 1.00000000e+00 1.00000000e+00 1.00000000e+00\n",
      " 0.00000000e+00 0.00000000e+00 0.00000000e+00 0.00000000e+00\n",
      " 0.00000000e+00 0.00000000e+00 0.00000000e+00 0.00000000e+00\n",
      " 1.00000000e+00 1.00000000e+00 1.17605985e-12 0.00000000e+00\n",
      " 0.00000000e+00 0.00000000e+00 0.00000000e+00 0.00000000e+00\n",
      " 0.00000000e+00 9.66540474e-01 0.00000000e+00 0.00000000e+00\n",
      " 0.00000000e+00 1.17898024e-12 0.00000000e+00 0.00000000e+00\n",
      " 1.00000000e+00 0.00000000e+00 0.00000000e+00 0.00000000e+00\n",
      " 1.00000000e+00 0.00000000e+00 0.00000000e+00 0.00000000e+00\n",
      " 0.00000000e+00 0.00000000e+00 0.00000000e+00 1.00000000e+00\n",
      " 0.00000000e+00 0.00000000e+00 5.25496409e-16 1.75014197e-15\n",
      " 0.00000000e+00 1.58172496e-16 1.00000000e+00 4.92564815e-15\n",
      " 0.00000000e+00 0.00000000e+00 1.00000000e+00 0.00000000e+00\n",
      " 2.27442556e-13 5.34226107e-14 1.00000000e+00 1.00000000e+00\n",
      " 1.00000000e+00 0.00000000e+00 1.00000000e+00 6.84966600e-14\n",
      " 1.00000000e+00 1.00000000e+00 1.00000000e+00 1.33673246e-14\n",
      " 6.52286637e-14 3.91586875e-14 2.73697670e-14 2.86065395e-13\n",
      " 9.22746504e-14 7.96480028e-14 1.00000000e+00 1.00000000e+00\n",
      " 1.00000000e+00 1.34241823e-13 3.85812745e-14 1.00000000e+00\n",
      " 2.84252351e-13 1.29323714e-13 1.17737835e-13 1.19295582e-13\n",
      " 3.80576738e-14 9.00431606e-14 1.00000000e+00 0.00000000e+00\n",
      " 7.26490728e-14 3.62774920e-13 1.31653972e-13 1.75861999e-13\n",
      " 1.17414729e-13 1.92780957e-13 1.30362713e-13 1.57276369e-13\n",
      " 7.84319809e-14 1.00000000e+00 0.00000000e+00 1.17579288e-13\n",
      " 2.31421718e-13 1.56836462e-13 0.00000000e+00 4.07204896e-13\n",
      " 1.55948433e-13 4.84051493e-13 1.43530345e-13 1.00000000e+00\n",
      " 2.54172598e-01 1.00000000e+00 1.44270419e-13 1.00000000e+00\n",
      " 2.53748270e-01 1.00000000e+00 1.00000000e+00 1.00000000e+00\n",
      " 3.09439741e-13 1.95676742e-13 1.67439207e-13 1.00000000e+00\n",
      " 2.07614637e-13 2.73315318e-13 2.07592399e-13 2.91359592e-13\n",
      " 1.94794237e-13 2.73389517e-13 2.48264558e-13 0.00000000e+00\n",
      " 2.08615836e-13 1.00000000e+00 3.17930510e-13 2.23636850e-13\n",
      " 1.00000000e+00 3.58526382e-13 2.86587304e-13 1.00000000e+00\n",
      " 0.00000000e+00 3.13789685e-13 2.34854638e-13 1.00000000e+00\n",
      " 3.86873414e-13 1.00000000e+00 0.00000000e+00 4.41014240e-13\n",
      " 6.22360394e-14 1.00000000e+00 3.50440867e-13 2.74145879e-13\n",
      " 1.00000000e+00 4.25895250e-13 2.73325860e-13 4.26799194e-13\n",
      " 2.48077532e-13 3.72378233e-13 1.00000000e+00 3.74965936e-13\n",
      " 3.39656081e-13 3.88573009e-13]\n",
      "best w0: 0\n"
     ]
    },
    {
     "data": {
      "text/plain": "<Figure size 432x288 with 1 Axes>",
      "image/png": "[encoded data removed]"
     },
     "metadata": {
      "needs_background": "light"
     },
     "output_type": "display_data"
    }
   ],
   "source": [
    "dt_geyser = get_data('data/geyser.csv')\n",
    "x_geyser, y_geyser, cross_data_geyser = get_cross_data(dt_geyser)\n",
    "\n",
    "get_best_classifier_linear(dt_geyser, x_geyser, y_geyser, cross_data_geyser)"
   ],
   "metadata": {
    "collapsed": false,
    "pycharm": {
     "name": "#%%\n"
    }
   }
  },
  {
   "cell_type": "code",
   "execution_count": 12,
   "outputs": [
    {
     "name": "stdout",
     "output_type": "stream",
     "text": [
      "c: 0.05 accuracy: 0.8693693693693694\n",
      "c: 0.1 accuracy: 0.8693693693693694\n",
      "c: 0.5 accuracy: 0.8423423423423424\n",
      "c: 1.0 accuracy: 0.8423423423423424\n",
      "c: 5.0 accuracy: 0.7072072072072072\n",
      "c: 10.0 accuracy: 0.6576576576576576\n",
      "c: 50.0 accuracy: 0.6621621621621622\n",
      "c: 100.0 accuracy: 0.7612612612612613\n",
      "n: 2 accuracy: 0.8693693693693694\n",
      "c: 0.05 accuracy: 0.3963963963963964\n",
      "c: 0.1 accuracy: 0.3963963963963964\n",
      "c: 0.5 accuracy: 0.3963963963963964\n",
      "c: 1.0 accuracy: 0.6216216216216216\n",
      "c: 5.0 accuracy: 0.46396396396396394\n",
      "c: 10.0 accuracy: 0.46396396396396394\n",
      "c: 50.0 accuracy: 0.46396396396396394\n",
      "c: 100.0 accuracy: 0.46396396396396394\n",
      "n: 3 accuracy: 0.6216216216216216\n",
      "c: 0.05 accuracy: 0.527027027027027\n",
      "c: 0.1 accuracy: 0.6036036036036037\n",
      "c: 0.5 accuracy: 0.6531531531531531\n",
      "c: 1.0 accuracy: 0.46396396396396394\n",
      "c: 5.0 accuracy: 0.5495495495495496\n",
      "c: 10.0 accuracy: 0.7522522522522523\n",
      "c: 50.0 accuracy: 0.5\n",
      "c: 100.0 accuracy: 0.5585585585585586\n",
      "n: 4 accuracy: 0.7522522522522523\n",
      "c: 0.05 accuracy: 0.0\n",
      "c: 0.1 accuracy: 0.0\n",
      "c: 0.5 accuracy: 0.0\n",
      "c: 1.0 accuracy: 0.0\n",
      "c: 5.0 accuracy: 0.18018018018018017\n",
      "c: 10.0 accuracy: 0.18018018018018017\n",
      "c: 50.0 accuracy: 0.18018018018018017\n",
      "c: 100.0 accuracy: 0.18018018018018017\n",
      "n: 5 accuracy: 0.18018018018018017\n",
      "best accuracy: 0.8693693693693694\n",
      "best n: 2\n",
      "best c: 0.05\n",
      "best alpha: [5.00000000e-02 5.00000000e-02 5.00000000e-02 5.00000000e-02\n",
      " 5.00000000e-02 5.00000000e-02 5.00000000e-02 5.00000000e-02\n",
      " 5.00000000e-02 5.00000000e-02 5.00000000e-02 5.00000000e-02\n",
      " 5.00000000e-02 5.00000000e-02 5.00000000e-02 5.00000000e-02\n",
      " 5.00000000e-02 5.00000000e-02 5.00000000e-02 5.00000000e-02\n",
      " 5.00000000e-02 5.00000000e-02 5.00000000e-02 5.00000000e-02\n",
      " 5.00000000e-02 5.00000000e-02 5.00000000e-02 5.00000000e-02\n",
      " 5.00000000e-02 5.00000000e-02 5.00000000e-02 5.00000000e-02\n",
      " 5.33691313e-03 5.00000000e-02 2.43290373e-13 5.00000000e-02\n",
      " 5.33691428e-03 5.00000000e-02 5.00000000e-02 5.00000000e-02\n",
      " 5.00000000e-02 5.00000000e-02 5.00000000e-02 5.00000000e-02\n",
      " 5.00000000e-02 5.00000000e-02 5.00000000e-02 5.00000000e-02\n",
      " 1.04269819e-13 5.00000000e-02 5.00000000e-02 5.00000000e-02\n",
      " 5.00000000e-02 5.00000000e-02 5.00000000e-02 1.05731614e-13\n",
      " 1.60044495e-13 1.20374540e-13 5.00000000e-02 5.00000000e-02\n",
      " 1.26927172e-13 5.00000000e-02 6.88431132e-14 5.00000000e-02\n",
      " 5.00000000e-02 5.00000000e-02 5.00000000e-02 2.13045335e-02\n",
      " 4.74227858e-14 5.00000000e-02 5.00000000e-02 5.00000000e-02\n",
      " 2.45028276e-13 4.69214124e-14 2.48333069e-13 1.68238153e-13\n",
      " 2.13390655e-02 9.35580739e-14 5.00000000e-02 5.04625955e-14\n",
      " 5.00000000e-02 5.00000000e-02 5.00000000e-02 9.65837317e-14\n",
      " 1.65126388e-13 1.40234954e-13 1.70185239e-13 1.10037163e-14\n",
      " 1.19618656e-13 1.79914692e-13 9.65322987e-14 1.65207418e-13\n",
      " 5.38915921e-14 5.00000000e-02 1.05521790e-13 6.81784074e-14\n",
      " 5.00000000e-02 1.30714963e-13 1.52342805e-13 1.34225407e-13\n",
      " 5.00000000e-02 2.10758731e-14 1.67113683e-13 4.46385052e-14\n",
      " 1.74616137e-13 0.00000000e+00 1.37024858e-13 1.37966797e-13\n",
      " 1.27129831e-13 3.29813121e-14 5.02333012e-14 0.00000000e+00\n",
      " 6.87922921e-14 0.00000000e+00 1.80618334e-13 9.46590536e-14\n",
      " 6.29595432e-14 6.22271330e-14 5.00000000e-02 4.32998452e-16\n",
      " 9.30989570e-14 0.00000000e+00 5.00000000e-02 5.00000000e-02\n",
      " 2.00150651e-13 7.40883687e-14 1.67353465e-13 1.00178639e-13\n",
      " 5.00000000e-02 2.28385503e-13 5.00000000e-02 4.46963347e-14\n",
      " 9.60348524e-14 0.00000000e+00 4.05475305e-15 8.42222402e-14\n",
      " 0.00000000e+00 1.20790346e-13 5.00000000e-02 2.12669223e-13\n",
      " 1.77677566e-13 2.62582753e-17 8.55534243e-14 2.10186237e-13\n",
      " 8.00457433e-14 0.00000000e+00 1.89321820e-14 0.00000000e+00\n",
      " 8.23021394e-14 5.58625513e-14 5.00000000e-02 1.30342095e-13\n",
      " 9.53329187e-14 6.09383661e-14 0.00000000e+00 0.00000000e+00\n",
      " 0.00000000e+00 0.00000000e+00 0.00000000e+00 9.81460898e-15\n",
      " 9.54834329e-14 1.33783067e-13 1.28305406e-13 1.06595574e-13\n",
      " 0.00000000e+00 4.02631867e-15 1.41807331e-13 4.71264470e-14\n",
      " 9.69850772e-16 6.56960566e-14 3.41830026e-14 3.33533841e-13\n",
      " 1.75236524e-13 2.17632268e-13 3.90018776e-14 3.34780975e-13\n",
      " 1.73535363e-13 1.40923753e-13 5.00000000e-02 5.00000000e-02\n",
      " 0.00000000e+00 1.44619340e-14 9.08821247e-14 5.00000000e-02\n",
      " 0.00000000e+00 0.00000000e+00 0.00000000e+00 0.00000000e+00\n",
      " 1.27000237e-14 0.00000000e+00 0.00000000e+00 1.59434915e-13\n",
      " 0.00000000e+00 5.00000000e-02 0.00000000e+00 6.16805432e-14\n",
      " 5.00000000e-02 0.00000000e+00 0.00000000e+00 1.98331877e-13\n",
      " 1.78052219e-13 0.00000000e+00 2.66935978e-14 5.00000000e-02\n",
      " 0.00000000e+00 3.19697716e-02 1.73063971e-13 0.00000000e+00\n",
      " 1.56250300e-13 5.00000000e-02 0.00000000e+00 3.87163602e-14\n",
      " 5.00000000e-02 0.00000000e+00 3.65692054e-14 0.00000000e+00\n",
      " 1.18726437e-13 0.00000000e+00 5.00000000e-02 0.00000000e+00\n",
      " 0.00000000e+00 0.00000000e+00]\n",
      "best w0: 0\n"
     ]
    },
    {
     "data": {
      "text/plain": "<Figure size 432x288 with 1 Axes>",
      "image/png": "[encoded data removed]"
     },
     "metadata": {
      "needs_background": "light"
     },
     "output_type": "display_data"
    }
   ],
   "source": [
    "get_best_classifier_polynomial(dt_geyser, x_geyser, y_geyser, cross_data_geyser)"
   ],
   "metadata": {
    "collapsed": false,
    "pycharm": {
     "name": "#%%\n"
    }
   }
  },
  {
   "cell_type": "code",
   "execution_count": 15,
   "outputs": [
    {
     "name": "stdout",
     "output_type": "stream",
     "text": [
      "c: 0.05 accuracy: 0.7612612612612613\n",
      "c: 0.1 accuracy: 0.7612612612612613\n",
      "c: 0.5 accuracy: 0.7792792792792793\n",
      "c: 1.0 accuracy: 0.8333333333333334\n",
      "c: 5.0 accuracy: 0.8333333333333333\n",
      "c: 10.0 accuracy: 0.8423423423423424\n",
      "c: 50.0 accuracy: 0.6801801801801802\n",
      "c: 100.0 accuracy: 0.6936936936936937\n",
      "beta: 1 accuracy: 0.8423423423423424\n",
      "c: 0.05 accuracy: 0.8063063063063063\n",
      "c: 0.1 accuracy: 0.8063063063063063\n",
      "c: 0.5 accuracy: 0.8153153153153153\n",
      "c: 1.0 accuracy: 0.8603603603603605\n",
      "c: 5.0 accuracy: 0.8738738738738738\n",
      "c: 10.0 accuracy: 0.8603603603603605\n",
      "c: 50.0 accuracy: 0.7252252252252251\n",
      "c: 100.0 accuracy: 0.6396396396396397\n",
      "beta: 2 accuracy: 0.8738738738738738\n",
      "c: 0.05 accuracy: 0.8288288288288288\n",
      "c: 0.1 accuracy: 0.8288288288288288\n",
      "c: 0.5 accuracy: 0.8423423423423424\n",
      "c: 1.0 accuracy: 0.8738738738738738\n",
      "c: 5.0 accuracy: 0.8693693693693694\n",
      "c: 10.0 accuracy: 0.8378378378378378\n",
      "c: 50.0 accuracy: 0.6891891891891893\n",
      "c: 100.0 accuracy: 0.5765765765765766\n",
      "beta: 3 accuracy: 0.8738738738738738\n",
      "c: 0.05 accuracy: 0.8513513513513513\n",
      "c: 0.1 accuracy: 0.8513513513513513\n",
      "c: 0.5 accuracy: 0.8558558558558559\n",
      "c: 1.0 accuracy: 0.8738738738738738\n",
      "c: 5.0 accuracy: 0.8693693693693694\n",
      "c: 10.0 accuracy: 0.8513513513513513\n",
      "c: 50.0 accuracy: 0.7117117117117118\n",
      "c: 100.0 accuracy: 0.6036036036036037\n",
      "beta: 4 accuracy: 0.8738738738738738\n",
      "c: 0.05 accuracy: 0.8603603603603605\n",
      "c: 0.1 accuracy: 0.8603603603603605\n",
      "c: 0.5 accuracy: 0.8738738738738738\n",
      "c: 1.0 accuracy: 0.8828828828828829\n",
      "c: 5.0 accuracy: 0.8693693693693694\n",
      "c: 10.0 accuracy: 0.8558558558558558\n",
      "c: 50.0 accuracy: 0.5990990990990991\n",
      "c: 100.0 accuracy: 0.527027027027027\n",
      "beta: 5 accuracy: 0.8828828828828829\n",
      "best accuracy: 0.8828828828828829\n",
      "best beta: 5\n",
      "best c: 1.0\n",
      "best alpha: [0.00000000e+00 0.00000000e+00 1.00000000e+00 0.00000000e+00\n",
      " 1.00000000e+00 0.00000000e+00 1.00000000e+00 1.28164331e-01\n",
      " 4.45291863e-01 6.42091585e-01 4.45291890e-01 2.69339855e-15\n",
      " 1.00000000e+00 5.18897428e-14 1.39522776e-01 9.71599471e-01\n",
      " 1.00000000e+00 1.00000000e+00 6.15571933e-01 1.38702503e-01\n",
      " 3.00440355e-01 1.38703161e-01 1.00000000e+00 2.13324122e-01\n",
      " 3.29559311e-14 3.66591435e-01 4.53897913e-03 2.34075754e-02\n",
      " 0.00000000e+00 1.00000000e+00 2.24735358e-01 2.18279349e-01\n",
      " 1.38624973e-02 4.70332521e-02 2.12940411e-01 4.70332521e-02\n",
      " 1.38633263e-02 2.18280802e-01 1.00000000e+00 4.85895733e-01\n",
      " 5.23719370e-01 1.00000000e+00 1.00000000e+00 6.72245316e-01\n",
      " 4.44296857e-01 4.44297567e-01 4.44298030e-01 1.00000000e+00\n",
      " 1.00000000e+00 1.00000000e+00 5.23719983e-01 1.00000000e+00\n",
      " 9.74264595e-01 1.00000000e+00 8.20620284e-01 1.14548095e-01\n",
      " 4.07096329e-01 1.47048677e-01 1.00000000e+00 2.41558901e-01\n",
      " 1.47050343e-01 1.00000000e+00 1.88878749e-01 1.97780575e-01\n",
      " 1.00000000e+00 1.00000000e+00 1.00000000e+00 4.14579422e-01\n",
      " 3.71066897e-01 7.48200573e-01 1.00000000e+00 1.12528639e-01\n",
      " 3.51979903e-02 3.71067153e-01 3.51979903e-02 3.11550960e-14\n",
      " 4.14580728e-01 1.02787067e-02 8.94164256e-01 3.71067453e-01\n",
      " 1.00000000e+00 1.00000000e+00 6.48341084e-01 0.00000000e+00\n",
      " 7.01431296e-02 0.00000000e+00 7.01411746e-02 3.31657255e-01\n",
      " 0.00000000e+00 1.65220475e-02 0.00000000e+00 7.01430524e-02\n",
      " 1.59196752e-02 6.48339488e-01 1.19463616e-01 0.00000000e+00\n",
      " 1.00000000e+00 4.39478523e-01 9.25747519e-01 4.39478634e-01\n",
      " 1.00000000e+00 0.00000000e+00 3.83468947e-01 0.00000000e+00\n",
      " 3.66196337e-01 1.31603457e-02 4.39481624e-01 9.81854892e-01\n",
      " 6.05644776e-01 2.73910650e-02 8.34596059e-02 2.32252628e-02\n",
      " 7.05908587e-02 2.32250109e-02 1.00000000e+00 3.36003577e-01\n",
      " 1.35074476e-01 1.35073149e-01 1.00000000e+00 2.29130722e-02\n",
      " 9.31514708e-02 2.21170728e-14 1.00000000e+00 1.00000000e+00\n",
      " 1.00000000e+00 5.07666919e-01 1.00000000e+00 9.77644132e-01\n",
      " 1.00000000e+00 1.00000000e+00 1.00000000e+00 1.42937471e-01\n",
      " 6.62261029e-01 2.51675399e-14 3.72208218e-14 6.52427379e-01\n",
      " 0.00000000e+00 0.00000000e+00 8.46586956e-01 8.85786004e-02\n",
      " 1.79007411e-15 4.99619175e-02 0.00000000e+00 8.85806557e-02\n",
      " 6.52426016e-01 2.09880037e-01 7.63007300e-02 6.53218043e-02\n",
      " 0.00000000e+00 2.08551568e-02 1.00000000e+00 5.56054869e-02\n",
      " 2.48399564e-02 3.79780143e-01 1.33596476e-01 4.71124872e-02\n",
      " 6.13715538e-02 6.80545769e-02 1.33596516e-01 5.04026254e-02\n",
      " 2.48407862e-02 1.00000000e+00 5.56065413e-02 5.09349742e-01\n",
      " 3.12031139e-01 2.58878069e-14 9.92219312e-01 0.00000000e+00\n",
      " 2.40745938e-14 0.00000000e+00 2.62093441e-14 1.00000000e+00\n",
      " 1.00000000e+00 2.53504535e-01 2.59530898e-14 1.00000000e+00\n",
      " 1.00000000e+00 0.00000000e+00 1.00000000e+00 1.00000000e+00\n",
      " 8.32501222e-02 5.09391848e-02 3.56245183e-02 1.00000000e+00\n",
      " 1.31255369e-01 4.40261330e-01 1.31250278e-01 2.12819743e-01\n",
      " 5.09390479e-02 4.40259243e-01 6.27721073e-01 1.35572165e-01\n",
      " 1.31249585e-01 1.00000000e+00 2.49736453e-01 1.38120267e-02\n",
      " 9.94090933e-01 5.11920898e-01 6.94405304e-01 1.00000000e+00\n",
      " 1.25280513e-01 2.49733042e-01 4.35146761e-02 1.00000000e+00\n",
      " 3.01040069e-02 3.39850328e-01 1.25275368e-01 1.48573340e-01\n",
      " 2.26463912e-01 9.52577389e-01 3.32111619e-01 3.92817266e-14\n",
      " 1.00000000e+00 9.35867411e-02 3.97712306e-14 9.35867411e-02\n",
      " 1.28021591e-02 2.00193533e-01 9.52571139e-01 2.00193533e-01\n",
      " 1.85160807e-01 1.17230660e-01]\n",
      "best w0: 0\n"
     ]
    },
    {
     "data": {
      "text/plain": "<Figure size 432x288 with 1 Axes>",
      "image/png": "[encoded data removed]"
     },
     "metadata": {
      "needs_background": "light"
     },
     "output_type": "display_data"
    }
   ],
   "source": [
    "get_best_classifier_gaussian(dt_geyser, x_geyser, y_geyser, cross_data_geyser)"
   ],
   "metadata": {
    "collapsed": false,
    "pycharm": {
     "name": "#%%\n"
    }
   }
  },
  {
   "cell_type": "code",
   "execution_count": null,
   "outputs": [],
   "source": [],
   "metadata": {
    "collapsed": false,
    "pycharm": {
     "name": "#%%\n"
    }
   }
  }
 ],
 "metadata": {
  "kernelspec": {
   "display_name": "Python 3",
   "language": "python",
   "name": "python3"
  },
  "language_info": {
   "codemirror_mode": {
    "name": "ipython",
    "version": 2
   },
   "file_extension": ".py",
   "mimetype": "text/x-python",
   "name": "python",
   "nbconvert_exporter": "python",
   "pygments_lexer": "ipython2",
   "version": "2.7.6"
  }
 },
 "nbformat": 4,
 "nbformat_minor": 0
}